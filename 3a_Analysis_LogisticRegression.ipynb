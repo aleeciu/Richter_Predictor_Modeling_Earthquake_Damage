{
 "cells": [
  {
   "cell_type": "code",
   "execution_count": 9,
   "id": "entertaining-method",
   "metadata": {},
   "outputs": [],
   "source": [
    "import numpy as np\n",
    "import pandas as pd\n",
    "\n",
    "import joblib\n",
    "\n",
    "from sklearn.preprocessing import StandardScaler\n",
    "from sklearn.model_selection import train_test_split\n",
    "\n",
    "from sklearn.linear_model import LogisticRegression"
   ]
  },
  {
   "cell_type": "code",
   "execution_count": 2,
   "id": "israeli-writing",
   "metadata": {},
   "outputs": [],
   "source": [
    "def scale(x_train, x_test):\n",
    "    scaler = StandardScaler()\n",
    "    scaler.fit(x_train)\n",
    "\n",
    "    x_train = pd.DataFrame(scaler.transform(x_train), \n",
    "                           index=x_train.index, \n",
    "                           columns=x_train.columns)\n",
    "\n",
    "    x_test = pd.DataFrame(scaler.transform(x_test),\n",
    "                          index=x_test.index, \n",
    "                          columns=x_test.columns)\n",
    "    return x_train, x_test"
   ]
  },
  {
   "cell_type": "code",
   "execution_count": 12,
   "id": "covered-leisure",
   "metadata": {},
   "outputs": [
    {
     "data": {
      "text/plain": [
       "{'C': 1.0, 'penalty': 'l2'}"
      ]
     },
     "execution_count": 12,
     "metadata": {},
     "output_type": "execute_result"
    }
   ],
   "source": [
    "parms = joblib.load('../Project_data/results/log_gridsearch.joblib')\n",
    "parms.best_params_"
   ]
  },
  {
   "cell_type": "code",
   "execution_count": 14,
   "id": "impossible-grade",
   "metadata": {},
   "outputs": [],
   "source": [
    "logreg=LogisticRegression(solver='saga', \n",
    "                          multi_class='multinomial', \n",
    "                          verbose=1, \n",
    "                          max_iter=200,\n",
    "                          **parms.best_params_)"
   ]
  },
  {
   "cell_type": "markdown",
   "id": "choice-provider",
   "metadata": {},
   "source": [
    "## 1. 5-classes classification:"
   ]
  },
  {
   "cell_type": "markdown",
   "id": "changed-truck",
   "metadata": {},
   "source": [
    "### 1.1. Original set"
   ]
  },
  {
   "cell_type": "code",
   "execution_count": 3,
   "id": "spoken-programmer",
   "metadata": {},
   "outputs": [],
   "source": [
    "x = pd.read_csv('../Project_data/processed_data/x_post_preproc.csv', index_col='building_id')\n",
    "y = pd.read_csv('../Project_data/processed_data/y_post_preproc.csv', index_col='building_id')"
   ]
  },
  {
   "cell_type": "code",
   "execution_count": 4,
   "id": "effective-friday",
   "metadata": {},
   "outputs": [],
   "source": [
    "x_train, x_test = train_test_split(x, test_size=0.2, random_state=42)\n",
    "y_train, y_test = y.loc[x_train.index], y.loc[x_test.index]"
   ]
  },
  {
   "cell_type": "code",
   "execution_count": 5,
   "id": "overhead-finder",
   "metadata": {},
   "outputs": [],
   "source": [
    "x_train_norm, x_test_norm = scale(x_train, x_test)"
   ]
  },
  {
   "cell_type": "code",
   "execution_count": 15,
   "id": "atlantic-question",
   "metadata": {},
   "outputs": [
    {
     "name": "stderr",
     "output_type": "stream",
     "text": [
      "[Parallel(n_jobs=1)]: Using backend SequentialBackend with 1 concurrent workers.\n"
     ]
    },
    {
     "name": "stdout",
     "output_type": "stream",
     "text": [
      "convergence after 108 epochs took 476 seconds\n"
     ]
    },
    {
     "name": "stderr",
     "output_type": "stream",
     "text": [
      "[Parallel(n_jobs=1)]: Done   1 out of   1 | elapsed:  8.0min finished\n"
     ]
    },
    {
     "data": {
      "text/plain": [
       "LogisticRegression(max_iter=200, multi_class='multinomial', solver='saga',\n",
       "                   verbose=1)"
      ]
     },
     "execution_count": 15,
     "metadata": {},
     "output_type": "execute_result"
    }
   ],
   "source": [
    "logreg.fit(x_train_norm, y_train.values.ravel())"
   ]
  },
  {
   "cell_type": "code",
   "execution_count": 40,
   "id": "standard-benchmark",
   "metadata": {},
   "outputs": [],
   "source": [
    "prediction = logreg.predict(x_test_norm)\n",
    "pred_proba = logreg.predict_proba(x_test_norm)"
   ]
  },
  {
   "cell_type": "code",
   "execution_count": 42,
   "id": "manufactured-modeling",
   "metadata": {},
   "outputs": [
    {
     "data": {
      "text/html": [
       "<div>\n",
       "<style scoped>\n",
       "    .dataframe tbody tr th:only-of-type {\n",
       "        vertical-align: middle;\n",
       "    }\n",
       "\n",
       "    .dataframe tbody tr th {\n",
       "        vertical-align: top;\n",
       "    }\n",
       "\n",
       "    .dataframe thead th {\n",
       "        text-align: right;\n",
       "    }\n",
       "</style>\n",
       "<table border=\"1\" class=\"dataframe\">\n",
       "  <thead>\n",
       "    <tr style=\"text-align: right;\">\n",
       "      <th></th>\n",
       "      <th>0</th>\n",
       "      <th>1</th>\n",
       "      <th>2</th>\n",
       "      <th>3</th>\n",
       "      <th>4</th>\n",
       "      <th>5</th>\n",
       "    </tr>\n",
       "  </thead>\n",
       "  <tbody>\n",
       "    <tr>\n",
       "      <th>0</th>\n",
       "      <td>Grade_3</td>\n",
       "      <td>0.037906</td>\n",
       "      <td>0.17795</td>\n",
       "      <td>0.405512</td>\n",
       "      <td>0.267498</td>\n",
       "      <td>0.111134</td>\n",
       "    </tr>\n",
       "    <tr>\n",
       "      <th>1</th>\n",
       "      <td>Grade_2</td>\n",
       "      <td>0.114363</td>\n",
       "      <td>0.518469</td>\n",
       "      <td>0.203811</td>\n",
       "      <td>0.072554</td>\n",
       "      <td>0.090804</td>\n",
       "    </tr>\n",
       "    <tr>\n",
       "      <th>2</th>\n",
       "      <td>Grade_4</td>\n",
       "      <td>0.005979</td>\n",
       "      <td>0.012413</td>\n",
       "      <td>0.092188</td>\n",
       "      <td>0.670673</td>\n",
       "      <td>0.218747</td>\n",
       "    </tr>\n",
       "    <tr>\n",
       "      <th>3</th>\n",
       "      <td>Grade_3</td>\n",
       "      <td>0.035994</td>\n",
       "      <td>0.132767</td>\n",
       "      <td>0.459925</td>\n",
       "      <td>0.267166</td>\n",
       "      <td>0.104147</td>\n",
       "    </tr>\n",
       "    <tr>\n",
       "      <th>4</th>\n",
       "      <td>Grade_5</td>\n",
       "      <td>0.008275</td>\n",
       "      <td>0.018981</td>\n",
       "      <td>0.057072</td>\n",
       "      <td>0.195429</td>\n",
       "      <td>0.720243</td>\n",
       "    </tr>\n",
       "  </tbody>\n",
       "</table>\n",
       "</div>"
      ],
      "text/plain": [
       "         0         1         2         3         4         5\n",
       "0  Grade_3  0.037906   0.17795  0.405512  0.267498  0.111134\n",
       "1  Grade_2  0.114363  0.518469  0.203811  0.072554  0.090804\n",
       "2  Grade_4  0.005979  0.012413  0.092188  0.670673  0.218747\n",
       "3  Grade_3  0.035994  0.132767  0.459925  0.267166  0.104147\n",
       "4  Grade_5  0.008275  0.018981  0.057072  0.195429  0.720243"
      ]
     },
     "execution_count": 42,
     "metadata": {},
     "output_type": "execute_result"
    }
   ],
   "source": [
    "preds = pd.DataFrame(np.hstack([np.reshape(prediction,(-1,1)), pred_proba]))\n",
    "preds.head()"
   ]
  },
  {
   "cell_type": "code",
   "execution_count": 44,
   "id": "extended-chamber",
   "metadata": {},
   "outputs": [],
   "source": [
    "preds.to_csv('../Project_data/results/log_preds_orig.csv')"
   ]
  },
  {
   "cell_type": "markdown",
   "id": "compact-share",
   "metadata": {},
   "source": [
    "## make a function that needs not classifier, so you only save prediction and prediction proba - maybe save the two in the same file - how is prediction made from the prediction proba? - maybe .5 threshold per class, check"
   ]
  },
  {
   "cell_type": "markdown",
   "id": "weird-glasgow",
   "metadata": {},
   "source": [
    "### 1.2 Resampled set:"
   ]
  },
  {
   "cell_type": "markdown",
   "id": "italic-fashion",
   "metadata": {},
   "source": [
    "#### 1.2.1 Over-sampling with SMOTENC"
   ]
  },
  {
   "cell_type": "code",
   "execution_count": 45,
   "id": "physical-compound",
   "metadata": {},
   "outputs": [
    {
     "name": "stderr",
     "output_type": "stream",
     "text": [
      "C:\\Users\\aleciu\\Anaconda3\\envs\\ml\\lib\\site-packages\\numpy\\lib\\arraysetops.py:580: FutureWarning: elementwise comparison failed; returning scalar instead, but in the future will perform elementwise comparison\n",
      "  mask |= (ar1 == a)\n"
     ]
    }
   ],
   "source": [
    "x_train = pd.read_csv('../Project_data/processed_data/resampling/x_train_smotenc.csv', index_col=0).reset_index(drop=True)\n",
    "y_train = pd.read_csv('../Project_data/processed_data/resampling/y_train_smotenc.csv', index_col=0).reset_index(drop=True)"
   ]
  },
  {
   "cell_type": "code",
   "execution_count": 46,
   "id": "connected-hardware",
   "metadata": {},
   "outputs": [],
   "source": [
    "x_train_norm, x_test_norm = scale(x_train, x_test)"
   ]
  },
  {
   "cell_type": "code",
   "execution_count": 47,
   "id": "hidden-norman",
   "metadata": {},
   "outputs": [
    {
     "name": "stderr",
     "output_type": "stream",
     "text": [
      "[Parallel(n_jobs=1)]: Using backend SequentialBackend with 1 concurrent workers.\n"
     ]
    },
    {
     "name": "stdout",
     "output_type": "stream",
     "text": [
      "max_iter reached after 1368 seconds\n"
     ]
    },
    {
     "name": "stderr",
     "output_type": "stream",
     "text": [
      "C:\\Users\\aleciu\\Anaconda3\\envs\\ml\\lib\\site-packages\\sklearn\\linear_model\\_sag.py:329: ConvergenceWarning: The max_iter was reached which means the coef_ did not converge\n",
      "  \"the coef_ did not converge\", ConvergenceWarning)\n",
      "[Parallel(n_jobs=1)]: Done   1 out of   1 | elapsed: 22.9min finished\n"
     ]
    },
    {
     "data": {
      "text/plain": [
       "LogisticRegression(max_iter=200, multi_class='multinomial', solver='saga',\n",
       "                   verbose=1)"
      ]
     },
     "execution_count": 47,
     "metadata": {},
     "output_type": "execute_result"
    }
   ],
   "source": [
    "logreg.fit(x_train_norm, y_train.values.ravel())"
   ]
  },
  {
   "cell_type": "code",
   "execution_count": 50,
   "id": "micro-location",
   "metadata": {},
   "outputs": [],
   "source": [
    "prediction = logreg.predict(x_test_norm)\n",
    "pred_proba = logreg.predict_proba(x_test_norm)"
   ]
  },
  {
   "cell_type": "code",
   "execution_count": 51,
   "id": "fatty-functionality",
   "metadata": {},
   "outputs": [
    {
     "data": {
      "text/html": [
       "<div>\n",
       "<style scoped>\n",
       "    .dataframe tbody tr th:only-of-type {\n",
       "        vertical-align: middle;\n",
       "    }\n",
       "\n",
       "    .dataframe tbody tr th {\n",
       "        vertical-align: top;\n",
       "    }\n",
       "\n",
       "    .dataframe thead th {\n",
       "        text-align: right;\n",
       "    }\n",
       "</style>\n",
       "<table border=\"1\" class=\"dataframe\">\n",
       "  <thead>\n",
       "    <tr style=\"text-align: right;\">\n",
       "      <th></th>\n",
       "      <th>0</th>\n",
       "      <th>1</th>\n",
       "      <th>2</th>\n",
       "      <th>3</th>\n",
       "      <th>4</th>\n",
       "      <th>5</th>\n",
       "    </tr>\n",
       "  </thead>\n",
       "  <tbody>\n",
       "    <tr>\n",
       "      <th>0</th>\n",
       "      <td>Grade_3</td>\n",
       "      <td>0.033531</td>\n",
       "      <td>0.259614</td>\n",
       "      <td>0.446449</td>\n",
       "      <td>0.183761</td>\n",
       "      <td>0.076646</td>\n",
       "    </tr>\n",
       "    <tr>\n",
       "      <th>1</th>\n",
       "      <td>Grade_2</td>\n",
       "      <td>0.136831</td>\n",
       "      <td>0.628951</td>\n",
       "      <td>0.159758</td>\n",
       "      <td>0.033517</td>\n",
       "      <td>0.040943</td>\n",
       "    </tr>\n",
       "    <tr>\n",
       "      <th>2</th>\n",
       "      <td>Grade_4</td>\n",
       "      <td>0.001265</td>\n",
       "      <td>0.004286</td>\n",
       "      <td>0.050098</td>\n",
       "      <td>0.622184</td>\n",
       "      <td>0.322166</td>\n",
       "    </tr>\n",
       "    <tr>\n",
       "      <th>3</th>\n",
       "      <td>Grade_3</td>\n",
       "      <td>0.014555</td>\n",
       "      <td>0.164016</td>\n",
       "      <td>0.538524</td>\n",
       "      <td>0.224724</td>\n",
       "      <td>0.058181</td>\n",
       "    </tr>\n",
       "    <tr>\n",
       "      <th>4</th>\n",
       "      <td>Grade_5</td>\n",
       "      <td>0.009972</td>\n",
       "      <td>0.043496</td>\n",
       "      <td>0.095544</td>\n",
       "      <td>0.285311</td>\n",
       "      <td>0.565677</td>\n",
       "    </tr>\n",
       "  </tbody>\n",
       "</table>\n",
       "</div>"
      ],
      "text/plain": [
       "         0         1         2         3         4         5\n",
       "0  Grade_3  0.033531  0.259614  0.446449  0.183761  0.076646\n",
       "1  Grade_2  0.136831  0.628951  0.159758  0.033517  0.040943\n",
       "2  Grade_4  0.001265  0.004286  0.050098  0.622184  0.322166\n",
       "3  Grade_3  0.014555  0.164016  0.538524  0.224724  0.058181\n",
       "4  Grade_5  0.009972  0.043496  0.095544  0.285311  0.565677"
      ]
     },
     "execution_count": 51,
     "metadata": {},
     "output_type": "execute_result"
    }
   ],
   "source": [
    "preds = pd.DataFrame(np.hstack([np.reshape(prediction,(-1,1)), pred_proba]))\n",
    "preds.head()"
   ]
  },
  {
   "cell_type": "code",
   "execution_count": 52,
   "id": "victorian-filter",
   "metadata": {},
   "outputs": [],
   "source": [
    "preds.to_csv('../Project_data/results/log_preds_smotenc.csv')"
   ]
  },
  {
   "cell_type": "markdown",
   "id": "inner-terrain",
   "metadata": {},
   "source": [
    "### 1.2.2 Under-sampling: cleaning oversampled dataset"
   ]
  },
  {
   "cell_type": "markdown",
   "id": "coated-resource",
   "metadata": {},
   "source": [
    "#### 1.2.2.1 Tomek"
   ]
  },
  {
   "cell_type": "code",
   "execution_count": 53,
   "id": "interim-chassis",
   "metadata": {},
   "outputs": [],
   "source": [
    "x_train = pd.read_csv('../Project_data/processed_data/resampling/x_train_smotenc_tmk.csv', index_col=0).reset_index(drop=True)\n",
    "y_train = pd.read_csv('../Project_data/processed_data/resampling/y_train_smotenc_tmk.csv', index_col=0).reset_index(drop=True)"
   ]
  },
  {
   "cell_type": "code",
   "execution_count": 54,
   "id": "governmental-sandwich",
   "metadata": {},
   "outputs": [],
   "source": [
    "x_train_norm, x_test_norm = scale(x_train, x_test)"
   ]
  },
  {
   "cell_type": "code",
   "execution_count": 55,
   "id": "neutral-ethernet",
   "metadata": {},
   "outputs": [
    {
     "name": "stderr",
     "output_type": "stream",
     "text": [
      "[Parallel(n_jobs=1)]: Using backend SequentialBackend with 1 concurrent workers.\n"
     ]
    },
    {
     "name": "stdout",
     "output_type": "stream",
     "text": [
      "max_iter reached after 1177 seconds\n"
     ]
    },
    {
     "name": "stderr",
     "output_type": "stream",
     "text": [
      "C:\\Users\\aleciu\\Anaconda3\\envs\\ml\\lib\\site-packages\\sklearn\\linear_model\\_sag.py:329: ConvergenceWarning: The max_iter was reached which means the coef_ did not converge\n",
      "  \"the coef_ did not converge\", ConvergenceWarning)\n",
      "[Parallel(n_jobs=1)]: Done   1 out of   1 | elapsed: 19.7min finished\n"
     ]
    },
    {
     "data": {
      "text/plain": [
       "LogisticRegression(max_iter=200, multi_class='multinomial', solver='saga',\n",
       "                   verbose=1)"
      ]
     },
     "execution_count": 55,
     "metadata": {},
     "output_type": "execute_result"
    }
   ],
   "source": [
    "logreg.fit(x_train_norm, y_train.values.ravel())"
   ]
  },
  {
   "cell_type": "code",
   "execution_count": 57,
   "id": "uniform-complexity",
   "metadata": {},
   "outputs": [],
   "source": [
    "prediction = logreg.predict(x_test_norm)\n",
    "pred_proba = logreg.predict_proba(x_test_norm)"
   ]
  },
  {
   "cell_type": "code",
   "execution_count": 58,
   "id": "stainless-profile",
   "metadata": {},
   "outputs": [
    {
     "data": {
      "text/html": [
       "<div>\n",
       "<style scoped>\n",
       "    .dataframe tbody tr th:only-of-type {\n",
       "        vertical-align: middle;\n",
       "    }\n",
       "\n",
       "    .dataframe tbody tr th {\n",
       "        vertical-align: top;\n",
       "    }\n",
       "\n",
       "    .dataframe thead th {\n",
       "        text-align: right;\n",
       "    }\n",
       "</style>\n",
       "<table border=\"1\" class=\"dataframe\">\n",
       "  <thead>\n",
       "    <tr style=\"text-align: right;\">\n",
       "      <th></th>\n",
       "      <th>0</th>\n",
       "      <th>1</th>\n",
       "      <th>2</th>\n",
       "      <th>3</th>\n",
       "      <th>4</th>\n",
       "      <th>5</th>\n",
       "    </tr>\n",
       "  </thead>\n",
       "  <tbody>\n",
       "    <tr>\n",
       "      <th>0</th>\n",
       "      <td>Grade_3</td>\n",
       "      <td>0.031675</td>\n",
       "      <td>0.272507</td>\n",
       "      <td>0.445336</td>\n",
       "      <td>0.177777</td>\n",
       "      <td>0.072705</td>\n",
       "    </tr>\n",
       "    <tr>\n",
       "      <th>1</th>\n",
       "      <td>Grade_2</td>\n",
       "      <td>0.140317</td>\n",
       "      <td>0.647568</td>\n",
       "      <td>0.149445</td>\n",
       "      <td>0.02843</td>\n",
       "      <td>0.03424</td>\n",
       "    </tr>\n",
       "    <tr>\n",
       "      <th>2</th>\n",
       "      <td>Grade_4</td>\n",
       "      <td>0.001132</td>\n",
       "      <td>0.004014</td>\n",
       "      <td>0.046684</td>\n",
       "      <td>0.618539</td>\n",
       "      <td>0.32963</td>\n",
       "    </tr>\n",
       "    <tr>\n",
       "      <th>3</th>\n",
       "      <td>Grade_3</td>\n",
       "      <td>0.014885</td>\n",
       "      <td>0.174216</td>\n",
       "      <td>0.548209</td>\n",
       "      <td>0.214466</td>\n",
       "      <td>0.048224</td>\n",
       "    </tr>\n",
       "    <tr>\n",
       "      <th>4</th>\n",
       "      <td>Grade_5</td>\n",
       "      <td>0.010062</td>\n",
       "      <td>0.045245</td>\n",
       "      <td>0.0978</td>\n",
       "      <td>0.290711</td>\n",
       "      <td>0.556181</td>\n",
       "    </tr>\n",
       "  </tbody>\n",
       "</table>\n",
       "</div>"
      ],
      "text/plain": [
       "         0         1         2         3         4         5\n",
       "0  Grade_3  0.031675  0.272507  0.445336  0.177777  0.072705\n",
       "1  Grade_2  0.140317  0.647568  0.149445   0.02843   0.03424\n",
       "2  Grade_4  0.001132  0.004014  0.046684  0.618539   0.32963\n",
       "3  Grade_3  0.014885  0.174216  0.548209  0.214466  0.048224\n",
       "4  Grade_5  0.010062  0.045245    0.0978  0.290711  0.556181"
      ]
     },
     "execution_count": 58,
     "metadata": {},
     "output_type": "execute_result"
    }
   ],
   "source": [
    "preds = pd.DataFrame(np.hstack([np.reshape(prediction,(-1,1)), pred_proba]))\n",
    "preds.head()"
   ]
  },
  {
   "cell_type": "code",
   "execution_count": 59,
   "id": "going-fiction",
   "metadata": {},
   "outputs": [],
   "source": [
    "preds.to_csv('../Project_data/results/log_preds_smotenc_tmk.csv')"
   ]
  },
  {
   "cell_type": "markdown",
   "id": "wrong-malpractice",
   "metadata": {},
   "source": [
    "#### 1.2.2.2 ENN"
   ]
  },
  {
   "cell_type": "code",
   "execution_count": 60,
   "id": "incident-england",
   "metadata": {},
   "outputs": [],
   "source": [
    "x_train = pd.read_csv('../Project_data/processed_data/resampling/x_train_smotenc_enn.csv', index_col=0).reset_index(drop=True)\n",
    "y_train = pd.read_csv('../Project_data/processed_data/resampling/y_train_smotenc_enn.csv', index_col=0).reset_index(drop=True)"
   ]
  },
  {
   "cell_type": "code",
   "execution_count": 61,
   "id": "received-hours",
   "metadata": {},
   "outputs": [],
   "source": [
    "x_train_norm, x_test_norm = scale(x_train, x_test)"
   ]
  },
  {
   "cell_type": "code",
   "execution_count": 62,
   "id": "careful-chorus",
   "metadata": {},
   "outputs": [
    {
     "name": "stderr",
     "output_type": "stream",
     "text": [
      "[Parallel(n_jobs=1)]: Using backend SequentialBackend with 1 concurrent workers.\n"
     ]
    },
    {
     "name": "stdout",
     "output_type": "stream",
     "text": [
      "max_iter reached after 668 seconds\n"
     ]
    },
    {
     "name": "stderr",
     "output_type": "stream",
     "text": [
      "C:\\Users\\aleciu\\Anaconda3\\envs\\ml\\lib\\site-packages\\sklearn\\linear_model\\_sag.py:329: ConvergenceWarning: The max_iter was reached which means the coef_ did not converge\n",
      "  \"the coef_ did not converge\", ConvergenceWarning)\n",
      "[Parallel(n_jobs=1)]: Done   1 out of   1 | elapsed: 11.2min finished\n"
     ]
    },
    {
     "data": {
      "text/plain": [
       "LogisticRegression(max_iter=200, multi_class='multinomial', solver='saga',\n",
       "                   verbose=1)"
      ]
     },
     "execution_count": 62,
     "metadata": {},
     "output_type": "execute_result"
    }
   ],
   "source": [
    "logreg.fit(x_train_norm, y_train.values.ravel())"
   ]
  },
  {
   "cell_type": "code",
   "execution_count": 64,
   "id": "atlantic-formation",
   "metadata": {},
   "outputs": [],
   "source": [
    "prediction = logreg.predict(x_test_norm)\n",
    "pred_proba = logreg.predict_proba(x_test_norm)"
   ]
  },
  {
   "cell_type": "code",
   "execution_count": 65,
   "id": "animated-effectiveness",
   "metadata": {},
   "outputs": [
    {
     "data": {
      "text/html": [
       "<div>\n",
       "<style scoped>\n",
       "    .dataframe tbody tr th:only-of-type {\n",
       "        vertical-align: middle;\n",
       "    }\n",
       "\n",
       "    .dataframe tbody tr th {\n",
       "        vertical-align: top;\n",
       "    }\n",
       "\n",
       "    .dataframe thead th {\n",
       "        text-align: right;\n",
       "    }\n",
       "</style>\n",
       "<table border=\"1\" class=\"dataframe\">\n",
       "  <thead>\n",
       "    <tr style=\"text-align: right;\">\n",
       "      <th></th>\n",
       "      <th>0</th>\n",
       "      <th>1</th>\n",
       "      <th>2</th>\n",
       "      <th>3</th>\n",
       "      <th>4</th>\n",
       "      <th>5</th>\n",
       "    </tr>\n",
       "  </thead>\n",
       "  <tbody>\n",
       "    <tr>\n",
       "      <th>0</th>\n",
       "      <td>Grade_3</td>\n",
       "      <td>0.036799</td>\n",
       "      <td>0.331258</td>\n",
       "      <td>0.459154</td>\n",
       "      <td>0.13851</td>\n",
       "      <td>0.034279</td>\n",
       "    </tr>\n",
       "    <tr>\n",
       "      <th>1</th>\n",
       "      <td>Grade_2</td>\n",
       "      <td>0.188665</td>\n",
       "      <td>0.708398</td>\n",
       "      <td>0.090632</td>\n",
       "      <td>0.006837</td>\n",
       "      <td>0.005468</td>\n",
       "    </tr>\n",
       "    <tr>\n",
       "      <th>2</th>\n",
       "      <td>Grade_4</td>\n",
       "      <td>0.001534</td>\n",
       "      <td>0.00568</td>\n",
       "      <td>0.057305</td>\n",
       "      <td>0.64131</td>\n",
       "      <td>0.294172</td>\n",
       "    </tr>\n",
       "    <tr>\n",
       "      <th>3</th>\n",
       "      <td>Grade_3</td>\n",
       "      <td>0.020613</td>\n",
       "      <td>0.241167</td>\n",
       "      <td>0.586275</td>\n",
       "      <td>0.141086</td>\n",
       "      <td>0.010859</td>\n",
       "    </tr>\n",
       "    <tr>\n",
       "      <th>4</th>\n",
       "      <td>Grade_5</td>\n",
       "      <td>0.013702</td>\n",
       "      <td>0.066389</td>\n",
       "      <td>0.125699</td>\n",
       "      <td>0.342573</td>\n",
       "      <td>0.451637</td>\n",
       "    </tr>\n",
       "  </tbody>\n",
       "</table>\n",
       "</div>"
      ],
      "text/plain": [
       "         0         1         2         3         4         5\n",
       "0  Grade_3  0.036799  0.331258  0.459154   0.13851  0.034279\n",
       "1  Grade_2  0.188665  0.708398  0.090632  0.006837  0.005468\n",
       "2  Grade_4  0.001534   0.00568  0.057305   0.64131  0.294172\n",
       "3  Grade_3  0.020613  0.241167  0.586275  0.141086  0.010859\n",
       "4  Grade_5  0.013702  0.066389  0.125699  0.342573  0.451637"
      ]
     },
     "execution_count": 65,
     "metadata": {},
     "output_type": "execute_result"
    }
   ],
   "source": [
    "preds = pd.DataFrame(np.hstack([np.reshape(prediction,(-1,1)), pred_proba]))\n",
    "preds.head()"
   ]
  },
  {
   "cell_type": "code",
   "execution_count": 66,
   "id": "norman-unknown",
   "metadata": {},
   "outputs": [],
   "source": [
    "preds.to_csv('../Project_data/results/log_preds_smotenc_enn.csv')"
   ]
  },
  {
   "cell_type": "markdown",
   "id": "lightweight-census",
   "metadata": {},
   "source": [
    "## 2. 3-classes classification:"
   ]
  },
  {
   "cell_type": "code",
   "execution_count": 67,
   "id": "running-distribution",
   "metadata": {},
   "outputs": [],
   "source": [
    "x = pd.read_csv('../Project_data/processed_data/x_post_preproc.csv', index_col='building_id')\n",
    "y = pd.read_csv('../Project_data/processed_data/y_post_preproc_3lab.csv', index_col='building_id')"
   ]
  },
  {
   "cell_type": "code",
   "execution_count": 68,
   "id": "solar-ethnic",
   "metadata": {},
   "outputs": [],
   "source": [
    "x_train, x_test = train_test_split(x, test_size=0.2, random_state=42)\n",
    "y_train, y_test = y.loc[x_train.index], y.loc[x_test.index]"
   ]
  },
  {
   "cell_type": "code",
   "execution_count": 69,
   "id": "hourly-bookmark",
   "metadata": {},
   "outputs": [],
   "source": [
    "x_train_norm, x_test_norm = scale(x_train, x_test)"
   ]
  },
  {
   "cell_type": "code",
   "execution_count": 70,
   "id": "greater-ivory",
   "metadata": {},
   "outputs": [
    {
     "name": "stderr",
     "output_type": "stream",
     "text": [
      "[Parallel(n_jobs=1)]: Using backend SequentialBackend with 1 concurrent workers.\n"
     ]
    },
    {
     "name": "stdout",
     "output_type": "stream",
     "text": [
      "convergence after 66 epochs took 191 seconds\n"
     ]
    },
    {
     "name": "stderr",
     "output_type": "stream",
     "text": [
      "[Parallel(n_jobs=1)]: Done   1 out of   1 | elapsed:  3.2min finished\n"
     ]
    },
    {
     "data": {
      "text/plain": [
       "LogisticRegression(max_iter=200, multi_class='multinomial', solver='saga',\n",
       "                   verbose=1)"
      ]
     },
     "execution_count": 70,
     "metadata": {},
     "output_type": "execute_result"
    }
   ],
   "source": [
    "logreg.fit(x_train_norm, y_train.values.ravel())"
   ]
  },
  {
   "cell_type": "code",
   "execution_count": 71,
   "id": "thick-burns",
   "metadata": {},
   "outputs": [
    {
     "data": {
      "text/plain": [
       "array(['G2', 'G1', 'G2', ..., 'G2', 'G2', 'G2'], dtype=object)"
      ]
     },
     "execution_count": 71,
     "metadata": {},
     "output_type": "execute_result"
    }
   ],
   "source": [
    "logreg.predict(x_test_norm)"
   ]
  },
  {
   "cell_type": "code",
   "execution_count": 72,
   "id": "potential-delivery",
   "metadata": {},
   "outputs": [],
   "source": [
    "prediction = logreg.predict(x_test_norm)\n",
    "pred_proba = logreg.predict_proba(x_test_norm)"
   ]
  },
  {
   "cell_type": "code",
   "execution_count": 73,
   "id": "starting-extraction",
   "metadata": {},
   "outputs": [
    {
     "data": {
      "text/html": [
       "<div>\n",
       "<style scoped>\n",
       "    .dataframe tbody tr th:only-of-type {\n",
       "        vertical-align: middle;\n",
       "    }\n",
       "\n",
       "    .dataframe tbody tr th {\n",
       "        vertical-align: top;\n",
       "    }\n",
       "\n",
       "    .dataframe thead th {\n",
       "        text-align: right;\n",
       "    }\n",
       "</style>\n",
       "<table border=\"1\" class=\"dataframe\">\n",
       "  <thead>\n",
       "    <tr style=\"text-align: right;\">\n",
       "      <th></th>\n",
       "      <th>0</th>\n",
       "      <th>1</th>\n",
       "      <th>2</th>\n",
       "      <th>3</th>\n",
       "    </tr>\n",
       "  </thead>\n",
       "  <tbody>\n",
       "    <tr>\n",
       "      <th>0</th>\n",
       "      <td>G2</td>\n",
       "      <td>0.210791</td>\n",
       "      <td>0.675913</td>\n",
       "      <td>0.113296</td>\n",
       "    </tr>\n",
       "    <tr>\n",
       "      <th>1</th>\n",
       "      <td>G1</td>\n",
       "      <td>0.615668</td>\n",
       "      <td>0.277009</td>\n",
       "      <td>0.107323</td>\n",
       "    </tr>\n",
       "    <tr>\n",
       "      <th>2</th>\n",
       "      <td>G2</td>\n",
       "      <td>0.025303</td>\n",
       "      <td>0.743056</td>\n",
       "      <td>0.231641</td>\n",
       "    </tr>\n",
       "    <tr>\n",
       "      <th>3</th>\n",
       "      <td>G2</td>\n",
       "      <td>0.155374</td>\n",
       "      <td>0.740178</td>\n",
       "      <td>0.104448</td>\n",
       "    </tr>\n",
       "    <tr>\n",
       "      <th>4</th>\n",
       "      <td>G3</td>\n",
       "      <td>0.0313</td>\n",
       "      <td>0.255617</td>\n",
       "      <td>0.713083</td>\n",
       "    </tr>\n",
       "  </tbody>\n",
       "</table>\n",
       "</div>"
      ],
      "text/plain": [
       "    0         1         2         3\n",
       "0  G2  0.210791  0.675913  0.113296\n",
       "1  G1  0.615668  0.277009  0.107323\n",
       "2  G2  0.025303  0.743056  0.231641\n",
       "3  G2  0.155374  0.740178  0.104448\n",
       "4  G3    0.0313  0.255617  0.713083"
      ]
     },
     "execution_count": 73,
     "metadata": {},
     "output_type": "execute_result"
    }
   ],
   "source": [
    "preds = pd.DataFrame(np.hstack([np.reshape(prediction,(-1,1)), pred_proba]))\n",
    "preds.head()"
   ]
  },
  {
   "cell_type": "code",
   "execution_count": 74,
   "id": "clear-coaching",
   "metadata": {},
   "outputs": [],
   "source": [
    "preds.to_csv('../Project_data/results/log_preds_3cls.csv')"
   ]
  },
  {
   "cell_type": "code",
   "execution_count": null,
   "id": "sixth-punch",
   "metadata": {},
   "outputs": [],
   "source": []
  }
 ],
 "metadata": {
  "kernelspec": {
   "display_name": "Python 3",
   "language": "python",
   "name": "python3"
  },
  "language_info": {
   "codemirror_mode": {
    "name": "ipython",
    "version": 3
   },
   "file_extension": ".py",
   "mimetype": "text/x-python",
   "name": "python",
   "nbconvert_exporter": "python",
   "pygments_lexer": "ipython3",
   "version": "3.7.10"
  }
 },
 "nbformat": 4,
 "nbformat_minor": 5
}

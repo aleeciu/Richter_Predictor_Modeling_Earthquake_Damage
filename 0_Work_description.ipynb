{
 "cells": [
  {
   "cell_type": "markdown",
   "id": "educated-spelling",
   "metadata": {},
   "source": [
    "After a quick literature review, the following methods have been used in the literature to address similar problem (either for floods or earthquakes):\n",
    "   - Naive Bayes\n",
    "   - k-nearest\n",
    "   - Neural Networks\n",
    "   - SVM\n",
    "   - Random Forest\n",
    "   - Bayesian Networks\n",
    "\n",
    "The plan is to proceed as follows:\n",
    "   1. Pre-processing\n",
    "        - Reduce dimensionality of the data (e.g. via SVM or similar (see slides module 1))\n",
    "        - Check for correlated variables\n",
    "   2. Apply and compare the following methods:\n",
    "        - Bayesian Classifier (BN for classification), pot. package pypgm\n",
    "        - Decison Trees and Random Forests\n",
    "        - Neural Networks\n",
    "        (K-nearest, Naive Bayes and SVM if time permits)\n",
    "   3. Cross-alg comparison, and cross-variable comparison (e.g. marginal increase in prediction when adding dimensions)\n",
    "   4. Discuss results and performances"
   ]
  },
  {
   "cell_type": "markdown",
   "id": "acoustic-simon",
   "metadata": {},
   "source": [
    "TODO:\n",
    "   - do SVM + random forest + submit\n",
    "   - check what we have in kaggle\n",
    "   - ensemble voting with RF, LR, SVM?"
   ]
  },
  {
   "cell_type": "markdown",
   "id": "occupied-invention",
   "metadata": {},
   "source": [
    "hard vs soft voting (soft should work better)\n",
    "https://stats.stackexchange.com/questions/320156/hard-voting-versus-soft-voting-in-ensemble-based-methods"
   ]
  },
  {
   "cell_type": "markdown",
   "id": "annual-basketball",
   "metadata": {},
   "source": [
    "Since we are not provided test labels from datadriven.org and looking at the row data may be cumbersome at this stage, let's build test data on our own:"
   ]
  },
  {
   "cell_type": "markdown",
   "id": "burning-strength",
   "metadata": {},
   "source": [
    "Challenges to mention:\n",
    "   - too many, and of two \"types\", categorical variables\n",
    "   - imbalanced dataset\n",
    "   - not all wrong answers are wrong in the same way (merging data?)"
   ]
  },
  {
   "cell_type": "code",
   "execution_count": null,
   "id": "seasonal-durham",
   "metadata": {},
   "outputs": [],
   "source": []
  }
 ],
 "metadata": {
  "kernelspec": {
   "display_name": "Python 3",
   "language": "python",
   "name": "python3"
  },
  "language_info": {
   "codemirror_mode": {
    "name": "ipython",
    "version": 3
   },
   "file_extension": ".py",
   "mimetype": "text/x-python",
   "name": "python",
   "nbconvert_exporter": "python",
   "pygments_lexer": "ipython3",
   "version": "3.7.10"
  }
 },
 "nbformat": 4,
 "nbformat_minor": 5
}

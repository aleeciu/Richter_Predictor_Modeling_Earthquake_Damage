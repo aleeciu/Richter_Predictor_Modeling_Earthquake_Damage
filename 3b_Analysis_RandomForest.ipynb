{
 "cells": [
  {
   "cell_type": "code",
   "execution_count": 1,
   "id": "handed-raise",
   "metadata": {},
   "outputs": [],
   "source": [
    "import numpy as np\n",
    "import pandas as pd\n",
    "\n",
    "import joblib\n",
    "\n",
    "from sklearn.preprocessing import StandardScaler\n",
    "from sklearn.model_selection import train_test_split\n",
    "\n",
    "from sklearn.ensemble import RandomForestClassifier"
   ]
  },
  {
   "cell_type": "code",
   "execution_count": 2,
   "id": "brave-deposit",
   "metadata": {},
   "outputs": [],
   "source": [
    "def scale(x_train, x_test):\n",
    "    scaler = StandardScaler()\n",
    "    scaler.fit(x_train)\n",
    "\n",
    "    x_train = pd.DataFrame(scaler.transform(x_train), \n",
    "                           index=x_train.index, \n",
    "                           columns=x_train.columns)\n",
    "\n",
    "    x_test = pd.DataFrame(scaler.transform(x_test),\n",
    "                          index=x_test.index, \n",
    "                          columns=x_test.columns)\n",
    "    return x_train, x_test"
   ]
  },
  {
   "cell_type": "code",
   "execution_count": 3,
   "id": "polyphonic-quantum",
   "metadata": {},
   "outputs": [
    {
     "data": {
      "text/plain": [
       "{'randomforestclassifier__max_depth': 20,\n",
       " 'randomforestclassifier__max_features': 12,\n",
       " 'randomforestclassifier__n_estimators': 200}"
      ]
     },
     "execution_count": 3,
     "metadata": {},
     "output_type": "execute_result"
    }
   ],
   "source": [
    "grid_search_rf = joblib.load('../Project_data/results/rf_gridsearch.joblib')\n",
    "grid_search_rf.best_params_"
   ]
  },
  {
   "cell_type": "code",
   "execution_count": 4,
   "id": "native-tongue",
   "metadata": {},
   "outputs": [
    {
     "data": {
      "text/plain": [
       "{'max_depth': 20, 'max_features': 12, 'n_estimators': 200}"
      ]
     },
     "execution_count": 4,
     "metadata": {},
     "output_type": "execute_result"
    }
   ],
   "source": [
    "parms = {key.split('__')[1]: grid_search_rf.best_params_[key] for key in grid_search_rf.best_params_}\n",
    "parms"
   ]
  },
  {
   "cell_type": "code",
   "execution_count": 5,
   "id": "behavioral-cosmetic",
   "metadata": {},
   "outputs": [],
   "source": [
    "rf_cls = RandomForestClassifier(**parms)"
   ]
  },
  {
   "cell_type": "markdown",
   "id": "rubber-catering",
   "metadata": {},
   "source": [
    "## 1. 5-classes classification:"
   ]
  },
  {
   "cell_type": "markdown",
   "id": "rising-sensitivity",
   "metadata": {},
   "source": [
    "### 1.1. Original set"
   ]
  },
  {
   "cell_type": "code",
   "execution_count": 6,
   "id": "dietary-segment",
   "metadata": {},
   "outputs": [],
   "source": [
    "x = pd.read_csv('../Project_data/processed_data/x_post_preproc.csv', index_col='building_id')\n",
    "y = pd.read_csv('../Project_data/processed_data/y_post_preproc.csv', index_col='building_id')"
   ]
  },
  {
   "cell_type": "code",
   "execution_count": 7,
   "id": "superb-earthquake",
   "metadata": {},
   "outputs": [],
   "source": [
    "x_train, x_test = train_test_split(x, test_size=0.2, random_state=42)\n",
    "y_train, y_test = y.loc[x_train.index], y.loc[x_test.index]"
   ]
  },
  {
   "cell_type": "code",
   "execution_count": 8,
   "id": "accepted-webmaster",
   "metadata": {},
   "outputs": [],
   "source": [
    "x_train_norm, x_test_norm = scale(x_train, x_test)"
   ]
  },
  {
   "cell_type": "code",
   "execution_count": 9,
   "id": "certain-patent",
   "metadata": {},
   "outputs": [
    {
     "data": {
      "text/plain": [
       "RandomForestClassifier(max_depth=20, max_features=12, n_estimators=200)"
      ]
     },
     "execution_count": 9,
     "metadata": {},
     "output_type": "execute_result"
    }
   ],
   "source": [
    "rf_cls.fit(x_train_norm, y_train.values.ravel())"
   ]
  },
  {
   "cell_type": "code",
   "execution_count": 12,
   "id": "approved-class",
   "metadata": {},
   "outputs": [],
   "source": [
    "prediction = rf_cls.predict(x_test_norm)\n",
    "pred_proba = rf_cls.predict_proba(x_test_norm)"
   ]
  },
  {
   "cell_type": "code",
   "execution_count": 13,
   "id": "twenty-affect",
   "metadata": {},
   "outputs": [
    {
     "data": {
      "text/html": [
       "<div>\n",
       "<style scoped>\n",
       "    .dataframe tbody tr th:only-of-type {\n",
       "        vertical-align: middle;\n",
       "    }\n",
       "\n",
       "    .dataframe tbody tr th {\n",
       "        vertical-align: top;\n",
       "    }\n",
       "\n",
       "    .dataframe thead th {\n",
       "        text-align: right;\n",
       "    }\n",
       "</style>\n",
       "<table border=\"1\" class=\"dataframe\">\n",
       "  <thead>\n",
       "    <tr style=\"text-align: right;\">\n",
       "      <th></th>\n",
       "      <th>0</th>\n",
       "      <th>1</th>\n",
       "      <th>2</th>\n",
       "      <th>3</th>\n",
       "      <th>4</th>\n",
       "      <th>5</th>\n",
       "    </tr>\n",
       "  </thead>\n",
       "  <tbody>\n",
       "    <tr>\n",
       "      <th>0</th>\n",
       "      <td>Grade_2</td>\n",
       "      <td>0.134774</td>\n",
       "      <td>0.396289</td>\n",
       "      <td>0.324884</td>\n",
       "      <td>0.101862</td>\n",
       "      <td>0.04219</td>\n",
       "    </tr>\n",
       "    <tr>\n",
       "      <th>1</th>\n",
       "      <td>Grade_2</td>\n",
       "      <td>0.014628</td>\n",
       "      <td>0.582772</td>\n",
       "      <td>0.315123</td>\n",
       "      <td>0.035472</td>\n",
       "      <td>0.052004</td>\n",
       "    </tr>\n",
       "    <tr>\n",
       "      <th>2</th>\n",
       "      <td>Grade_4</td>\n",
       "      <td>0.000051</td>\n",
       "      <td>0.000242</td>\n",
       "      <td>0.051585</td>\n",
       "      <td>0.787921</td>\n",
       "      <td>0.160202</td>\n",
       "    </tr>\n",
       "    <tr>\n",
       "      <th>3</th>\n",
       "      <td>Grade_3</td>\n",
       "      <td>0.00768</td>\n",
       "      <td>0.364599</td>\n",
       "      <td>0.37176</td>\n",
       "      <td>0.166813</td>\n",
       "      <td>0.089148</td>\n",
       "    </tr>\n",
       "    <tr>\n",
       "      <th>4</th>\n",
       "      <td>Grade_5</td>\n",
       "      <td>0.003049</td>\n",
       "      <td>0.014803</td>\n",
       "      <td>0.059563</td>\n",
       "      <td>0.178041</td>\n",
       "      <td>0.744544</td>\n",
       "    </tr>\n",
       "  </tbody>\n",
       "</table>\n",
       "</div>"
      ],
      "text/plain": [
       "         0         1         2         3         4         5\n",
       "0  Grade_2  0.134774  0.396289  0.324884  0.101862   0.04219\n",
       "1  Grade_2  0.014628  0.582772  0.315123  0.035472  0.052004\n",
       "2  Grade_4  0.000051  0.000242  0.051585  0.787921  0.160202\n",
       "3  Grade_3   0.00768  0.364599   0.37176  0.166813  0.089148\n",
       "4  Grade_5  0.003049  0.014803  0.059563  0.178041  0.744544"
      ]
     },
     "execution_count": 13,
     "metadata": {},
     "output_type": "execute_result"
    }
   ],
   "source": [
    "preds = pd.DataFrame(np.hstack([np.reshape(prediction,(-1,1)), pred_proba]))\n",
    "preds.head()"
   ]
  },
  {
   "cell_type": "code",
   "execution_count": 14,
   "id": "drawn-bahrain",
   "metadata": {},
   "outputs": [],
   "source": [
    "preds.to_csv('../Project_data/results/rf_preds_orig.csv')"
   ]
  },
  {
   "cell_type": "markdown",
   "id": "purple-charter",
   "metadata": {},
   "source": [
    "### 1.2 Resampled set:"
   ]
  },
  {
   "cell_type": "markdown",
   "id": "educational-partner",
   "metadata": {},
   "source": [
    "#### 1.2.1 Over-sampling with SMOTENC"
   ]
  },
  {
   "cell_type": "code",
   "execution_count": 15,
   "id": "smart-korea",
   "metadata": {},
   "outputs": [
    {
     "name": "stderr",
     "output_type": "stream",
     "text": [
      "C:\\Users\\aleciu\\Anaconda3\\envs\\ml\\lib\\site-packages\\numpy\\lib\\arraysetops.py:580: FutureWarning: elementwise comparison failed; returning scalar instead, but in the future will perform elementwise comparison\n",
      "  mask |= (ar1 == a)\n"
     ]
    }
   ],
   "source": [
    "x_train = pd.read_csv('../Project_data/processed_data/resampling/x_train_smotenc.csv', index_col=0).reset_index(drop=True)\n",
    "y_train = pd.read_csv('../Project_data/processed_data/resampling/y_train_smotenc.csv', index_col=0).reset_index(drop=True)"
   ]
  },
  {
   "cell_type": "code",
   "execution_count": 16,
   "id": "burning-bearing",
   "metadata": {},
   "outputs": [],
   "source": [
    "x_train_norm, x_test_norm = scale(x_train, x_test)"
   ]
  },
  {
   "cell_type": "code",
   "execution_count": 17,
   "id": "practical-brand",
   "metadata": {},
   "outputs": [
    {
     "data": {
      "text/plain": [
       "RandomForestClassifier(max_depth=20, max_features=12, n_estimators=200)"
      ]
     },
     "execution_count": 17,
     "metadata": {},
     "output_type": "execute_result"
    }
   ],
   "source": [
    "rf_cls.fit(x_train_norm, y_train.values.ravel())"
   ]
  },
  {
   "cell_type": "code",
   "execution_count": 18,
   "id": "endless-march",
   "metadata": {},
   "outputs": [],
   "source": [
    "prediction = rf_cls.predict(x_test_norm)\n",
    "pred_proba = rf_cls.predict_proba(x_test_norm)"
   ]
  },
  {
   "cell_type": "code",
   "execution_count": 19,
   "id": "under-annual",
   "metadata": {},
   "outputs": [
    {
     "data": {
      "text/html": [
       "<div>\n",
       "<style scoped>\n",
       "    .dataframe tbody tr th:only-of-type {\n",
       "        vertical-align: middle;\n",
       "    }\n",
       "\n",
       "    .dataframe tbody tr th {\n",
       "        vertical-align: top;\n",
       "    }\n",
       "\n",
       "    .dataframe thead th {\n",
       "        text-align: right;\n",
       "    }\n",
       "</style>\n",
       "<table border=\"1\" class=\"dataframe\">\n",
       "  <thead>\n",
       "    <tr style=\"text-align: right;\">\n",
       "      <th></th>\n",
       "      <th>0</th>\n",
       "      <th>1</th>\n",
       "      <th>2</th>\n",
       "      <th>3</th>\n",
       "      <th>4</th>\n",
       "      <th>5</th>\n",
       "    </tr>\n",
       "  </thead>\n",
       "  <tbody>\n",
       "    <tr>\n",
       "      <th>0</th>\n",
       "      <td>Grade_2</td>\n",
       "      <td>0.17799</td>\n",
       "      <td>0.405769</td>\n",
       "      <td>0.274928</td>\n",
       "      <td>0.101591</td>\n",
       "      <td>0.039722</td>\n",
       "    </tr>\n",
       "    <tr>\n",
       "      <th>1</th>\n",
       "      <td>Grade_2</td>\n",
       "      <td>0.028066</td>\n",
       "      <td>0.6066</td>\n",
       "      <td>0.261088</td>\n",
       "      <td>0.053062</td>\n",
       "      <td>0.051185</td>\n",
       "    </tr>\n",
       "    <tr>\n",
       "      <th>2</th>\n",
       "      <td>Grade_4</td>\n",
       "      <td>0.000179</td>\n",
       "      <td>0.001563</td>\n",
       "      <td>0.068742</td>\n",
       "      <td>0.747326</td>\n",
       "      <td>0.182191</td>\n",
       "    </tr>\n",
       "    <tr>\n",
       "      <th>3</th>\n",
       "      <td>Grade_3</td>\n",
       "      <td>0.009645</td>\n",
       "      <td>0.261916</td>\n",
       "      <td>0.484374</td>\n",
       "      <td>0.176699</td>\n",
       "      <td>0.067365</td>\n",
       "    </tr>\n",
       "    <tr>\n",
       "      <th>4</th>\n",
       "      <td>Grade_5</td>\n",
       "      <td>0.008231</td>\n",
       "      <td>0.019447</td>\n",
       "      <td>0.063114</td>\n",
       "      <td>0.214929</td>\n",
       "      <td>0.69428</td>\n",
       "    </tr>\n",
       "  </tbody>\n",
       "</table>\n",
       "</div>"
      ],
      "text/plain": [
       "         0         1         2         3         4         5\n",
       "0  Grade_2   0.17799  0.405769  0.274928  0.101591  0.039722\n",
       "1  Grade_2  0.028066    0.6066  0.261088  0.053062  0.051185\n",
       "2  Grade_4  0.000179  0.001563  0.068742  0.747326  0.182191\n",
       "3  Grade_3  0.009645  0.261916  0.484374  0.176699  0.067365\n",
       "4  Grade_5  0.008231  0.019447  0.063114  0.214929   0.69428"
      ]
     },
     "execution_count": 19,
     "metadata": {},
     "output_type": "execute_result"
    }
   ],
   "source": [
    "preds = pd.DataFrame(np.hstack([np.reshape(prediction,(-1,1)), pred_proba]))\n",
    "preds.head()"
   ]
  },
  {
   "cell_type": "code",
   "execution_count": 20,
   "id": "welcome-leonard",
   "metadata": {},
   "outputs": [],
   "source": [
    "preds.to_csv('../Project_data/results/rf_preds_smotenc.csv')"
   ]
  },
  {
   "cell_type": "markdown",
   "id": "stock-duncan",
   "metadata": {},
   "source": [
    "### 1.2.2 Under-sampling: cleaning oversampled dataset"
   ]
  },
  {
   "cell_type": "markdown",
   "id": "comparative-gibraltar",
   "metadata": {},
   "source": [
    "#### 1.2.2.1 Tomek"
   ]
  },
  {
   "cell_type": "code",
   "execution_count": 21,
   "id": "figured-sacramento",
   "metadata": {},
   "outputs": [],
   "source": [
    "x_train = pd.read_csv('../Project_data/processed_data/resampling/x_train_smotenc_tmk.csv', index_col=0).reset_index(drop=True)\n",
    "y_train = pd.read_csv('../Project_data/processed_data/resampling/y_train_smotenc_tmk.csv', index_col=0).reset_index(drop=True)"
   ]
  },
  {
   "cell_type": "code",
   "execution_count": 22,
   "id": "deadly-driver",
   "metadata": {},
   "outputs": [],
   "source": [
    "x_train_norm, x_test_norm = scale(x_train, x_test)"
   ]
  },
  {
   "cell_type": "code",
   "execution_count": 23,
   "id": "executive-reggae",
   "metadata": {},
   "outputs": [
    {
     "data": {
      "text/plain": [
       "RandomForestClassifier(max_depth=20, max_features=12, n_estimators=200)"
      ]
     },
     "execution_count": 23,
     "metadata": {},
     "output_type": "execute_result"
    }
   ],
   "source": [
    "rf_cls.fit(x_train_norm, y_train.values.ravel())"
   ]
  },
  {
   "cell_type": "code",
   "execution_count": 24,
   "id": "latter-depth",
   "metadata": {},
   "outputs": [],
   "source": [
    "prediction = rf_cls.predict(x_test_norm)\n",
    "pred_proba = rf_cls.predict_proba(x_test_norm)"
   ]
  },
  {
   "cell_type": "code",
   "execution_count": 25,
   "id": "painted-canadian",
   "metadata": {},
   "outputs": [
    {
     "data": {
      "text/html": [
       "<div>\n",
       "<style scoped>\n",
       "    .dataframe tbody tr th:only-of-type {\n",
       "        vertical-align: middle;\n",
       "    }\n",
       "\n",
       "    .dataframe tbody tr th {\n",
       "        vertical-align: top;\n",
       "    }\n",
       "\n",
       "    .dataframe thead th {\n",
       "        text-align: right;\n",
       "    }\n",
       "</style>\n",
       "<table border=\"1\" class=\"dataframe\">\n",
       "  <thead>\n",
       "    <tr style=\"text-align: right;\">\n",
       "      <th></th>\n",
       "      <th>0</th>\n",
       "      <th>1</th>\n",
       "      <th>2</th>\n",
       "      <th>3</th>\n",
       "      <th>4</th>\n",
       "      <th>5</th>\n",
       "    </tr>\n",
       "  </thead>\n",
       "  <tbody>\n",
       "    <tr>\n",
       "      <th>0</th>\n",
       "      <td>Grade_2</td>\n",
       "      <td>0.158595</td>\n",
       "      <td>0.423571</td>\n",
       "      <td>0.278708</td>\n",
       "      <td>0.103554</td>\n",
       "      <td>0.035572</td>\n",
       "    </tr>\n",
       "    <tr>\n",
       "      <th>1</th>\n",
       "      <td>Grade_2</td>\n",
       "      <td>0.030266</td>\n",
       "      <td>0.658823</td>\n",
       "      <td>0.220038</td>\n",
       "      <td>0.045214</td>\n",
       "      <td>0.045658</td>\n",
       "    </tr>\n",
       "    <tr>\n",
       "      <th>2</th>\n",
       "      <td>Grade_4</td>\n",
       "      <td>0.000168</td>\n",
       "      <td>0.001396</td>\n",
       "      <td>0.046254</td>\n",
       "      <td>0.794892</td>\n",
       "      <td>0.15729</td>\n",
       "    </tr>\n",
       "    <tr>\n",
       "      <th>3</th>\n",
       "      <td>Grade_3</td>\n",
       "      <td>0.015337</td>\n",
       "      <td>0.241567</td>\n",
       "      <td>0.474387</td>\n",
       "      <td>0.206801</td>\n",
       "      <td>0.061908</td>\n",
       "    </tr>\n",
       "    <tr>\n",
       "      <th>4</th>\n",
       "      <td>Grade_5</td>\n",
       "      <td>0.004102</td>\n",
       "      <td>0.017287</td>\n",
       "      <td>0.069656</td>\n",
       "      <td>0.213652</td>\n",
       "      <td>0.695303</td>\n",
       "    </tr>\n",
       "  </tbody>\n",
       "</table>\n",
       "</div>"
      ],
      "text/plain": [
       "         0         1         2         3         4         5\n",
       "0  Grade_2  0.158595  0.423571  0.278708  0.103554  0.035572\n",
       "1  Grade_2  0.030266  0.658823  0.220038  0.045214  0.045658\n",
       "2  Grade_4  0.000168  0.001396  0.046254  0.794892   0.15729\n",
       "3  Grade_3  0.015337  0.241567  0.474387  0.206801  0.061908\n",
       "4  Grade_5  0.004102  0.017287  0.069656  0.213652  0.695303"
      ]
     },
     "execution_count": 25,
     "metadata": {},
     "output_type": "execute_result"
    }
   ],
   "source": [
    "preds = pd.DataFrame(np.hstack([np.reshape(prediction,(-1,1)), pred_proba]))\n",
    "preds.head()"
   ]
  },
  {
   "cell_type": "code",
   "execution_count": 26,
   "id": "ignored-patch",
   "metadata": {},
   "outputs": [],
   "source": [
    "preds.to_csv('../Project_data/results/rf_preds_smotenc_tmk.csv')"
   ]
  },
  {
   "cell_type": "markdown",
   "id": "backed-nowhere",
   "metadata": {},
   "source": [
    "#### 1.2.2.2 ENN"
   ]
  },
  {
   "cell_type": "code",
   "execution_count": 27,
   "id": "advised-pearl",
   "metadata": {},
   "outputs": [],
   "source": [
    "x_train = pd.read_csv('../Project_data/processed_data/resampling/x_train_smotenc_enn.csv', index_col=0).reset_index(drop=True)\n",
    "y_train = pd.read_csv('../Project_data/processed_data/resampling/y_train_smotenc_enn.csv', index_col=0).reset_index(drop=True)"
   ]
  },
  {
   "cell_type": "code",
   "execution_count": 28,
   "id": "confidential-hypothetical",
   "metadata": {},
   "outputs": [],
   "source": [
    "x_train_norm, x_test_norm = scale(x_train, x_test)"
   ]
  },
  {
   "cell_type": "code",
   "execution_count": 29,
   "id": "negative-basement",
   "metadata": {},
   "outputs": [
    {
     "data": {
      "text/plain": [
       "RandomForestClassifier(max_depth=20, max_features=12, n_estimators=200)"
      ]
     },
     "execution_count": 29,
     "metadata": {},
     "output_type": "execute_result"
    }
   ],
   "source": [
    "rf_cls.fit(x_train_norm, y_train.values.ravel())"
   ]
  },
  {
   "cell_type": "code",
   "execution_count": 30,
   "id": "native-cannon",
   "metadata": {},
   "outputs": [],
   "source": [
    "prediction = rf_cls.predict(x_test_norm)\n",
    "pred_proba = rf_cls.predict_proba(x_test_norm)"
   ]
  },
  {
   "cell_type": "code",
   "execution_count": 31,
   "id": "generous-services",
   "metadata": {},
   "outputs": [
    {
     "data": {
      "text/html": [
       "<div>\n",
       "<style scoped>\n",
       "    .dataframe tbody tr th:only-of-type {\n",
       "        vertical-align: middle;\n",
       "    }\n",
       "\n",
       "    .dataframe tbody tr th {\n",
       "        vertical-align: top;\n",
       "    }\n",
       "\n",
       "    .dataframe thead th {\n",
       "        text-align: right;\n",
       "    }\n",
       "</style>\n",
       "<table border=\"1\" class=\"dataframe\">\n",
       "  <thead>\n",
       "    <tr style=\"text-align: right;\">\n",
       "      <th></th>\n",
       "      <th>0</th>\n",
       "      <th>1</th>\n",
       "      <th>2</th>\n",
       "      <th>3</th>\n",
       "      <th>4</th>\n",
       "      <th>5</th>\n",
       "    </tr>\n",
       "  </thead>\n",
       "  <tbody>\n",
       "    <tr>\n",
       "      <th>0</th>\n",
       "      <td>Grade_2</td>\n",
       "      <td>0.195507</td>\n",
       "      <td>0.466018</td>\n",
       "      <td>0.285477</td>\n",
       "      <td>0.044221</td>\n",
       "      <td>0.008777</td>\n",
       "    </tr>\n",
       "    <tr>\n",
       "      <th>1</th>\n",
       "      <td>Grade_2</td>\n",
       "      <td>0.032746</td>\n",
       "      <td>0.775158</td>\n",
       "      <td>0.164029</td>\n",
       "      <td>0.017068</td>\n",
       "      <td>0.011</td>\n",
       "    </tr>\n",
       "    <tr>\n",
       "      <th>2</th>\n",
       "      <td>Grade_4</td>\n",
       "      <td>0.000248</td>\n",
       "      <td>0.002646</td>\n",
       "      <td>0.063797</td>\n",
       "      <td>0.776477</td>\n",
       "      <td>0.156831</td>\n",
       "    </tr>\n",
       "    <tr>\n",
       "      <th>3</th>\n",
       "      <td>Grade_3</td>\n",
       "      <td>0.01178</td>\n",
       "      <td>0.287457</td>\n",
       "      <td>0.494197</td>\n",
       "      <td>0.160647</td>\n",
       "      <td>0.04592</td>\n",
       "    </tr>\n",
       "    <tr>\n",
       "      <th>4</th>\n",
       "      <td>Grade_5</td>\n",
       "      <td>0.003725</td>\n",
       "      <td>0.06063</td>\n",
       "      <td>0.103358</td>\n",
       "      <td>0.231486</td>\n",
       "      <td>0.6008</td>\n",
       "    </tr>\n",
       "  </tbody>\n",
       "</table>\n",
       "</div>"
      ],
      "text/plain": [
       "         0         1         2         3         4         5\n",
       "0  Grade_2  0.195507  0.466018  0.285477  0.044221  0.008777\n",
       "1  Grade_2  0.032746  0.775158  0.164029  0.017068     0.011\n",
       "2  Grade_4  0.000248  0.002646  0.063797  0.776477  0.156831\n",
       "3  Grade_3   0.01178  0.287457  0.494197  0.160647   0.04592\n",
       "4  Grade_5  0.003725   0.06063  0.103358  0.231486    0.6008"
      ]
     },
     "execution_count": 31,
     "metadata": {},
     "output_type": "execute_result"
    }
   ],
   "source": [
    "preds = pd.DataFrame(np.hstack([np.reshape(prediction,(-1,1)), pred_proba]))\n",
    "preds.head()"
   ]
  },
  {
   "cell_type": "code",
   "execution_count": 32,
   "id": "junior-arena",
   "metadata": {},
   "outputs": [],
   "source": [
    "preds.to_csv('../Project_data/results/rf_preds_smotenc_enn.csv')"
   ]
  },
  {
   "cell_type": "markdown",
   "id": "received-nowhere",
   "metadata": {},
   "source": [
    "## 2. 3-classes classification:"
   ]
  },
  {
   "cell_type": "code",
   "execution_count": 33,
   "id": "burning-zoning",
   "metadata": {},
   "outputs": [],
   "source": [
    "x = pd.read_csv('../Project_data/processed_data/x_post_preproc.csv', index_col='building_id')\n",
    "y = pd.read_csv('../Project_data/processed_data/y_post_preproc_3lab.csv', index_col='building_id')"
   ]
  },
  {
   "cell_type": "code",
   "execution_count": 34,
   "id": "american-statement",
   "metadata": {},
   "outputs": [],
   "source": [
    "x_train, x_test = train_test_split(x, test_size=0.2, random_state=42)\n",
    "y_train, y_test = y.loc[x_train.index], y.loc[x_test.index]"
   ]
  },
  {
   "cell_type": "code",
   "execution_count": 35,
   "id": "formed-actor",
   "metadata": {},
   "outputs": [],
   "source": [
    "x_train_norm, x_test_norm = scale(x_train, x_test)"
   ]
  },
  {
   "cell_type": "code",
   "execution_count": 36,
   "id": "crude-violin",
   "metadata": {},
   "outputs": [
    {
     "data": {
      "text/plain": [
       "RandomForestClassifier(max_depth=20, max_features=12, n_estimators=200)"
      ]
     },
     "execution_count": 36,
     "metadata": {},
     "output_type": "execute_result"
    }
   ],
   "source": [
    "rf_cls.fit(x_train_norm, y_train.values.ravel())"
   ]
  },
  {
   "cell_type": "code",
   "execution_count": 37,
   "id": "empirical-delay",
   "metadata": {},
   "outputs": [],
   "source": [
    "prediction = rf_cls.predict(x_test_norm)\n",
    "pred_proba = rf_cls.predict_proba(x_test_norm)"
   ]
  },
  {
   "cell_type": "code",
   "execution_count": 38,
   "id": "contrary-queen",
   "metadata": {},
   "outputs": [
    {
     "data": {
      "text/html": [
       "<div>\n",
       "<style scoped>\n",
       "    .dataframe tbody tr th:only-of-type {\n",
       "        vertical-align: middle;\n",
       "    }\n",
       "\n",
       "    .dataframe tbody tr th {\n",
       "        vertical-align: top;\n",
       "    }\n",
       "\n",
       "    .dataframe thead th {\n",
       "        text-align: right;\n",
       "    }\n",
       "</style>\n",
       "<table border=\"1\" class=\"dataframe\">\n",
       "  <thead>\n",
       "    <tr style=\"text-align: right;\">\n",
       "      <th></th>\n",
       "      <th>0</th>\n",
       "      <th>1</th>\n",
       "      <th>2</th>\n",
       "      <th>3</th>\n",
       "    </tr>\n",
       "  </thead>\n",
       "  <tbody>\n",
       "    <tr>\n",
       "      <th>0</th>\n",
       "      <td>G1</td>\n",
       "      <td>0.564684</td>\n",
       "      <td>0.389445</td>\n",
       "      <td>0.045871</td>\n",
       "    </tr>\n",
       "    <tr>\n",
       "      <th>1</th>\n",
       "      <td>G1</td>\n",
       "      <td>0.596692</td>\n",
       "      <td>0.338251</td>\n",
       "      <td>0.065057</td>\n",
       "    </tr>\n",
       "    <tr>\n",
       "      <th>2</th>\n",
       "      <td>G2</td>\n",
       "      <td>0.001285</td>\n",
       "      <td>0.855451</td>\n",
       "      <td>0.143264</td>\n",
       "    </tr>\n",
       "    <tr>\n",
       "      <th>3</th>\n",
       "      <td>G2</td>\n",
       "      <td>0.392052</td>\n",
       "      <td>0.517239</td>\n",
       "      <td>0.090708</td>\n",
       "    </tr>\n",
       "    <tr>\n",
       "      <th>4</th>\n",
       "      <td>G3</td>\n",
       "      <td>0.018338</td>\n",
       "      <td>0.230183</td>\n",
       "      <td>0.751479</td>\n",
       "    </tr>\n",
       "  </tbody>\n",
       "</table>\n",
       "</div>"
      ],
      "text/plain": [
       "    0         1         2         3\n",
       "0  G1  0.564684  0.389445  0.045871\n",
       "1  G1  0.596692  0.338251  0.065057\n",
       "2  G2  0.001285  0.855451  0.143264\n",
       "3  G2  0.392052  0.517239  0.090708\n",
       "4  G3  0.018338  0.230183  0.751479"
      ]
     },
     "execution_count": 38,
     "metadata": {},
     "output_type": "execute_result"
    }
   ],
   "source": [
    "preds = pd.DataFrame(np.hstack([np.reshape(prediction,(-1,1)), pred_proba]))\n",
    "preds.head()"
   ]
  },
  {
   "cell_type": "code",
   "execution_count": 39,
   "id": "lasting-drawing",
   "metadata": {},
   "outputs": [],
   "source": [
    "preds.to_csv('../Project_data/results/rf_preds_3cls.csv')"
   ]
  },
  {
   "cell_type": "code",
   "execution_count": null,
   "id": "empty-swiss",
   "metadata": {},
   "outputs": [],
   "source": []
  },
  {
   "cell_type": "code",
   "execution_count": 5,
   "id": "representative-queue",
   "metadata": {},
   "outputs": [],
   "source": []
  }
 ],
 "metadata": {
  "kernelspec": {
   "display_name": "Python 3",
   "language": "python",
   "name": "python3"
  },
  "language_info": {
   "codemirror_mode": {
    "name": "ipython",
    "version": 3
   },
   "file_extension": ".py",
   "mimetype": "text/x-python",
   "name": "python",
   "nbconvert_exporter": "python",
   "pygments_lexer": "ipython3",
   "version": "3.7.10"
  }
 },
 "nbformat": 4,
 "nbformat_minor": 5
}

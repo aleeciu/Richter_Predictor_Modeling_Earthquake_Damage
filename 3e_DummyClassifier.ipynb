{
 "cells": [
  {
   "cell_type": "code",
   "execution_count": 1,
   "id": "agreed-proposal",
   "metadata": {},
   "outputs": [],
   "source": [
    "import numpy as np\n",
    "import pandas as pd\n",
    "\n",
    "from sklearn.preprocessing import StandardScaler\n",
    "from sklearn.model_selection import train_test_split\n",
    "\n",
    "from sklearn.dummy import DummyClassifier"
   ]
  },
  {
   "cell_type": "code",
   "execution_count": 2,
   "id": "celtic-comparative",
   "metadata": {},
   "outputs": [],
   "source": [
    "def scale(x_train, x_test):\n",
    "    scaler = StandardScaler()\n",
    "    scaler.fit(x_train)\n",
    "\n",
    "    x_train = pd.DataFrame(scaler.transform(x_train), \n",
    "                           index=x_train.index, \n",
    "                           columns=x_train.columns)\n",
    "\n",
    "    x_test = pd.DataFrame(scaler.transform(x_test),\n",
    "                          index=x_test.index, \n",
    "                          columns=x_test.columns)\n",
    "    return x_train, x_test"
   ]
  },
  {
   "cell_type": "code",
   "execution_count": 3,
   "id": "analyzed-paste",
   "metadata": {},
   "outputs": [],
   "source": [
    "dummy_clf = DummyClassifier(strategy=\"uniform\")"
   ]
  },
  {
   "cell_type": "markdown",
   "id": "unavailable-alarm",
   "metadata": {},
   "source": [
    "## 1. 5-classes classification:"
   ]
  },
  {
   "cell_type": "markdown",
   "id": "heated-cedar",
   "metadata": {},
   "source": [
    "### 1.1. Original set"
   ]
  },
  {
   "cell_type": "code",
   "execution_count": 4,
   "id": "comparable-plaza",
   "metadata": {},
   "outputs": [],
   "source": [
    "x = pd.read_csv('../Project_data/processed_data/x_post_preproc.csv', index_col='building_id')\n",
    "y = pd.read_csv('../Project_data/processed_data/y_post_preproc.csv', index_col='building_id')"
   ]
  },
  {
   "cell_type": "code",
   "execution_count": 5,
   "id": "acknowledged-orlando",
   "metadata": {},
   "outputs": [],
   "source": [
    "x_train, x_test = train_test_split(x, test_size=0.2, random_state=42)\n",
    "y_train, y_test = y.loc[x_train.index], y.loc[x_test.index]"
   ]
  },
  {
   "cell_type": "code",
   "execution_count": 6,
   "id": "seeing-criterion",
   "metadata": {},
   "outputs": [],
   "source": [
    "x_train_norm, x_test_norm = scale(x_train, x_test)"
   ]
  },
  {
   "cell_type": "code",
   "execution_count": 7,
   "id": "excess-partnership",
   "metadata": {},
   "outputs": [
    {
     "data": {
      "text/plain": [
       "DummyClassifier(strategy='uniform')"
      ]
     },
     "execution_count": 7,
     "metadata": {},
     "output_type": "execute_result"
    }
   ],
   "source": [
    "dummy_clf.fit(x_train_norm, y_train.values.ravel())"
   ]
  },
  {
   "cell_type": "code",
   "execution_count": 8,
   "id": "domestic-bruce",
   "metadata": {},
   "outputs": [],
   "source": [
    "prediction = dummy_clf.predict(x_test_norm)\n",
    "pred_proba = dummy_clf.predict_proba(x_test_norm)"
   ]
  },
  {
   "cell_type": "code",
   "execution_count": 9,
   "id": "attractive-welsh",
   "metadata": {},
   "outputs": [
    {
     "data": {
      "text/html": [
       "<div>\n",
       "<style scoped>\n",
       "    .dataframe tbody tr th:only-of-type {\n",
       "        vertical-align: middle;\n",
       "    }\n",
       "\n",
       "    .dataframe tbody tr th {\n",
       "        vertical-align: top;\n",
       "    }\n",
       "\n",
       "    .dataframe thead th {\n",
       "        text-align: right;\n",
       "    }\n",
       "</style>\n",
       "<table border=\"1\" class=\"dataframe\">\n",
       "  <thead>\n",
       "    <tr style=\"text-align: right;\">\n",
       "      <th></th>\n",
       "      <th>0</th>\n",
       "      <th>1</th>\n",
       "      <th>2</th>\n",
       "      <th>3</th>\n",
       "      <th>4</th>\n",
       "      <th>5</th>\n",
       "    </tr>\n",
       "  </thead>\n",
       "  <tbody>\n",
       "    <tr>\n",
       "      <th>0</th>\n",
       "      <td>Grade_1</td>\n",
       "      <td>0.2</td>\n",
       "      <td>0.2</td>\n",
       "      <td>0.2</td>\n",
       "      <td>0.2</td>\n",
       "      <td>0.2</td>\n",
       "    </tr>\n",
       "    <tr>\n",
       "      <th>1</th>\n",
       "      <td>Grade_1</td>\n",
       "      <td>0.2</td>\n",
       "      <td>0.2</td>\n",
       "      <td>0.2</td>\n",
       "      <td>0.2</td>\n",
       "      <td>0.2</td>\n",
       "    </tr>\n",
       "    <tr>\n",
       "      <th>2</th>\n",
       "      <td>Grade_2</td>\n",
       "      <td>0.2</td>\n",
       "      <td>0.2</td>\n",
       "      <td>0.2</td>\n",
       "      <td>0.2</td>\n",
       "      <td>0.2</td>\n",
       "    </tr>\n",
       "    <tr>\n",
       "      <th>3</th>\n",
       "      <td>Grade_2</td>\n",
       "      <td>0.2</td>\n",
       "      <td>0.2</td>\n",
       "      <td>0.2</td>\n",
       "      <td>0.2</td>\n",
       "      <td>0.2</td>\n",
       "    </tr>\n",
       "    <tr>\n",
       "      <th>4</th>\n",
       "      <td>Grade_5</td>\n",
       "      <td>0.2</td>\n",
       "      <td>0.2</td>\n",
       "      <td>0.2</td>\n",
       "      <td>0.2</td>\n",
       "      <td>0.2</td>\n",
       "    </tr>\n",
       "  </tbody>\n",
       "</table>\n",
       "</div>"
      ],
      "text/plain": [
       "         0    1    2    3    4    5\n",
       "0  Grade_1  0.2  0.2  0.2  0.2  0.2\n",
       "1  Grade_1  0.2  0.2  0.2  0.2  0.2\n",
       "2  Grade_2  0.2  0.2  0.2  0.2  0.2\n",
       "3  Grade_2  0.2  0.2  0.2  0.2  0.2\n",
       "4  Grade_5  0.2  0.2  0.2  0.2  0.2"
      ]
     },
     "execution_count": 9,
     "metadata": {},
     "output_type": "execute_result"
    }
   ],
   "source": [
    "preds = pd.DataFrame(np.hstack([np.reshape(prediction,(-1,1)), pred_proba]))\n",
    "preds.head()"
   ]
  },
  {
   "cell_type": "code",
   "execution_count": 10,
   "id": "fixed-advocacy",
   "metadata": {},
   "outputs": [],
   "source": [
    "preds.to_csv('../Project_data/results/dummy_preds_orig.csv')"
   ]
  },
  {
   "cell_type": "markdown",
   "id": "positive-finder",
   "metadata": {},
   "source": [
    "### 1.2 Resampled set:"
   ]
  },
  {
   "cell_type": "markdown",
   "id": "editorial-surname",
   "metadata": {},
   "source": [
    "#### 1.2.1 Over-sampling with SMOTENC"
   ]
  },
  {
   "cell_type": "code",
   "execution_count": 11,
   "id": "invalid-acoustic",
   "metadata": {},
   "outputs": [
    {
     "name": "stderr",
     "output_type": "stream",
     "text": [
      "C:\\Users\\aleciu\\Anaconda3\\envs\\ml\\lib\\site-packages\\numpy\\lib\\arraysetops.py:580: FutureWarning: elementwise comparison failed; returning scalar instead, but in the future will perform elementwise comparison\n",
      "  mask |= (ar1 == a)\n"
     ]
    }
   ],
   "source": [
    "x_train = pd.read_csv('../Project_data/processed_data/resampling/x_train_smotenc.csv', index_col=0).reset_index(drop=True)\n",
    "y_train = pd.read_csv('../Project_data/processed_data/resampling/y_train_smotenc.csv', index_col=0).reset_index(drop=True)"
   ]
  },
  {
   "cell_type": "code",
   "execution_count": 12,
   "id": "nominated-repository",
   "metadata": {},
   "outputs": [],
   "source": [
    "x_train_norm, x_test_norm = scale(x_train, x_test)"
   ]
  },
  {
   "cell_type": "code",
   "execution_count": 13,
   "id": "metric-ground",
   "metadata": {},
   "outputs": [
    {
     "data": {
      "text/plain": [
       "DummyClassifier(strategy='uniform')"
      ]
     },
     "execution_count": 13,
     "metadata": {},
     "output_type": "execute_result"
    }
   ],
   "source": [
    "dummy_clf.fit(x_train_norm, y_train.values.ravel())"
   ]
  },
  {
   "cell_type": "code",
   "execution_count": 14,
   "id": "bridal-amateur",
   "metadata": {},
   "outputs": [],
   "source": [
    "prediction = dummy_clf.predict(x_test_norm)\n",
    "pred_proba = dummy_clf.predict_proba(x_test_norm)"
   ]
  },
  {
   "cell_type": "code",
   "execution_count": 15,
   "id": "internal-eugene",
   "metadata": {},
   "outputs": [
    {
     "data": {
      "text/html": [
       "<div>\n",
       "<style scoped>\n",
       "    .dataframe tbody tr th:only-of-type {\n",
       "        vertical-align: middle;\n",
       "    }\n",
       "\n",
       "    .dataframe tbody tr th {\n",
       "        vertical-align: top;\n",
       "    }\n",
       "\n",
       "    .dataframe thead th {\n",
       "        text-align: right;\n",
       "    }\n",
       "</style>\n",
       "<table border=\"1\" class=\"dataframe\">\n",
       "  <thead>\n",
       "    <tr style=\"text-align: right;\">\n",
       "      <th></th>\n",
       "      <th>0</th>\n",
       "      <th>1</th>\n",
       "      <th>2</th>\n",
       "      <th>3</th>\n",
       "      <th>4</th>\n",
       "      <th>5</th>\n",
       "    </tr>\n",
       "  </thead>\n",
       "  <tbody>\n",
       "    <tr>\n",
       "      <th>0</th>\n",
       "      <td>Grade_2</td>\n",
       "      <td>0.2</td>\n",
       "      <td>0.2</td>\n",
       "      <td>0.2</td>\n",
       "      <td>0.2</td>\n",
       "      <td>0.2</td>\n",
       "    </tr>\n",
       "    <tr>\n",
       "      <th>1</th>\n",
       "      <td>Grade_1</td>\n",
       "      <td>0.2</td>\n",
       "      <td>0.2</td>\n",
       "      <td>0.2</td>\n",
       "      <td>0.2</td>\n",
       "      <td>0.2</td>\n",
       "    </tr>\n",
       "    <tr>\n",
       "      <th>2</th>\n",
       "      <td>Grade_2</td>\n",
       "      <td>0.2</td>\n",
       "      <td>0.2</td>\n",
       "      <td>0.2</td>\n",
       "      <td>0.2</td>\n",
       "      <td>0.2</td>\n",
       "    </tr>\n",
       "    <tr>\n",
       "      <th>3</th>\n",
       "      <td>Grade_2</td>\n",
       "      <td>0.2</td>\n",
       "      <td>0.2</td>\n",
       "      <td>0.2</td>\n",
       "      <td>0.2</td>\n",
       "      <td>0.2</td>\n",
       "    </tr>\n",
       "    <tr>\n",
       "      <th>4</th>\n",
       "      <td>Grade_4</td>\n",
       "      <td>0.2</td>\n",
       "      <td>0.2</td>\n",
       "      <td>0.2</td>\n",
       "      <td>0.2</td>\n",
       "      <td>0.2</td>\n",
       "    </tr>\n",
       "  </tbody>\n",
       "</table>\n",
       "</div>"
      ],
      "text/plain": [
       "         0    1    2    3    4    5\n",
       "0  Grade_2  0.2  0.2  0.2  0.2  0.2\n",
       "1  Grade_1  0.2  0.2  0.2  0.2  0.2\n",
       "2  Grade_2  0.2  0.2  0.2  0.2  0.2\n",
       "3  Grade_2  0.2  0.2  0.2  0.2  0.2\n",
       "4  Grade_4  0.2  0.2  0.2  0.2  0.2"
      ]
     },
     "execution_count": 15,
     "metadata": {},
     "output_type": "execute_result"
    }
   ],
   "source": [
    "preds = pd.DataFrame(np.hstack([np.reshape(prediction,(-1,1)), pred_proba]))\n",
    "preds.head()"
   ]
  },
  {
   "cell_type": "code",
   "execution_count": 16,
   "id": "alternative-integration",
   "metadata": {},
   "outputs": [],
   "source": [
    "preds.to_csv('../Project_data/results/dummy_preds_smotenc.csv')"
   ]
  },
  {
   "cell_type": "markdown",
   "id": "configured-mother",
   "metadata": {},
   "source": [
    "### 1.2.2 Under-sampling: cleaning oversampled dataset"
   ]
  },
  {
   "cell_type": "markdown",
   "id": "abandoned-house",
   "metadata": {},
   "source": [
    "#### 1.2.2.1 Tomek"
   ]
  },
  {
   "cell_type": "code",
   "execution_count": 17,
   "id": "stock-floating",
   "metadata": {},
   "outputs": [],
   "source": [
    "x_train = pd.read_csv('../Project_data/processed_data/resampling/x_train_smotenc_tmk.csv', index_col=0).reset_index(drop=True)\n",
    "y_train = pd.read_csv('../Project_data/processed_data/resampling/y_train_smotenc_tmk.csv', index_col=0).reset_index(drop=True)"
   ]
  },
  {
   "cell_type": "code",
   "execution_count": 18,
   "id": "mechanical-matrix",
   "metadata": {},
   "outputs": [],
   "source": [
    "x_train_norm, x_test_norm = scale(x_train, x_test)"
   ]
  },
  {
   "cell_type": "code",
   "execution_count": 19,
   "id": "centered-excess",
   "metadata": {},
   "outputs": [
    {
     "data": {
      "text/plain": [
       "DummyClassifier(strategy='uniform')"
      ]
     },
     "execution_count": 19,
     "metadata": {},
     "output_type": "execute_result"
    }
   ],
   "source": [
    "dummy_clf.fit(x_train_norm, y_train.values.ravel())"
   ]
  },
  {
   "cell_type": "code",
   "execution_count": 20,
   "id": "broken-broadway",
   "metadata": {},
   "outputs": [],
   "source": [
    "prediction = dummy_clf.predict(x_test_norm)\n",
    "pred_proba = dummy_clf.predict_proba(x_test_norm)"
   ]
  },
  {
   "cell_type": "code",
   "execution_count": 21,
   "id": "plain-california",
   "metadata": {},
   "outputs": [
    {
     "data": {
      "text/html": [
       "<div>\n",
       "<style scoped>\n",
       "    .dataframe tbody tr th:only-of-type {\n",
       "        vertical-align: middle;\n",
       "    }\n",
       "\n",
       "    .dataframe tbody tr th {\n",
       "        vertical-align: top;\n",
       "    }\n",
       "\n",
       "    .dataframe thead th {\n",
       "        text-align: right;\n",
       "    }\n",
       "</style>\n",
       "<table border=\"1\" class=\"dataframe\">\n",
       "  <thead>\n",
       "    <tr style=\"text-align: right;\">\n",
       "      <th></th>\n",
       "      <th>0</th>\n",
       "      <th>1</th>\n",
       "      <th>2</th>\n",
       "      <th>3</th>\n",
       "      <th>4</th>\n",
       "      <th>5</th>\n",
       "    </tr>\n",
       "  </thead>\n",
       "  <tbody>\n",
       "    <tr>\n",
       "      <th>0</th>\n",
       "      <td>Grade_3</td>\n",
       "      <td>0.2</td>\n",
       "      <td>0.2</td>\n",
       "      <td>0.2</td>\n",
       "      <td>0.2</td>\n",
       "      <td>0.2</td>\n",
       "    </tr>\n",
       "    <tr>\n",
       "      <th>1</th>\n",
       "      <td>Grade_1</td>\n",
       "      <td>0.2</td>\n",
       "      <td>0.2</td>\n",
       "      <td>0.2</td>\n",
       "      <td>0.2</td>\n",
       "      <td>0.2</td>\n",
       "    </tr>\n",
       "    <tr>\n",
       "      <th>2</th>\n",
       "      <td>Grade_3</td>\n",
       "      <td>0.2</td>\n",
       "      <td>0.2</td>\n",
       "      <td>0.2</td>\n",
       "      <td>0.2</td>\n",
       "      <td>0.2</td>\n",
       "    </tr>\n",
       "    <tr>\n",
       "      <th>3</th>\n",
       "      <td>Grade_2</td>\n",
       "      <td>0.2</td>\n",
       "      <td>0.2</td>\n",
       "      <td>0.2</td>\n",
       "      <td>0.2</td>\n",
       "      <td>0.2</td>\n",
       "    </tr>\n",
       "    <tr>\n",
       "      <th>4</th>\n",
       "      <td>Grade_3</td>\n",
       "      <td>0.2</td>\n",
       "      <td>0.2</td>\n",
       "      <td>0.2</td>\n",
       "      <td>0.2</td>\n",
       "      <td>0.2</td>\n",
       "    </tr>\n",
       "  </tbody>\n",
       "</table>\n",
       "</div>"
      ],
      "text/plain": [
       "         0    1    2    3    4    5\n",
       "0  Grade_3  0.2  0.2  0.2  0.2  0.2\n",
       "1  Grade_1  0.2  0.2  0.2  0.2  0.2\n",
       "2  Grade_3  0.2  0.2  0.2  0.2  0.2\n",
       "3  Grade_2  0.2  0.2  0.2  0.2  0.2\n",
       "4  Grade_3  0.2  0.2  0.2  0.2  0.2"
      ]
     },
     "execution_count": 21,
     "metadata": {},
     "output_type": "execute_result"
    }
   ],
   "source": [
    "preds = pd.DataFrame(np.hstack([np.reshape(prediction,(-1,1)), pred_proba]))\n",
    "preds.head()"
   ]
  },
  {
   "cell_type": "code",
   "execution_count": 22,
   "id": "communist-wonder",
   "metadata": {},
   "outputs": [],
   "source": [
    "preds.to_csv('../Project_data/results/dummy_preds_smotenc_tmk.csv')"
   ]
  },
  {
   "cell_type": "markdown",
   "id": "representative-sequence",
   "metadata": {},
   "source": [
    "#### 1.2.2.2 ENN"
   ]
  },
  {
   "cell_type": "code",
   "execution_count": 23,
   "id": "photographic-patio",
   "metadata": {},
   "outputs": [],
   "source": [
    "x_train = pd.read_csv('../Project_data/processed_data/resampling/x_train_smotenc_enn.csv', index_col=0).reset_index(drop=True)\n",
    "y_train = pd.read_csv('../Project_data/processed_data/resampling/y_train_smotenc_enn.csv', index_col=0).reset_index(drop=True)"
   ]
  },
  {
   "cell_type": "code",
   "execution_count": 24,
   "id": "given-surgeon",
   "metadata": {},
   "outputs": [],
   "source": [
    "x_train_norm, x_test_norm = scale(x_train, x_test)"
   ]
  },
  {
   "cell_type": "code",
   "execution_count": 25,
   "id": "boxed-lodge",
   "metadata": {},
   "outputs": [
    {
     "data": {
      "text/plain": [
       "DummyClassifier(strategy='uniform')"
      ]
     },
     "execution_count": 25,
     "metadata": {},
     "output_type": "execute_result"
    }
   ],
   "source": [
    "dummy_clf.fit(x_train_norm, y_train.values.ravel())"
   ]
  },
  {
   "cell_type": "code",
   "execution_count": 26,
   "id": "sonic-reliance",
   "metadata": {},
   "outputs": [],
   "source": [
    "prediction = dummy_clf.predict(x_test_norm)\n",
    "pred_proba = dummy_clf.predict_proba(x_test_norm)"
   ]
  },
  {
   "cell_type": "code",
   "execution_count": 27,
   "id": "modern-gentleman",
   "metadata": {},
   "outputs": [
    {
     "data": {
      "text/html": [
       "<div>\n",
       "<style scoped>\n",
       "    .dataframe tbody tr th:only-of-type {\n",
       "        vertical-align: middle;\n",
       "    }\n",
       "\n",
       "    .dataframe tbody tr th {\n",
       "        vertical-align: top;\n",
       "    }\n",
       "\n",
       "    .dataframe thead th {\n",
       "        text-align: right;\n",
       "    }\n",
       "</style>\n",
       "<table border=\"1\" class=\"dataframe\">\n",
       "  <thead>\n",
       "    <tr style=\"text-align: right;\">\n",
       "      <th></th>\n",
       "      <th>0</th>\n",
       "      <th>1</th>\n",
       "      <th>2</th>\n",
       "      <th>3</th>\n",
       "      <th>4</th>\n",
       "      <th>5</th>\n",
       "    </tr>\n",
       "  </thead>\n",
       "  <tbody>\n",
       "    <tr>\n",
       "      <th>0</th>\n",
       "      <td>Grade_1</td>\n",
       "      <td>0.2</td>\n",
       "      <td>0.2</td>\n",
       "      <td>0.2</td>\n",
       "      <td>0.2</td>\n",
       "      <td>0.2</td>\n",
       "    </tr>\n",
       "    <tr>\n",
       "      <th>1</th>\n",
       "      <td>Grade_5</td>\n",
       "      <td>0.2</td>\n",
       "      <td>0.2</td>\n",
       "      <td>0.2</td>\n",
       "      <td>0.2</td>\n",
       "      <td>0.2</td>\n",
       "    </tr>\n",
       "    <tr>\n",
       "      <th>2</th>\n",
       "      <td>Grade_5</td>\n",
       "      <td>0.2</td>\n",
       "      <td>0.2</td>\n",
       "      <td>0.2</td>\n",
       "      <td>0.2</td>\n",
       "      <td>0.2</td>\n",
       "    </tr>\n",
       "    <tr>\n",
       "      <th>3</th>\n",
       "      <td>Grade_1</td>\n",
       "      <td>0.2</td>\n",
       "      <td>0.2</td>\n",
       "      <td>0.2</td>\n",
       "      <td>0.2</td>\n",
       "      <td>0.2</td>\n",
       "    </tr>\n",
       "    <tr>\n",
       "      <th>4</th>\n",
       "      <td>Grade_1</td>\n",
       "      <td>0.2</td>\n",
       "      <td>0.2</td>\n",
       "      <td>0.2</td>\n",
       "      <td>0.2</td>\n",
       "      <td>0.2</td>\n",
       "    </tr>\n",
       "  </tbody>\n",
       "</table>\n",
       "</div>"
      ],
      "text/plain": [
       "         0    1    2    3    4    5\n",
       "0  Grade_1  0.2  0.2  0.2  0.2  0.2\n",
       "1  Grade_5  0.2  0.2  0.2  0.2  0.2\n",
       "2  Grade_5  0.2  0.2  0.2  0.2  0.2\n",
       "3  Grade_1  0.2  0.2  0.2  0.2  0.2\n",
       "4  Grade_1  0.2  0.2  0.2  0.2  0.2"
      ]
     },
     "execution_count": 27,
     "metadata": {},
     "output_type": "execute_result"
    }
   ],
   "source": [
    "preds = pd.DataFrame(np.hstack([np.reshape(prediction,(-1,1)), pred_proba]))\n",
    "preds.head()"
   ]
  },
  {
   "cell_type": "code",
   "execution_count": 28,
   "id": "moved-andrew",
   "metadata": {},
   "outputs": [],
   "source": [
    "preds.to_csv('../Project_data/results/dummy_preds_smotenc_enn.csv')"
   ]
  },
  {
   "cell_type": "markdown",
   "id": "collectible-poland",
   "metadata": {},
   "source": [
    "## 2. 3-classes classification:"
   ]
  },
  {
   "cell_type": "code",
   "execution_count": 29,
   "id": "express-input",
   "metadata": {},
   "outputs": [],
   "source": [
    "x = pd.read_csv('../Project_data/processed_data/x_post_preproc.csv', index_col='building_id')\n",
    "y = pd.read_csv('../Project_data/processed_data/y_post_preproc_3lab.csv', index_col='building_id')"
   ]
  },
  {
   "cell_type": "code",
   "execution_count": 30,
   "id": "criminal-processing",
   "metadata": {},
   "outputs": [],
   "source": [
    "x_train, x_test = train_test_split(x, test_size=0.2, random_state=42)\n",
    "y_train, y_test = y.loc[x_train.index], y.loc[x_test.index]"
   ]
  },
  {
   "cell_type": "code",
   "execution_count": 31,
   "id": "cubic-happening",
   "metadata": {},
   "outputs": [],
   "source": [
    "x_train_norm, x_test_norm = scale(x_train, x_test)"
   ]
  },
  {
   "cell_type": "code",
   "execution_count": 32,
   "id": "comparative-congo",
   "metadata": {},
   "outputs": [
    {
     "data": {
      "text/plain": [
       "DummyClassifier(strategy='uniform')"
      ]
     },
     "execution_count": 32,
     "metadata": {},
     "output_type": "execute_result"
    }
   ],
   "source": [
    "dummy_clf.fit(x_train_norm, y_train.values.ravel())"
   ]
  },
  {
   "cell_type": "code",
   "execution_count": 33,
   "id": "thirty-hartford",
   "metadata": {},
   "outputs": [],
   "source": [
    "prediction = dummy_clf.predict(x_test_norm)\n",
    "pred_proba = dummy_clf.predict_proba(x_test_norm)"
   ]
  },
  {
   "cell_type": "code",
   "execution_count": 34,
   "id": "neutral-animal",
   "metadata": {},
   "outputs": [
    {
     "data": {
      "text/html": [
       "<div>\n",
       "<style scoped>\n",
       "    .dataframe tbody tr th:only-of-type {\n",
       "        vertical-align: middle;\n",
       "    }\n",
       "\n",
       "    .dataframe tbody tr th {\n",
       "        vertical-align: top;\n",
       "    }\n",
       "\n",
       "    .dataframe thead th {\n",
       "        text-align: right;\n",
       "    }\n",
       "</style>\n",
       "<table border=\"1\" class=\"dataframe\">\n",
       "  <thead>\n",
       "    <tr style=\"text-align: right;\">\n",
       "      <th></th>\n",
       "      <th>0</th>\n",
       "      <th>1</th>\n",
       "      <th>2</th>\n",
       "      <th>3</th>\n",
       "    </tr>\n",
       "  </thead>\n",
       "  <tbody>\n",
       "    <tr>\n",
       "      <th>0</th>\n",
       "      <td>G3</td>\n",
       "      <td>0.333333</td>\n",
       "      <td>0.333333</td>\n",
       "      <td>0.333333</td>\n",
       "    </tr>\n",
       "    <tr>\n",
       "      <th>1</th>\n",
       "      <td>G2</td>\n",
       "      <td>0.333333</td>\n",
       "      <td>0.333333</td>\n",
       "      <td>0.333333</td>\n",
       "    </tr>\n",
       "    <tr>\n",
       "      <th>2</th>\n",
       "      <td>G2</td>\n",
       "      <td>0.333333</td>\n",
       "      <td>0.333333</td>\n",
       "      <td>0.333333</td>\n",
       "    </tr>\n",
       "    <tr>\n",
       "      <th>3</th>\n",
       "      <td>G2</td>\n",
       "      <td>0.333333</td>\n",
       "      <td>0.333333</td>\n",
       "      <td>0.333333</td>\n",
       "    </tr>\n",
       "    <tr>\n",
       "      <th>4</th>\n",
       "      <td>G3</td>\n",
       "      <td>0.333333</td>\n",
       "      <td>0.333333</td>\n",
       "      <td>0.333333</td>\n",
       "    </tr>\n",
       "  </tbody>\n",
       "</table>\n",
       "</div>"
      ],
      "text/plain": [
       "    0         1         2         3\n",
       "0  G3  0.333333  0.333333  0.333333\n",
       "1  G2  0.333333  0.333333  0.333333\n",
       "2  G2  0.333333  0.333333  0.333333\n",
       "3  G2  0.333333  0.333333  0.333333\n",
       "4  G3  0.333333  0.333333  0.333333"
      ]
     },
     "execution_count": 34,
     "metadata": {},
     "output_type": "execute_result"
    }
   ],
   "source": [
    "preds = pd.DataFrame(np.hstack([np.reshape(prediction,(-1,1)), pred_proba]))\n",
    "preds.head()"
   ]
  },
  {
   "cell_type": "code",
   "execution_count": 35,
   "id": "exclusive-update",
   "metadata": {},
   "outputs": [],
   "source": [
    "preds.to_csv('../Project_data/results/dummy_preds_3cls.csv')"
   ]
  },
  {
   "cell_type": "code",
   "execution_count": null,
   "id": "marine-handling",
   "metadata": {},
   "outputs": [],
   "source": []
  }
 ],
 "metadata": {
  "kernelspec": {
   "display_name": "Python 3",
   "language": "python",
   "name": "python3"
  },
  "language_info": {
   "codemirror_mode": {
    "name": "ipython",
    "version": 3
   },
   "file_extension": ".py",
   "mimetype": "text/x-python",
   "name": "python",
   "nbconvert_exporter": "python",
   "pygments_lexer": "ipython3",
   "version": "3.7.10"
  }
 },
 "nbformat": 4,
 "nbformat_minor": 5
}

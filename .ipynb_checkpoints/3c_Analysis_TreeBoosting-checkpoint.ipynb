{
 "cells": [
  {
   "cell_type": "code",
   "execution_count": 1,
   "id": "complicated-objective",
   "metadata": {},
   "outputs": [],
   "source": [
    "import numpy as np\n",
    "import pandas as pd\n",
    "import matplotlib.pyplot as plt\n",
    "from tabulate import tabulate\n",
    "import joblib\n",
    "\n",
    "from sklearn.preprocessing import StandardScaler\n",
    "from sklearn.pipeline import make_pipeline\n",
    "\n",
    "from sklearn import metrics\n",
    "from sklearn.model_selection import train_test_split\n",
    "\n",
    "from xgboost import XGBClassifier"
   ]
  },
  {
   "cell_type": "code",
   "execution_count": 2,
   "id": "brazilian-tennessee",
   "metadata": {},
   "outputs": [],
   "source": [
    "def scale(x_train, x_test):\n",
    "    scaler = StandardScaler()\n",
    "    scaler.fit(x_train)\n",
    "    x_train = pd.DataFrame(scaler.transform(x_train), \n",
    "                           index=x_train.index, \n",
    "                           columns=x_train.columns)\n",
    "\n",
    "    x_test = pd.DataFrame(scaler.transform(x_test),\n",
    "                          index=x_test.index, \n",
    "                          columns=x_test.columns)\n",
    "    return x_train, x_test\n",
    "\n",
    "def display_metrics(classifier, x, y, prediction):\n",
    "\n",
    "    print(\"Confusion matrix: \\n\")\n",
    "    plt.show(metrics.plot_confusion_matrix(classifier, x, y, normalize='true'))\n",
    "    \n",
    "    labels = np.unique(y_test.damage_grade)\n",
    "    # labels should by default but let's be explicit; also, normalize over the true values, i.e., \n",
    "    # return how often a class gets mis-classified or rightly classified\n",
    "    cm_array = metrics.confusion_matrix(y, prediction, labels=labels, normalize='true')\n",
    "    cm = pd.DataFrame(cm_array, columns=labels, index=labels)\n",
    "    \n",
    "    cf = metrics.classification_report(y, prediction)\n",
    "    print(\"Classification report: \\n\")\n",
    "    print(cf)\n",
    "\n",
    "    f1 = metrics.f1_score(y, prediction, average='micro')\n",
    "    print(\"Micro-F1 score: \\n\")\n",
    "    print(f1)\n",
    "\n",
    "    f2 = metrics.f1_score(y, prediction, average='macro')\n",
    "    print(\"Macro-F1 score:\")\n",
    "    print(f1)\n",
    "    \n",
    "    return cm, cf, f1, f2\n",
    "\n",
    "def transform_label(y):\n",
    "    labeled_y = y.apply(lambda row: int(row.damage_grade.split('_')[1]), 1).values\n",
    "    return labeled_y"
   ]
  },
  {
   "cell_type": "markdown",
   "id": "former-reggae",
   "metadata": {},
   "source": [
    "2. Run xgboost with the grid search params and across datasets.\n",
    "3. Calculate all metrics, make table with f1 scores, compare ROC curves and AUC etc (consider new jupyter)\n",
    "4. Fine tune a NN and redo all steps."
   ]
  },
  {
   "cell_type": "code",
   "execution_count": 3,
   "id": "earlier-ending",
   "metadata": {},
   "outputs": [],
   "source": [
    "grid_search_xgb = joblib.load('results/xgb_gridsearch.joblib')"
   ]
  },
  {
   "cell_type": "code",
   "execution_count": 4,
   "id": "dental-gather",
   "metadata": {},
   "outputs": [
    {
     "data": {
      "text/plain": [
       "{'learning_rate': 0.15, 'max_depth': 10, 'n_estimators': 200}"
      ]
     },
     "execution_count": 4,
     "metadata": {},
     "output_type": "execute_result"
    }
   ],
   "source": [
    "grid_search_xgb.best_params_"
   ]
  },
  {
   "cell_type": "markdown",
   "id": "steady-repeat",
   "metadata": {},
   "source": [
    "### 1.1. Original set"
   ]
  },
  {
   "cell_type": "code",
   "execution_count": 5,
   "id": "macro-journey",
   "metadata": {},
   "outputs": [],
   "source": [
    "x = pd.read_csv('processed_data/x_post_preproc.csv', index_col='building_id')\n",
    "y = pd.read_csv('processed_data/y_post_preproc.csv', index_col='building_id')"
   ]
  },
  {
   "cell_type": "code",
   "execution_count": 6,
   "id": "powered-password",
   "metadata": {},
   "outputs": [],
   "source": [
    "x_train, x_test = train_test_split(x, test_size=0.2, random_state=42)\n",
    "y_train, y_test = y.loc[x_train.index], y.loc[x_test.index]"
   ]
  },
  {
   "cell_type": "code",
   "execution_count": 7,
   "id": "specified-oklahoma",
   "metadata": {},
   "outputs": [],
   "source": [
    "x_train_norm, x_test_norm = scale(x_train, x_test)"
   ]
  },
  {
   "cell_type": "code",
   "execution_count": 63,
   "id": "specified-burst",
   "metadata": {},
   "outputs": [],
   "source": [
    "xgb_cls = XGBClassifier(**grid_search_xgb.best_params_)\n",
    "\n",
    "fit_params = {'early_stopping_rounds': 10,\n",
    "              'eval_metric': 'merror',\n",
    "              'eval_set': [(x_test_norm, y_test.values.ravel())]}"
   ]
  },
  {
   "cell_type": "code",
   "execution_count": 64,
   "id": "occupied-synthetic",
   "metadata": {
    "tags": []
   },
   "outputs": [
    {
     "name": "stdout",
     "output_type": "stream",
     "text": [
      "[0]\tvalidation_0-merror:0.43857\n",
      "[1]\tvalidation_0-merror:0.43445\n",
      "[2]\tvalidation_0-merror:0.43233\n",
      "[3]\tvalidation_0-merror:0.43151\n",
      "[4]\tvalidation_0-merror:0.42985\n",
      "[5]\tvalidation_0-merror:0.42957\n",
      "[6]\tvalidation_0-merror:0.42960\n",
      "[7]\tvalidation_0-merror:0.42902\n",
      "[8]\tvalidation_0-merror:0.42832\n",
      "[9]\tvalidation_0-merror:0.42804\n",
      "[10]\tvalidation_0-merror:0.42778\n",
      "[11]\tvalidation_0-merror:0.42783\n",
      "[12]\tvalidation_0-merror:0.42730\n",
      "[13]\tvalidation_0-merror:0.42699\n",
      "[14]\tvalidation_0-merror:0.42657\n",
      "[15]\tvalidation_0-merror:0.42596\n",
      "[16]\tvalidation_0-merror:0.42568\n",
      "[17]\tvalidation_0-merror:0.42558\n",
      "[18]\tvalidation_0-merror:0.42529\n",
      "[19]\tvalidation_0-merror:0.42466\n",
      "[20]\tvalidation_0-merror:0.42451\n",
      "[21]\tvalidation_0-merror:0.42413\n",
      "[22]\tvalidation_0-merror:0.42348\n",
      "[23]\tvalidation_0-merror:0.42301\n",
      "[24]\tvalidation_0-merror:0.42285\n",
      "[25]\tvalidation_0-merror:0.42259\n",
      "[26]\tvalidation_0-merror:0.42240\n",
      "[27]\tvalidation_0-merror:0.42200\n",
      "[28]\tvalidation_0-merror:0.42196\n",
      "[29]\tvalidation_0-merror:0.42155\n",
      "[30]\tvalidation_0-merror:0.42124\n",
      "[31]\tvalidation_0-merror:0.42107\n",
      "[32]\tvalidation_0-merror:0.42051\n",
      "[33]\tvalidation_0-merror:0.42035\n",
      "[34]\tvalidation_0-merror:0.42020\n",
      "[35]\tvalidation_0-merror:0.42023\n",
      "[36]\tvalidation_0-merror:0.42033\n",
      "[37]\tvalidation_0-merror:0.42011\n",
      "[38]\tvalidation_0-merror:0.41993\n",
      "[39]\tvalidation_0-merror:0.41969\n",
      "[40]\tvalidation_0-merror:0.41940\n",
      "[41]\tvalidation_0-merror:0.41934\n",
      "[42]\tvalidation_0-merror:0.41923\n",
      "[43]\tvalidation_0-merror:0.41910\n",
      "[44]\tvalidation_0-merror:0.41877\n",
      "[45]\tvalidation_0-merror:0.41863\n",
      "[46]\tvalidation_0-merror:0.41849\n",
      "[47]\tvalidation_0-merror:0.41845\n",
      "[48]\tvalidation_0-merror:0.41818\n",
      "[49]\tvalidation_0-merror:0.41798\n",
      "[50]\tvalidation_0-merror:0.41782\n",
      "[51]\tvalidation_0-merror:0.41777\n",
      "[52]\tvalidation_0-merror:0.41754\n",
      "[53]\tvalidation_0-merror:0.41729\n",
      "[54]\tvalidation_0-merror:0.41722\n",
      "[55]\tvalidation_0-merror:0.41720\n",
      "[56]\tvalidation_0-merror:0.41695\n",
      "[57]\tvalidation_0-merror:0.41671\n",
      "[58]\tvalidation_0-merror:0.41663\n",
      "[59]\tvalidation_0-merror:0.41654\n",
      "[60]\tvalidation_0-merror:0.41663\n",
      "[61]\tvalidation_0-merror:0.41635\n",
      "[62]\tvalidation_0-merror:0.41629\n",
      "[63]\tvalidation_0-merror:0.41625\n",
      "[64]\tvalidation_0-merror:0.41598\n",
      "[65]\tvalidation_0-merror:0.41591\n",
      "[66]\tvalidation_0-merror:0.41589\n",
      "[67]\tvalidation_0-merror:0.41579\n",
      "[68]\tvalidation_0-merror:0.41547\n",
      "[69]\tvalidation_0-merror:0.41548\n",
      "[70]\tvalidation_0-merror:0.41532\n",
      "[71]\tvalidation_0-merror:0.41525\n",
      "[72]\tvalidation_0-merror:0.41500\n",
      "[73]\tvalidation_0-merror:0.41474\n",
      "[74]\tvalidation_0-merror:0.41471\n",
      "[75]\tvalidation_0-merror:0.41446\n",
      "[76]\tvalidation_0-merror:0.41454\n",
      "[77]\tvalidation_0-merror:0.41440\n",
      "[78]\tvalidation_0-merror:0.41413\n",
      "[79]\tvalidation_0-merror:0.41417\n",
      "[80]\tvalidation_0-merror:0.41415\n",
      "[81]\tvalidation_0-merror:0.41395\n",
      "[82]\tvalidation_0-merror:0.41392\n",
      "[83]\tvalidation_0-merror:0.41373\n",
      "[84]\tvalidation_0-merror:0.41345\n",
      "[85]\tvalidation_0-merror:0.41341\n",
      "[86]\tvalidation_0-merror:0.41307\n",
      "[87]\tvalidation_0-merror:0.41302\n",
      "[88]\tvalidation_0-merror:0.41299\n",
      "[89]\tvalidation_0-merror:0.41279\n",
      "[90]\tvalidation_0-merror:0.41267\n",
      "[91]\tvalidation_0-merror:0.41251\n",
      "[92]\tvalidation_0-merror:0.41224\n",
      "[93]\tvalidation_0-merror:0.41220\n",
      "[94]\tvalidation_0-merror:0.41212\n",
      "[95]\tvalidation_0-merror:0.41204\n",
      "[96]\tvalidation_0-merror:0.41200\n",
      "[97]\tvalidation_0-merror:0.41202\n",
      "[98]\tvalidation_0-merror:0.41180\n",
      "[99]\tvalidation_0-merror:0.41155\n",
      "[100]\tvalidation_0-merror:0.41145\n",
      "[101]\tvalidation_0-merror:0.41145\n",
      "[102]\tvalidation_0-merror:0.41137\n",
      "[103]\tvalidation_0-merror:0.41110\n",
      "[104]\tvalidation_0-merror:0.41099\n",
      "[105]\tvalidation_0-merror:0.41095\n",
      "[106]\tvalidation_0-merror:0.41090\n",
      "[107]\tvalidation_0-merror:0.41092\n",
      "[108]\tvalidation_0-merror:0.41078\n",
      "[109]\tvalidation_0-merror:0.41058\n",
      "[110]\tvalidation_0-merror:0.41062\n",
      "[111]\tvalidation_0-merror:0.41060\n",
      "[112]\tvalidation_0-merror:0.41046\n",
      "[113]\tvalidation_0-merror:0.41032\n",
      "[114]\tvalidation_0-merror:0.41021\n",
      "[115]\tvalidation_0-merror:0.41019\n",
      "[116]\tvalidation_0-merror:0.41009\n",
      "[117]\tvalidation_0-merror:0.40973\n",
      "[118]\tvalidation_0-merror:0.40973\n",
      "[119]\tvalidation_0-merror:0.40950\n",
      "[120]\tvalidation_0-merror:0.40947\n",
      "[121]\tvalidation_0-merror:0.40934\n",
      "[122]\tvalidation_0-merror:0.40926\n",
      "[123]\tvalidation_0-merror:0.40932\n",
      "[124]\tvalidation_0-merror:0.40944\n",
      "[125]\tvalidation_0-merror:0.40929\n",
      "[126]\tvalidation_0-merror:0.40924\n",
      "[127]\tvalidation_0-merror:0.40919\n",
      "[128]\tvalidation_0-merror:0.40914\n",
      "[129]\tvalidation_0-merror:0.40892\n",
      "[130]\tvalidation_0-merror:0.40891\n",
      "[131]\tvalidation_0-merror:0.40883\n",
      "[132]\tvalidation_0-merror:0.40902\n",
      "[133]\tvalidation_0-merror:0.40903\n",
      "[134]\tvalidation_0-merror:0.40895\n",
      "[135]\tvalidation_0-merror:0.40882\n",
      "[136]\tvalidation_0-merror:0.40885\n",
      "[137]\tvalidation_0-merror:0.40889\n",
      "[138]\tvalidation_0-merror:0.40884\n",
      "[139]\tvalidation_0-merror:0.40877\n",
      "[140]\tvalidation_0-merror:0.40870\n",
      "[141]\tvalidation_0-merror:0.40881\n",
      "[142]\tvalidation_0-merror:0.40887\n",
      "[143]\tvalidation_0-merror:0.40871\n",
      "[144]\tvalidation_0-merror:0.40864\n",
      "[145]\tvalidation_0-merror:0.40844\n",
      "[146]\tvalidation_0-merror:0.40850\n",
      "[147]\tvalidation_0-merror:0.40849\n",
      "[148]\tvalidation_0-merror:0.40831\n",
      "[149]\tvalidation_0-merror:0.40822\n",
      "[150]\tvalidation_0-merror:0.40822\n",
      "[151]\tvalidation_0-merror:0.40823\n",
      "[152]\tvalidation_0-merror:0.40818\n",
      "[153]\tvalidation_0-merror:0.40801\n",
      "[154]\tvalidation_0-merror:0.40793\n",
      "[155]\tvalidation_0-merror:0.40778\n",
      "[156]\tvalidation_0-merror:0.40767\n",
      "[157]\tvalidation_0-merror:0.40757\n",
      "[158]\tvalidation_0-merror:0.40776\n",
      "[159]\tvalidation_0-merror:0.40788\n",
      "[160]\tvalidation_0-merror:0.40789\n",
      "[161]\tvalidation_0-merror:0.40786\n",
      "[162]\tvalidation_0-merror:0.40783\n",
      "[163]\tvalidation_0-merror:0.40783\n",
      "[164]\tvalidation_0-merror:0.40780\n",
      "[165]\tvalidation_0-merror:0.40787\n",
      "[166]\tvalidation_0-merror:0.40794\n"
     ]
    },
    {
     "data": {
      "text/plain": [
       "XGBClassifier(base_score=0.5, booster='gbtree', colsample_bylevel=1,\n",
       "              colsample_bynode=1, colsample_bytree=1, gamma=0, gpu_id=-1,\n",
       "              importance_type='gain', interaction_constraints='',\n",
       "              learning_rate=0.15, max_delta_step=0, max_depth=10,\n",
       "              min_child_weight=1, missing=nan, monotone_constraints='()',\n",
       "              n_estimators=200, n_jobs=8, num_parallel_tree=1,\n",
       "              objective='multi:softprob', random_state=0, reg_alpha=0,\n",
       "              reg_lambda=1, scale_pos_weight=None, subsample=1,\n",
       "              tree_method='exact', validate_parameters=1, verbosity=None)"
      ]
     },
     "execution_count": 64,
     "metadata": {},
     "output_type": "execute_result"
    }
   ],
   "source": [
    "xgb_cls.fit(x_train_norm, y_train.values.ravel(), **fit_params)"
   ]
  },
  {
   "cell_type": "code",
   "execution_count": 12,
   "id": "institutional-dakota",
   "metadata": {},
   "outputs": [
    {
     "name": "stdout",
     "output_type": "stream",
     "text": [
      "Confusion matrix: \n",
      "\n"
     ]
    },
    {
     "data": {
      "image/png": "[encoded data removed]",
      "text/plain": [
       "<Figure size 432x288 with 2 Axes>"
      ]
     },
     "metadata": {
      "needs_background": "light"
     },
     "output_type": "display_data"
    },
    {
     "name": "stdout",
     "output_type": "stream",
     "text": [
      "Classification report: \n",
      "\n",
      "              precision    recall  f1-score   support\n",
      "\n",
      "     Grade_1       0.71      0.82      0.76     63007\n",
      "     Grade_2       0.60      0.47      0.53     69799\n",
      "     Grade_3       0.55      0.50      0.52    109199\n",
      "     Grade_4       0.59      0.57      0.58    146850\n",
      "     Grade_5       0.74      0.81      0.77    220820\n",
      "\n",
      "    accuracy                           0.66    609675\n",
      "   macro avg       0.64      0.63      0.63    609675\n",
      "weighted avg       0.65      0.66      0.65    609675\n",
      "\n",
      "Micro-F1 score: \n",
      "\n",
      "0.6582671095255669\n",
      "Macro-F1 score:\n",
      "0.6582671095255669\n"
     ]
    }
   ],
   "source": [
    "prediction_train = xgb_cls.predict(x_train_norm)\n",
    "\n",
    "train_metrics = display_metrics(xgb_cls, \n",
    "                                x_train_norm,\n",
    "                                y_train, prediction_train)"
   ]
  },
  {
   "cell_type": "code",
   "execution_count": 23,
   "id": "excellent-cradle",
   "metadata": {},
   "outputs": [
    {
     "name": "stdout",
     "output_type": "stream",
     "text": [
      "Confusion matrix: \n",
      "\n"
     ]
    },
    {
     "data": {
      "image/png": "[encoded data removed]",
      "text/plain": [
       "<Figure size 432x288 with 2 Axes>"
      ]
     },
     "metadata": {
      "needs_background": "light"
     },
     "output_type": "display_data"
    },
    {
     "name": "stdout",
     "output_type": "stream",
     "text": [
      "Classification report: \n",
      "\n",
      "              precision    recall  f1-score   support\n",
      "\n",
      "     Grade_1       0.63      0.75      0.68     15808\n",
      "     Grade_2       0.45      0.34      0.38     17458\n",
      "     Grade_3       0.45      0.42      0.43     27213\n",
      "     Grade_4       0.53      0.51      0.52     36994\n",
      "     Grade_5       0.71      0.77      0.74     54946\n",
      "\n",
      "    accuracy                           0.59    152419\n",
      "   macro avg       0.55      0.56      0.55    152419\n",
      "weighted avg       0.58      0.59      0.58    152419\n",
      "\n",
      "Micro-F1 score: \n",
      "\n",
      "0.5924261410978946\n",
      "Macro-F1 score:\n",
      "0.5924261410978946\n"
     ]
    }
   ],
   "source": [
    "prediction_test = xgb_cls.predict(x_test_norm)\n",
    "\n",
    "test_metrics = display_metrics(xgb_cls, \n",
    "                               x_test_norm,\n",
    "                               y_test, prediction_test)"
   ]
  },
  {
   "cell_type": "code",
   "execution_count": 20,
   "id": "offshore-shark",
   "metadata": {},
   "outputs": [
    {
     "data": {
      "text/plain": [
       "['results/xgb_orig.joblib']"
      ]
     },
     "execution_count": 20,
     "metadata": {},
     "output_type": "execute_result"
    }
   ],
   "source": [
    "joblib.dump(xgb_cls, 'results/xgb_orig.joblib', compress=1)"
   ]
  },
  {
   "cell_type": "markdown",
   "id": "renewable-sapphire",
   "metadata": {},
   "source": [
    "### 1.2 Resampled set:"
   ]
  },
  {
   "cell_type": "markdown",
   "id": "sound-thread",
   "metadata": {},
   "source": [
    "#### 1.2.1 Over-sampling with SMOTENC"
   ]
  },
  {
   "cell_type": "code",
   "execution_count": 69,
   "id": "outer-pavilion",
   "metadata": {},
   "outputs": [
    {
     "name": "stderr",
     "output_type": "stream",
     "text": [
      "C:\\Users\\aleciu\\Anaconda3\\envs\\ml\\lib\\site-packages\\numpy\\lib\\arraysetops.py:580: FutureWarning: elementwise comparison failed; returning scalar instead, but in the future will perform elementwise comparison\n",
      "  mask |= (ar1 == a)\n"
     ]
    }
   ],
   "source": [
    "x_train_smotenc = pd.read_csv('processed_data/resampling/x_train_smotenc.csv', index_col=0).reset_index(drop=True)\n",
    "y_train_smotenc = pd.read_csv('processed_data/resampling/y_train_smotenc.csv', index_col=0).reset_index(drop=True)"
   ]
  },
  {
   "cell_type": "code",
   "execution_count": 70,
   "id": "medieval-bahrain",
   "metadata": {},
   "outputs": [],
   "source": [
    "x_train_smotenc_norm, x_test_smotenc_norm = scale(x_train_smotenc, x_test)"
   ]
  },
  {
   "cell_type": "code",
   "execution_count": 94,
   "id": "clear-roots",
   "metadata": {},
   "outputs": [],
   "source": [
    "# After trying with best params (n_est = 200) ti can still continue so we set it to 500. 200 was at the edges of\n",
    "# the grid search and it works with the original data (it stops at arond 160 iterations)\n",
    "\n",
    "xgb_cls = XGBClassifier(learning_rate=0.15, max_depth=10, n_estimators=500, n_jobs=-1)\n",
    "\n",
    "fit_params = {'early_stopping_rounds': 10,\n",
    "              'eval_metric': 'merror',\n",
    "              'eval_set': [(x_test_smotenc_norm, y_test.values.ravel())]}"
   ]
  },
  {
   "cell_type": "code",
   "execution_count": 95,
   "id": "confirmed-divide",
   "metadata": {
    "tags": []
   },
   "outputs": [
    {
     "name": "stderr",
     "output_type": "stream",
     "text": [
      "C:\\Users\\aleciu\\Anaconda3\\envs\\ml\\lib\\site-packages\\xgboost\\sklearn.py:888: UserWarning: The use of label encoder in XGBClassifier is deprecated and will be removed in a future release. To remove this warning, do the following: 1) Pass option use_label_encoder=False when constructing XGBClassifier object; and 2) Encode your labels (y) as integers starting with 0, i.e. 0, 1, 2, ..., [num_class - 1].\n",
      "  warnings.warn(label_encoder_deprecation_msg, UserWarning)\n"
     ]
    },
    {
     "name": "stdout",
     "output_type": "stream",
     "text": [
      "[0]\tvalidation_0-merror:0.45130\n",
      "[1]\tvalidation_0-merror:0.44918\n",
      "[2]\tvalidation_0-merror:0.44764\n",
      "[3]\tvalidation_0-merror:0.44666\n",
      "[4]\tvalidation_0-merror:0.44510\n",
      "[5]\tvalidation_0-merror:0.44395\n",
      "[6]\tvalidation_0-merror:0.44353\n",
      "[7]\tvalidation_0-merror:0.44333\n",
      "[8]\tvalidation_0-merror:0.44210\n",
      "[9]\tvalidation_0-merror:0.44173\n",
      "[10]\tvalidation_0-merror:0.44126\n",
      "[11]\tvalidation_0-merror:0.44105\n",
      "[12]\tvalidation_0-merror:0.44055\n",
      "[13]\tvalidation_0-merror:0.44031\n",
      "[14]\tvalidation_0-merror:0.43993\n",
      "[15]\tvalidation_0-merror:0.43969\n",
      "[16]\tvalidation_0-merror:0.43926\n",
      "[17]\tvalidation_0-merror:0.43897\n",
      "[18]\tvalidation_0-merror:0.43853\n",
      "[19]\tvalidation_0-merror:0.43828\n",
      "[20]\tvalidation_0-merror:0.43804\n",
      "[21]\tvalidation_0-merror:0.43783\n",
      "[22]\tvalidation_0-merror:0.43747\n",
      "[23]\tvalidation_0-merror:0.43697\n",
      "[24]\tvalidation_0-merror:0.43683\n",
      "[25]\tvalidation_0-merror:0.43664\n",
      "[26]\tvalidation_0-merror:0.43592\n",
      "[27]\tvalidation_0-merror:0.43584\n",
      "[28]\tvalidation_0-merror:0.43571\n",
      "[29]\tvalidation_0-merror:0.43541\n",
      "[30]\tvalidation_0-merror:0.43516\n",
      "[31]\tvalidation_0-merror:0.43453\n",
      "[32]\tvalidation_0-merror:0.43432\n",
      "[33]\tvalidation_0-merror:0.43409\n",
      "[34]\tvalidation_0-merror:0.43397\n",
      "[35]\tvalidation_0-merror:0.43348\n",
      "[36]\tvalidation_0-merror:0.43322\n",
      "[37]\tvalidation_0-merror:0.43310\n",
      "[38]\tvalidation_0-merror:0.43277\n",
      "[39]\tvalidation_0-merror:0.43224\n",
      "[40]\tvalidation_0-merror:0.43220\n",
      "[41]\tvalidation_0-merror:0.43196\n",
      "[42]\tvalidation_0-merror:0.43175\n",
      "[43]\tvalidation_0-merror:0.43147\n",
      "[44]\tvalidation_0-merror:0.43130\n",
      "[45]\tvalidation_0-merror:0.43119\n",
      "[46]\tvalidation_0-merror:0.43086\n",
      "[47]\tvalidation_0-merror:0.43067\n",
      "[48]\tvalidation_0-merror:0.43041\n",
      "[49]\tvalidation_0-merror:0.43012\n",
      "[50]\tvalidation_0-merror:0.42992\n",
      "[51]\tvalidation_0-merror:0.42934\n",
      "[52]\tvalidation_0-merror:0.42921\n",
      "[53]\tvalidation_0-merror:0.42894\n",
      "[54]\tvalidation_0-merror:0.42884\n",
      "[55]\tvalidation_0-merror:0.42847\n",
      "[56]\tvalidation_0-merror:0.42821\n",
      "[57]\tvalidation_0-merror:0.42801\n",
      "[58]\tvalidation_0-merror:0.42800\n",
      "[59]\tvalidation_0-merror:0.42784\n",
      "[60]\tvalidation_0-merror:0.42762\n",
      "[61]\tvalidation_0-merror:0.42726\n",
      "[62]\tvalidation_0-merror:0.42715\n",
      "[63]\tvalidation_0-merror:0.42697\n",
      "[64]\tvalidation_0-merror:0.42667\n",
      "[65]\tvalidation_0-merror:0.42653\n",
      "[66]\tvalidation_0-merror:0.42625\n",
      "[67]\tvalidation_0-merror:0.42619\n",
      "[68]\tvalidation_0-merror:0.42590\n",
      "[69]\tvalidation_0-merror:0.42586\n",
      "[70]\tvalidation_0-merror:0.42581\n",
      "[71]\tvalidation_0-merror:0.42571\n",
      "[72]\tvalidation_0-merror:0.42556\n",
      "[73]\tvalidation_0-merror:0.42512\n",
      "[74]\tvalidation_0-merror:0.42483\n",
      "[75]\tvalidation_0-merror:0.42477\n",
      "[76]\tvalidation_0-merror:0.42463\n",
      "[77]\tvalidation_0-merror:0.42457\n",
      "[78]\tvalidation_0-merror:0.42436\n",
      "[79]\tvalidation_0-merror:0.42410\n",
      "[80]\tvalidation_0-merror:0.42383\n",
      "[81]\tvalidation_0-merror:0.42356\n",
      "[82]\tvalidation_0-merror:0.42348\n",
      "[83]\tvalidation_0-merror:0.42342\n",
      "[84]\tvalidation_0-merror:0.42325\n",
      "[85]\tvalidation_0-merror:0.42325\n",
      "[86]\tvalidation_0-merror:0.42293\n",
      "[87]\tvalidation_0-merror:0.42280\n",
      "[88]\tvalidation_0-merror:0.42248\n",
      "[89]\tvalidation_0-merror:0.42215\n",
      "[90]\tvalidation_0-merror:0.42199\n",
      "[91]\tvalidation_0-merror:0.42196\n",
      "[92]\tvalidation_0-merror:0.42175\n",
      "[93]\tvalidation_0-merror:0.42150\n",
      "[94]\tvalidation_0-merror:0.42124\n",
      "[95]\tvalidation_0-merror:0.42119\n",
      "[96]\tvalidation_0-merror:0.42095\n",
      "[97]\tvalidation_0-merror:0.42079\n",
      "[98]\tvalidation_0-merror:0.42053\n",
      "[99]\tvalidation_0-merror:0.42013\n",
      "[100]\tvalidation_0-merror:0.41985\n",
      "[101]\tvalidation_0-merror:0.41974\n",
      "[102]\tvalidation_0-merror:0.41962\n",
      "[103]\tvalidation_0-merror:0.41933\n",
      "[104]\tvalidation_0-merror:0.41913\n",
      "[105]\tvalidation_0-merror:0.41894\n",
      "[106]\tvalidation_0-merror:0.41889\n",
      "[107]\tvalidation_0-merror:0.41860\n",
      "[108]\tvalidation_0-merror:0.41852\n",
      "[109]\tvalidation_0-merror:0.41831\n",
      "[110]\tvalidation_0-merror:0.41820\n",
      "[111]\tvalidation_0-merror:0.41800\n",
      "[112]\tvalidation_0-merror:0.41796\n",
      "[113]\tvalidation_0-merror:0.41802\n",
      "[114]\tvalidation_0-merror:0.41786\n",
      "[115]\tvalidation_0-merror:0.41774\n",
      "[116]\tvalidation_0-merror:0.41755\n",
      "[117]\tvalidation_0-merror:0.41746\n",
      "[118]\tvalidation_0-merror:0.41717\n",
      "[119]\tvalidation_0-merror:0.41720\n",
      "[120]\tvalidation_0-merror:0.41697\n",
      "[121]\tvalidation_0-merror:0.41694\n",
      "[122]\tvalidation_0-merror:0.41694\n",
      "[123]\tvalidation_0-merror:0.41675\n",
      "[124]\tvalidation_0-merror:0.41662\n",
      "[125]\tvalidation_0-merror:0.41659\n",
      "[126]\tvalidation_0-merror:0.41622\n",
      "[127]\tvalidation_0-merror:0.41612\n",
      "[128]\tvalidation_0-merror:0.41614\n",
      "[129]\tvalidation_0-merror:0.41614\n",
      "[130]\tvalidation_0-merror:0.41591\n",
      "[131]\tvalidation_0-merror:0.41587\n",
      "[132]\tvalidation_0-merror:0.41607\n",
      "[133]\tvalidation_0-merror:0.41570\n",
      "[134]\tvalidation_0-merror:0.41553\n",
      "[135]\tvalidation_0-merror:0.41538\n",
      "[136]\tvalidation_0-merror:0.41538\n",
      "[137]\tvalidation_0-merror:0.41521\n",
      "[138]\tvalidation_0-merror:0.41524\n",
      "[139]\tvalidation_0-merror:0.41532\n",
      "[140]\tvalidation_0-merror:0.41526\n",
      "[141]\tvalidation_0-merror:0.41533\n",
      "[142]\tvalidation_0-merror:0.41522\n",
      "[143]\tvalidation_0-merror:0.41509\n",
      "[144]\tvalidation_0-merror:0.41499\n",
      "[145]\tvalidation_0-merror:0.41496\n",
      "[146]\tvalidation_0-merror:0.41480\n",
      "[147]\tvalidation_0-merror:0.41460\n",
      "[148]\tvalidation_0-merror:0.41456\n",
      "[149]\tvalidation_0-merror:0.41444\n",
      "[150]\tvalidation_0-merror:0.41451\n",
      "[151]\tvalidation_0-merror:0.41444\n",
      "[152]\tvalidation_0-merror:0.41437\n",
      "[153]\tvalidation_0-merror:0.41412\n",
      "[154]\tvalidation_0-merror:0.41410\n",
      "[155]\tvalidation_0-merror:0.41417\n",
      "[156]\tvalidation_0-merror:0.41404\n",
      "[157]\tvalidation_0-merror:0.41389\n",
      "[158]\tvalidation_0-merror:0.41389\n",
      "[159]\tvalidation_0-merror:0.41368\n",
      "[160]\tvalidation_0-merror:0.41365\n",
      "[161]\tvalidation_0-merror:0.41372\n",
      "[162]\tvalidation_0-merror:0.41369\n",
      "[163]\tvalidation_0-merror:0.41370\n",
      "[164]\tvalidation_0-merror:0.41356\n",
      "[165]\tvalidation_0-merror:0.41352\n",
      "[166]\tvalidation_0-merror:0.41357\n",
      "[167]\tvalidation_0-merror:0.41360\n",
      "[168]\tvalidation_0-merror:0.41350\n",
      "[169]\tvalidation_0-merror:0.41356\n",
      "[170]\tvalidation_0-merror:0.41353\n",
      "[171]\tvalidation_0-merror:0.41347\n",
      "[172]\tvalidation_0-merror:0.41344\n",
      "[173]\tvalidation_0-merror:0.41332\n",
      "[174]\tvalidation_0-merror:0.41323\n",
      "[175]\tvalidation_0-merror:0.41310\n",
      "[176]\tvalidation_0-merror:0.41304\n",
      "[177]\tvalidation_0-merror:0.41297\n",
      "[178]\tvalidation_0-merror:0.41285\n",
      "[179]\tvalidation_0-merror:0.41287\n",
      "[180]\tvalidation_0-merror:0.41268\n",
      "[181]\tvalidation_0-merror:0.41263\n",
      "[182]\tvalidation_0-merror:0.41276\n",
      "[183]\tvalidation_0-merror:0.41263\n",
      "[184]\tvalidation_0-merror:0.41250\n",
      "[185]\tvalidation_0-merror:0.41225\n",
      "[186]\tvalidation_0-merror:0.41228\n",
      "[187]\tvalidation_0-merror:0.41224\n",
      "[188]\tvalidation_0-merror:0.41221\n",
      "[189]\tvalidation_0-merror:0.41230\n",
      "[190]\tvalidation_0-merror:0.41224\n",
      "[191]\tvalidation_0-merror:0.41217\n",
      "[192]\tvalidation_0-merror:0.41200\n",
      "[193]\tvalidation_0-merror:0.41177\n",
      "[194]\tvalidation_0-merror:0.41177\n",
      "[195]\tvalidation_0-merror:0.41171\n",
      "[196]\tvalidation_0-merror:0.41174\n",
      "[197]\tvalidation_0-merror:0.41185\n",
      "[198]\tvalidation_0-merror:0.41152\n",
      "[199]\tvalidation_0-merror:0.41141\n",
      "[200]\tvalidation_0-merror:0.41142\n",
      "[201]\tvalidation_0-merror:0.41133\n",
      "[202]\tvalidation_0-merror:0.41121\n",
      "[203]\tvalidation_0-merror:0.41112\n",
      "[204]\tvalidation_0-merror:0.41108\n",
      "[205]\tvalidation_0-merror:0.41119\n",
      "[206]\tvalidation_0-merror:0.41108\n",
      "[207]\tvalidation_0-merror:0.41091\n",
      "[208]\tvalidation_0-merror:0.41105\n",
      "[209]\tvalidation_0-merror:0.41096\n",
      "[210]\tvalidation_0-merror:0.41088\n",
      "[211]\tvalidation_0-merror:0.41080\n",
      "[212]\tvalidation_0-merror:0.41076\n",
      "[213]\tvalidation_0-merror:0.41070\n",
      "[214]\tvalidation_0-merror:0.41063\n",
      "[215]\tvalidation_0-merror:0.41058\n",
      "[216]\tvalidation_0-merror:0.41055\n",
      "[217]\tvalidation_0-merror:0.41057\n",
      "[218]\tvalidation_0-merror:0.41052\n",
      "[219]\tvalidation_0-merror:0.41052\n",
      "[220]\tvalidation_0-merror:0.41057\n",
      "[221]\tvalidation_0-merror:0.41054\n",
      "[222]\tvalidation_0-merror:0.41033\n",
      "[223]\tvalidation_0-merror:0.41026\n",
      "[224]\tvalidation_0-merror:0.41014\n",
      "[225]\tvalidation_0-merror:0.41004\n",
      "[226]\tvalidation_0-merror:0.41005\n",
      "[227]\tvalidation_0-merror:0.40995\n",
      "[228]\tvalidation_0-merror:0.41002\n",
      "[229]\tvalidation_0-merror:0.41004\n",
      "[230]\tvalidation_0-merror:0.41007\n",
      "[231]\tvalidation_0-merror:0.40996\n",
      "[232]\tvalidation_0-merror:0.40997\n",
      "[233]\tvalidation_0-merror:0.40990\n",
      "[234]\tvalidation_0-merror:0.40996\n",
      "[235]\tvalidation_0-merror:0.40997\n",
      "[236]\tvalidation_0-merror:0.40994\n",
      "[237]\tvalidation_0-merror:0.40999\n",
      "[238]\tvalidation_0-merror:0.40990\n",
      "[239]\tvalidation_0-merror:0.40992\n",
      "[240]\tvalidation_0-merror:0.40992\n",
      "[241]\tvalidation_0-merror:0.40988\n",
      "[242]\tvalidation_0-merror:0.40976\n",
      "[243]\tvalidation_0-merror:0.40968\n",
      "[244]\tvalidation_0-merror:0.40980\n",
      "[245]\tvalidation_0-merror:0.40974\n",
      "[246]\tvalidation_0-merror:0.40975\n",
      "[247]\tvalidation_0-merror:0.40976\n",
      "[248]\tvalidation_0-merror:0.40962\n",
      "[249]\tvalidation_0-merror:0.40955\n",
      "[250]\tvalidation_0-merror:0.40942\n",
      "[251]\tvalidation_0-merror:0.40961\n",
      "[252]\tvalidation_0-merror:0.40969\n",
      "[253]\tvalidation_0-merror:0.40979\n",
      "[254]\tvalidation_0-merror:0.40973\n",
      "[255]\tvalidation_0-merror:0.40982\n",
      "[256]\tvalidation_0-merror:0.40974\n",
      "[257]\tvalidation_0-merror:0.40975\n",
      "[258]\tvalidation_0-merror:0.40951\n",
      "[259]\tvalidation_0-merror:0.40954\n"
     ]
    },
    {
     "data": {
      "text/plain": [
       "XGBClassifier(base_score=0.5, booster='gbtree', colsample_bylevel=1,\n",
       "              colsample_bynode=1, colsample_bytree=1, gamma=0, gpu_id=-1,\n",
       "              importance_type='gain', interaction_constraints='',\n",
       "              learning_rate=0.15, max_delta_step=0, max_depth=10,\n",
       "              min_child_weight=1, missing=nan, monotone_constraints='()',\n",
       "              n_estimators=500, n_jobs=-1, num_parallel_tree=1,\n",
       "              objective='multi:softprob', random_state=0, reg_alpha=0,\n",
       "              reg_lambda=1, scale_pos_weight=None, subsample=1,\n",
       "              tree_method='exact', validate_parameters=1, verbosity=None)"
      ]
     },
     "execution_count": 95,
     "metadata": {},
     "output_type": "execute_result"
    }
   ],
   "source": [
    "xgb_cls.fit(x_train_smotenc_norm, y_train_smotenc.values.ravel(), **fit_params)"
   ]
  },
  {
   "cell_type": "code",
   "execution_count": 96,
   "id": "governmental-charles",
   "metadata": {},
   "outputs": [
    {
     "name": "stdout",
     "output_type": "stream",
     "text": [
      "Confusion matrix: \n",
      "\n"
     ]
    },
    {
     "data": {
      "image/png": "[encoded data removed]",
      "text/plain": [
       "<Figure size 432x288 with 2 Axes>"
      ]
     },
     "metadata": {
      "needs_background": "light"
     },
     "output_type": "display_data"
    },
    {
     "name": "stdout",
     "output_type": "stream",
     "text": [
      "Classification report: \n",
      "\n",
      "              precision    recall  f1-score   support\n",
      "\n",
      "     Grade_1       0.83      0.91      0.87    220820\n",
      "     Grade_2       0.73      0.70      0.71    220820\n",
      "     Grade_3       0.66      0.63      0.64    220820\n",
      "     Grade_4       0.68      0.65      0.67    220820\n",
      "     Grade_5       0.76      0.80      0.78    220820\n",
      "\n",
      "    accuracy                           0.74   1104100\n",
      "   macro avg       0.73      0.74      0.73   1104100\n",
      "weighted avg       0.73      0.74      0.73   1104100\n",
      "\n",
      "Micro-F1 score: \n",
      "\n",
      "0.7363499682999729\n",
      "Macro-F1 score:\n",
      "0.7363499682999729\n"
     ]
    }
   ],
   "source": [
    "prediction_train = xgb_cls.predict(x_train_smotenc_norm)\n",
    "\n",
    "train_metrics = display_metrics(xgb_cls,\n",
    "                                x_train_smotenc_norm,\n",
    "                                y_train_smotenc, prediction_train)"
   ]
  },
  {
   "cell_type": "code",
   "execution_count": 97,
   "id": "visible-illustration",
   "metadata": {},
   "outputs": [
    {
     "name": "stdout",
     "output_type": "stream",
     "text": [
      "Confusion matrix: \n",
      "\n"
     ]
    },
    {
     "data": {
      "image/png": "[encoded data removed]",
      "text/plain": [
       "<Figure size 432x288 with 2 Axes>"
      ]
     },
     "metadata": {
      "needs_background": "light"
     },
     "output_type": "display_data"
    },
    {
     "name": "stdout",
     "output_type": "stream",
     "text": [
      "Classification report: \n",
      "\n",
      "              precision    recall  f1-score   support\n",
      "\n",
      "     Grade_1       0.62      0.74      0.68     15808\n",
      "     Grade_2       0.43      0.36      0.39     17458\n",
      "     Grade_3       0.44      0.43      0.44     27213\n",
      "     Grade_4       0.53      0.51      0.52     36994\n",
      "     Grade_5       0.73      0.76      0.74     54946\n",
      "\n",
      "    accuracy                           0.59    152419\n",
      "   macro avg       0.55      0.56      0.55    152419\n",
      "weighted avg       0.58      0.59      0.59    152419\n",
      "\n",
      "Micro-F1 score: \n",
      "\n",
      "0.590575978060478\n",
      "Macro-F1 score:\n",
      "0.590575978060478\n"
     ]
    }
   ],
   "source": [
    "prediction_test = xgb_cls.predict(x_test_smotenc_norm)\n",
    "\n",
    "test_metrics = display_metrics(xgb_cls,\n",
    "                               x_test_smotenc_norm,\n",
    "                               y_test, prediction_test)"
   ]
  },
  {
   "cell_type": "code",
   "execution_count": 98,
   "id": "signal-topic",
   "metadata": {},
   "outputs": [
    {
     "data": {
      "text/plain": [
       "['results/xgb_smotenc.joblib']"
      ]
     },
     "execution_count": 98,
     "metadata": {},
     "output_type": "execute_result"
    }
   ],
   "source": [
    "joblib.dump(xgb_cls, 'results/xgb_smotenc.joblib', compress=1)"
   ]
  },
  {
   "cell_type": "markdown",
   "id": "sexual-proceeding",
   "metadata": {},
   "source": [
    "### 1.2.2 Under-sampling: cleaning oversampled dataset"
   ]
  },
  {
   "cell_type": "markdown",
   "id": "dominant-spare",
   "metadata": {},
   "source": [
    "#### 1.2.2.1 Tomek"
   ]
  },
  {
   "cell_type": "code",
   "execution_count": 99,
   "id": "exact-penguin",
   "metadata": {},
   "outputs": [],
   "source": [
    "x_train_smotenc_tmk = pd.read_csv('processed_data/resampling/x_train_smotenc_tmk.csv', index_col=0).reset_index(drop=True)\n",
    "y_train_smotenc_tmk = pd.read_csv('processed_data/resampling/y_train_smotenc_tmk.csv', index_col=0).reset_index(drop=True)"
   ]
  },
  {
   "cell_type": "code",
   "execution_count": 100,
   "id": "incident-breakdown",
   "metadata": {},
   "outputs": [],
   "source": [
    "x_train_smotenc_tmk_norm, x_test_smotenc_tmk_norm = scale(x_train_smotenc_tmk, x_test)"
   ]
  },
  {
   "cell_type": "code",
   "execution_count": 101,
   "id": "protected-trial",
   "metadata": {},
   "outputs": [],
   "source": [
    "# After trying with best params (n_est = 200) ti can still continue so we set it to 500. 200 was at the edges of\n",
    "# the grid search and it works with the original data (it stops at arond 160 iterations)\n",
    "\n",
    "xgb_cls = XGBClassifier(learning_rate=0.15, max_depth=10, n_estimators=500, n_jobs=-1)\n",
    "\n",
    "fit_params = {'early_stopping_rounds': 10,\n",
    "              'eval_metric': 'merror',\n",
    "              'eval_set': [(x_test_smotenc_tmk_norm, y_test.values.ravel())]}"
   ]
  },
  {
   "cell_type": "code",
   "execution_count": 102,
   "id": "stylish-accident",
   "metadata": {},
   "outputs": [
    {
     "name": "stderr",
     "output_type": "stream",
     "text": [
      "C:\\Users\\aleciu\\Anaconda3\\envs\\ml\\lib\\site-packages\\xgboost\\sklearn.py:888: UserWarning: The use of label encoder in XGBClassifier is deprecated and will be removed in a future release. To remove this warning, do the following: 1) Pass option use_label_encoder=False when constructing XGBClassifier object; and 2) Encode your labels (y) as integers starting with 0, i.e. 0, 1, 2, ..., [num_class - 1].\n",
      "  warnings.warn(label_encoder_deprecation_msg, UserWarning)\n"
     ]
    },
    {
     "name": "stdout",
     "output_type": "stream",
     "text": [
      "[0]\tvalidation_0-merror:0.45185\n",
      "[1]\tvalidation_0-merror:0.44811\n",
      "[2]\tvalidation_0-merror:0.44779\n",
      "[3]\tvalidation_0-merror:0.44645\n",
      "[4]\tvalidation_0-merror:0.44502\n",
      "[5]\tvalidation_0-merror:0.44458\n",
      "[6]\tvalidation_0-merror:0.44415\n",
      "[7]\tvalidation_0-merror:0.44395\n",
      "[8]\tvalidation_0-merror:0.44291\n",
      "[9]\tvalidation_0-merror:0.44293\n",
      "[10]\tvalidation_0-merror:0.44220\n",
      "[11]\tvalidation_0-merror:0.44180\n",
      "[12]\tvalidation_0-merror:0.44122\n",
      "[13]\tvalidation_0-merror:0.44063\n",
      "[14]\tvalidation_0-merror:0.44023\n",
      "[15]\tvalidation_0-merror:0.44018\n",
      "[16]\tvalidation_0-merror:0.43992\n",
      "[17]\tvalidation_0-merror:0.43961\n",
      "[18]\tvalidation_0-merror:0.43914\n",
      "[19]\tvalidation_0-merror:0.43887\n",
      "[20]\tvalidation_0-merror:0.43838\n",
      "[21]\tvalidation_0-merror:0.43790\n",
      "[22]\tvalidation_0-merror:0.43758\n",
      "[23]\tvalidation_0-merror:0.43716\n",
      "[24]\tvalidation_0-merror:0.43699\n",
      "[25]\tvalidation_0-merror:0.43689\n",
      "[26]\tvalidation_0-merror:0.43689\n",
      "[27]\tvalidation_0-merror:0.43641\n",
      "[28]\tvalidation_0-merror:0.43627\n",
      "[29]\tvalidation_0-merror:0.43597\n",
      "[30]\tvalidation_0-merror:0.43562\n",
      "[31]\tvalidation_0-merror:0.43522\n",
      "[32]\tvalidation_0-merror:0.43526\n",
      "[33]\tvalidation_0-merror:0.43513\n",
      "[34]\tvalidation_0-merror:0.43454\n",
      "[35]\tvalidation_0-merror:0.43442\n",
      "[36]\tvalidation_0-merror:0.43416\n",
      "[37]\tvalidation_0-merror:0.43372\n",
      "[38]\tvalidation_0-merror:0.43363\n",
      "[39]\tvalidation_0-merror:0.43358\n",
      "[40]\tvalidation_0-merror:0.43319\n",
      "[41]\tvalidation_0-merror:0.43308\n",
      "[42]\tvalidation_0-merror:0.43281\n",
      "[43]\tvalidation_0-merror:0.43254\n",
      "[44]\tvalidation_0-merror:0.43222\n",
      "[45]\tvalidation_0-merror:0.43183\n",
      "[46]\tvalidation_0-merror:0.43175\n",
      "[47]\tvalidation_0-merror:0.43139\n",
      "[48]\tvalidation_0-merror:0.43147\n",
      "[49]\tvalidation_0-merror:0.43124\n",
      "[50]\tvalidation_0-merror:0.43124\n",
      "[51]\tvalidation_0-merror:0.43074\n",
      "[52]\tvalidation_0-merror:0.43081\n",
      "[53]\tvalidation_0-merror:0.43065\n",
      "[54]\tvalidation_0-merror:0.43037\n",
      "[55]\tvalidation_0-merror:0.43008\n",
      "[56]\tvalidation_0-merror:0.43008\n",
      "[57]\tvalidation_0-merror:0.42968\n",
      "[58]\tvalidation_0-merror:0.42936\n",
      "[59]\tvalidation_0-merror:0.42917\n",
      "[60]\tvalidation_0-merror:0.42895\n",
      "[61]\tvalidation_0-merror:0.42885\n",
      "[62]\tvalidation_0-merror:0.42856\n",
      "[63]\tvalidation_0-merror:0.42844\n",
      "[64]\tvalidation_0-merror:0.42824\n",
      "[65]\tvalidation_0-merror:0.42790\n",
      "[66]\tvalidation_0-merror:0.42792\n",
      "[67]\tvalidation_0-merror:0.42773\n",
      "[68]\tvalidation_0-merror:0.42756\n",
      "[69]\tvalidation_0-merror:0.42736\n",
      "[70]\tvalidation_0-merror:0.42714\n",
      "[71]\tvalidation_0-merror:0.42680\n",
      "[72]\tvalidation_0-merror:0.42663\n",
      "[73]\tvalidation_0-merror:0.42638\n",
      "[74]\tvalidation_0-merror:0.42621\n",
      "[75]\tvalidation_0-merror:0.42622\n",
      "[76]\tvalidation_0-merror:0.42598\n",
      "[77]\tvalidation_0-merror:0.42608\n",
      "[78]\tvalidation_0-merror:0.42597\n",
      "[79]\tvalidation_0-merror:0.42568\n",
      "[80]\tvalidation_0-merror:0.42543\n",
      "[81]\tvalidation_0-merror:0.42552\n",
      "[82]\tvalidation_0-merror:0.42529\n",
      "[83]\tvalidation_0-merror:0.42514\n",
      "[84]\tvalidation_0-merror:0.42499\n",
      "[85]\tvalidation_0-merror:0.42463\n",
      "[86]\tvalidation_0-merror:0.42463\n",
      "[87]\tvalidation_0-merror:0.42440\n",
      "[88]\tvalidation_0-merror:0.42433\n",
      "[89]\tvalidation_0-merror:0.42447\n",
      "[90]\tvalidation_0-merror:0.42407\n",
      "[91]\tvalidation_0-merror:0.42376\n",
      "[92]\tvalidation_0-merror:0.42354\n",
      "[93]\tvalidation_0-merror:0.42337\n",
      "[94]\tvalidation_0-merror:0.42311\n",
      "[95]\tvalidation_0-merror:0.42295\n",
      "[96]\tvalidation_0-merror:0.42274\n",
      "[97]\tvalidation_0-merror:0.42262\n",
      "[98]\tvalidation_0-merror:0.42255\n",
      "[99]\tvalidation_0-merror:0.42268\n",
      "[100]\tvalidation_0-merror:0.42238\n",
      "[101]\tvalidation_0-merror:0.42238\n",
      "[102]\tvalidation_0-merror:0.42220\n",
      "[103]\tvalidation_0-merror:0.42207\n",
      "[104]\tvalidation_0-merror:0.42196\n",
      "[105]\tvalidation_0-merror:0.42186\n",
      "[106]\tvalidation_0-merror:0.42186\n",
      "[107]\tvalidation_0-merror:0.42171\n",
      "[108]\tvalidation_0-merror:0.42157\n",
      "[109]\tvalidation_0-merror:0.42147\n",
      "[110]\tvalidation_0-merror:0.42114\n",
      "[111]\tvalidation_0-merror:0.42072\n",
      "[112]\tvalidation_0-merror:0.42066\n",
      "[113]\tvalidation_0-merror:0.42062\n",
      "[114]\tvalidation_0-merror:0.42076\n",
      "[115]\tvalidation_0-merror:0.42077\n",
      "[116]\tvalidation_0-merror:0.42049\n",
      "[117]\tvalidation_0-merror:0.42052\n",
      "[118]\tvalidation_0-merror:0.42045\n",
      "[119]\tvalidation_0-merror:0.42038\n",
      "[120]\tvalidation_0-merror:0.42034\n",
      "[121]\tvalidation_0-merror:0.42002\n",
      "[122]\tvalidation_0-merror:0.41992\n",
      "[123]\tvalidation_0-merror:0.41997\n",
      "[124]\tvalidation_0-merror:0.41984\n",
      "[125]\tvalidation_0-merror:0.41968\n",
      "[126]\tvalidation_0-merror:0.41952\n",
      "[127]\tvalidation_0-merror:0.41938\n",
      "[128]\tvalidation_0-merror:0.41935\n",
      "[129]\tvalidation_0-merror:0.41926\n",
      "[130]\tvalidation_0-merror:0.41905\n",
      "[131]\tvalidation_0-merror:0.41894\n",
      "[132]\tvalidation_0-merror:0.41892\n",
      "[133]\tvalidation_0-merror:0.41894\n",
      "[134]\tvalidation_0-merror:0.41876\n",
      "[135]\tvalidation_0-merror:0.41879\n",
      "[136]\tvalidation_0-merror:0.41869\n",
      "[137]\tvalidation_0-merror:0.41870\n",
      "[138]\tvalidation_0-merror:0.41872\n",
      "[139]\tvalidation_0-merror:0.41851\n",
      "[140]\tvalidation_0-merror:0.41834\n",
      "[141]\tvalidation_0-merror:0.41816\n",
      "[142]\tvalidation_0-merror:0.41798\n",
      "[143]\tvalidation_0-merror:0.41781\n",
      "[144]\tvalidation_0-merror:0.41763\n",
      "[145]\tvalidation_0-merror:0.41757\n",
      "[146]\tvalidation_0-merror:0.41760\n",
      "[147]\tvalidation_0-merror:0.41768\n",
      "[148]\tvalidation_0-merror:0.41746\n",
      "[149]\tvalidation_0-merror:0.41735\n",
      "[150]\tvalidation_0-merror:0.41734\n",
      "[151]\tvalidation_0-merror:0.41726\n",
      "[152]\tvalidation_0-merror:0.41707\n",
      "[153]\tvalidation_0-merror:0.41701\n",
      "[154]\tvalidation_0-merror:0.41698\n",
      "[155]\tvalidation_0-merror:0.41704\n",
      "[156]\tvalidation_0-merror:0.41707\n",
      "[157]\tvalidation_0-merror:0.41694\n",
      "[158]\tvalidation_0-merror:0.41684\n",
      "[159]\tvalidation_0-merror:0.41684\n",
      "[160]\tvalidation_0-merror:0.41691\n",
      "[161]\tvalidation_0-merror:0.41687\n",
      "[162]\tvalidation_0-merror:0.41683\n",
      "[163]\tvalidation_0-merror:0.41662\n",
      "[164]\tvalidation_0-merror:0.41672\n",
      "[165]\tvalidation_0-merror:0.41665\n",
      "[166]\tvalidation_0-merror:0.41641\n",
      "[167]\tvalidation_0-merror:0.41619\n",
      "[168]\tvalidation_0-merror:0.41618\n",
      "[169]\tvalidation_0-merror:0.41612\n",
      "[170]\tvalidation_0-merror:0.41599\n",
      "[171]\tvalidation_0-merror:0.41602\n",
      "[172]\tvalidation_0-merror:0.41580\n",
      "[173]\tvalidation_0-merror:0.41591\n",
      "[174]\tvalidation_0-merror:0.41585\n",
      "[175]\tvalidation_0-merror:0.41578\n",
      "[176]\tvalidation_0-merror:0.41581\n",
      "[177]\tvalidation_0-merror:0.41573\n",
      "[178]\tvalidation_0-merror:0.41575\n",
      "[179]\tvalidation_0-merror:0.41548\n",
      "[180]\tvalidation_0-merror:0.41551\n",
      "[181]\tvalidation_0-merror:0.41539\n",
      "[182]\tvalidation_0-merror:0.41544\n",
      "[183]\tvalidation_0-merror:0.41537\n",
      "[184]\tvalidation_0-merror:0.41534\n",
      "[185]\tvalidation_0-merror:0.41542\n",
      "[186]\tvalidation_0-merror:0.41545\n",
      "[187]\tvalidation_0-merror:0.41537\n",
      "[188]\tvalidation_0-merror:0.41535\n",
      "[189]\tvalidation_0-merror:0.41538\n",
      "[190]\tvalidation_0-merror:0.41528\n",
      "[191]\tvalidation_0-merror:0.41516\n",
      "[192]\tvalidation_0-merror:0.41511\n",
      "[193]\tvalidation_0-merror:0.41509\n",
      "[194]\tvalidation_0-merror:0.41501\n",
      "[195]\tvalidation_0-merror:0.41493\n",
      "[196]\tvalidation_0-merror:0.41489\n",
      "[197]\tvalidation_0-merror:0.41463\n",
      "[198]\tvalidation_0-merror:0.41466\n",
      "[199]\tvalidation_0-merror:0.41456\n",
      "[200]\tvalidation_0-merror:0.41446\n",
      "[201]\tvalidation_0-merror:0.41435\n",
      "[202]\tvalidation_0-merror:0.41435\n",
      "[203]\tvalidation_0-merror:0.41442\n",
      "[204]\tvalidation_0-merror:0.41456\n",
      "[205]\tvalidation_0-merror:0.41467\n",
      "[206]\tvalidation_0-merror:0.41470\n",
      "[207]\tvalidation_0-merror:0.41453\n",
      "[208]\tvalidation_0-merror:0.41467\n",
      "[209]\tvalidation_0-merror:0.41448\n",
      "[210]\tvalidation_0-merror:0.41439\n",
      "[211]\tvalidation_0-merror:0.41409\n",
      "[212]\tvalidation_0-merror:0.41402\n",
      "[213]\tvalidation_0-merror:0.41401\n",
      "[214]\tvalidation_0-merror:0.41396\n",
      "[215]\tvalidation_0-merror:0.41396\n",
      "[216]\tvalidation_0-merror:0.41392\n",
      "[217]\tvalidation_0-merror:0.41375\n",
      "[218]\tvalidation_0-merror:0.41377\n",
      "[219]\tvalidation_0-merror:0.41380\n",
      "[220]\tvalidation_0-merror:0.41367\n",
      "[221]\tvalidation_0-merror:0.41361\n",
      "[222]\tvalidation_0-merror:0.41353\n",
      "[223]\tvalidation_0-merror:0.41356\n",
      "[224]\tvalidation_0-merror:0.41341\n",
      "[225]\tvalidation_0-merror:0.41352\n",
      "[226]\tvalidation_0-merror:0.41349\n",
      "[227]\tvalidation_0-merror:0.41344\n",
      "[228]\tvalidation_0-merror:0.41318\n",
      "[229]\tvalidation_0-merror:0.41321\n",
      "[230]\tvalidation_0-merror:0.41329\n",
      "[231]\tvalidation_0-merror:0.41329\n",
      "[232]\tvalidation_0-merror:0.41322\n",
      "[233]\tvalidation_0-merror:0.41320\n",
      "[234]\tvalidation_0-merror:0.41312\n",
      "[235]\tvalidation_0-merror:0.41297\n",
      "[236]\tvalidation_0-merror:0.41297\n",
      "[237]\tvalidation_0-merror:0.41299\n",
      "[238]\tvalidation_0-merror:0.41287\n",
      "[239]\tvalidation_0-merror:0.41286\n",
      "[240]\tvalidation_0-merror:0.41279\n",
      "[241]\tvalidation_0-merror:0.41281\n",
      "[242]\tvalidation_0-merror:0.41288\n",
      "[243]\tvalidation_0-merror:0.41275\n",
      "[244]\tvalidation_0-merror:0.41277\n",
      "[245]\tvalidation_0-merror:0.41286\n",
      "[246]\tvalidation_0-merror:0.41263\n",
      "[247]\tvalidation_0-merror:0.41261\n",
      "[248]\tvalidation_0-merror:0.41263\n",
      "[249]\tvalidation_0-merror:0.41258\n",
      "[250]\tvalidation_0-merror:0.41253\n",
      "[251]\tvalidation_0-merror:0.41249\n",
      "[252]\tvalidation_0-merror:0.41244\n",
      "[253]\tvalidation_0-merror:0.41228\n",
      "[254]\tvalidation_0-merror:0.41221\n",
      "[255]\tvalidation_0-merror:0.41210\n",
      "[256]\tvalidation_0-merror:0.41211\n",
      "[257]\tvalidation_0-merror:0.41211\n",
      "[258]\tvalidation_0-merror:0.41208\n",
      "[259]\tvalidation_0-merror:0.41200\n",
      "[260]\tvalidation_0-merror:0.41203\n",
      "[261]\tvalidation_0-merror:0.41200\n",
      "[262]\tvalidation_0-merror:0.41189\n",
      "[263]\tvalidation_0-merror:0.41183\n",
      "[264]\tvalidation_0-merror:0.41178\n",
      "[265]\tvalidation_0-merror:0.41169\n",
      "[266]\tvalidation_0-merror:0.41182\n",
      "[267]\tvalidation_0-merror:0.41183\n",
      "[268]\tvalidation_0-merror:0.41186\n",
      "[269]\tvalidation_0-merror:0.41183\n",
      "[270]\tvalidation_0-merror:0.41181\n",
      "[271]\tvalidation_0-merror:0.41169\n",
      "[272]\tvalidation_0-merror:0.41147\n",
      "[273]\tvalidation_0-merror:0.41142\n",
      "[274]\tvalidation_0-merror:0.41124\n",
      "[275]\tvalidation_0-merror:0.41137\n",
      "[276]\tvalidation_0-merror:0.41137\n",
      "[277]\tvalidation_0-merror:0.41143\n",
      "[278]\tvalidation_0-merror:0.41140\n",
      "[279]\tvalidation_0-merror:0.41139\n",
      "[280]\tvalidation_0-merror:0.41141\n",
      "[281]\tvalidation_0-merror:0.41135\n",
      "[282]\tvalidation_0-merror:0.41127\n",
      "[283]\tvalidation_0-merror:0.41117\n",
      "[284]\tvalidation_0-merror:0.41118\n",
      "[285]\tvalidation_0-merror:0.41118\n",
      "[286]\tvalidation_0-merror:0.41127\n",
      "[287]\tvalidation_0-merror:0.41124\n",
      "[288]\tvalidation_0-merror:0.41117\n",
      "[289]\tvalidation_0-merror:0.41112\n",
      "[290]\tvalidation_0-merror:0.41110\n",
      "[291]\tvalidation_0-merror:0.41098\n",
      "[292]\tvalidation_0-merror:0.41093\n",
      "[293]\tvalidation_0-merror:0.41081\n",
      "[294]\tvalidation_0-merror:0.41080\n",
      "[295]\tvalidation_0-merror:0.41072\n",
      "[296]\tvalidation_0-merror:0.41076\n",
      "[297]\tvalidation_0-merror:0.41080\n",
      "[298]\tvalidation_0-merror:0.41068\n",
      "[299]\tvalidation_0-merror:0.41074\n",
      "[300]\tvalidation_0-merror:0.41070\n",
      "[301]\tvalidation_0-merror:0.41068\n",
      "[302]\tvalidation_0-merror:0.41064\n",
      "[303]\tvalidation_0-merror:0.41055\n",
      "[304]\tvalidation_0-merror:0.41048\n",
      "[305]\tvalidation_0-merror:0.41048\n",
      "[306]\tvalidation_0-merror:0.41052\n",
      "[307]\tvalidation_0-merror:0.41063\n",
      "[308]\tvalidation_0-merror:0.41058\n",
      "[309]\tvalidation_0-merror:0.41055\n",
      "[310]\tvalidation_0-merror:0.41052\n",
      "[311]\tvalidation_0-merror:0.41048\n",
      "[312]\tvalidation_0-merror:0.41057\n",
      "[313]\tvalidation_0-merror:0.41046\n",
      "[314]\tvalidation_0-merror:0.41041\n",
      "[315]\tvalidation_0-merror:0.41038\n",
      "[316]\tvalidation_0-merror:0.41040\n",
      "[317]\tvalidation_0-merror:0.41032\n",
      "[318]\tvalidation_0-merror:0.41037\n",
      "[319]\tvalidation_0-merror:0.41031\n",
      "[320]\tvalidation_0-merror:0.41037\n",
      "[321]\tvalidation_0-merror:0.41039\n",
      "[322]\tvalidation_0-merror:0.41043\n",
      "[323]\tvalidation_0-merror:0.41051\n",
      "[324]\tvalidation_0-merror:0.41061\n",
      "[325]\tvalidation_0-merror:0.41059\n",
      "[326]\tvalidation_0-merror:0.41049\n",
      "[327]\tvalidation_0-merror:0.41041\n",
      "[328]\tvalidation_0-merror:0.41039\n",
      "[329]\tvalidation_0-merror:0.41034\n"
     ]
    },
    {
     "data": {
      "text/plain": [
       "XGBClassifier(base_score=0.5, booster='gbtree', colsample_bylevel=1,\n",
       "              colsample_bynode=1, colsample_bytree=1, gamma=0, gpu_id=-1,\n",
       "              importance_type='gain', interaction_constraints='',\n",
       "              learning_rate=0.15, max_delta_step=0, max_depth=10,\n",
       "              min_child_weight=1, missing=nan, monotone_constraints='()',\n",
       "              n_estimators=500, n_jobs=-1, num_parallel_tree=1,\n",
       "              objective='multi:softprob', random_state=0, reg_alpha=0,\n",
       "              reg_lambda=1, scale_pos_weight=None, subsample=1,\n",
       "              tree_method='exact', validate_parameters=1, verbosity=None)"
      ]
     },
     "execution_count": 102,
     "metadata": {},
     "output_type": "execute_result"
    }
   ],
   "source": [
    "xgb_cls.fit(x_train_smotenc_tmk_norm, y_train_smotenc_tmk.values.ravel(), **fit_params)"
   ]
  },
  {
   "cell_type": "code",
   "execution_count": 103,
   "id": "canadian-alcohol",
   "metadata": {},
   "outputs": [
    {
     "name": "stdout",
     "output_type": "stream",
     "text": [
      "Confusion matrix: \n",
      "\n"
     ]
    },
    {
     "data": {
      "image/png": "[encoded data removed]",
      "text/plain": [
       "<Figure size 432x288 with 2 Axes>"
      ]
     },
     "metadata": {
      "needs_background": "light"
     },
     "output_type": "display_data"
    },
    {
     "name": "stdout",
     "output_type": "stream",
     "text": [
      "Classification report: \n",
      "\n",
      "              precision    recall  f1-score   support\n",
      "\n",
      "     Grade_1       0.86      0.93      0.89    198969\n",
      "     Grade_2       0.78      0.74      0.76    183975\n",
      "     Grade_3       0.71      0.68      0.69    174207\n",
      "     Grade_4       0.72      0.69      0.71    169016\n",
      "     Grade_5       0.79      0.82      0.81    171449\n",
      "\n",
      "    accuracy                           0.78    897616\n",
      "   macro avg       0.77      0.77      0.77    897616\n",
      "weighted avg       0.77      0.78      0.77    897616\n",
      "\n",
      "Micro-F1 score: \n",
      "\n",
      "0.7764678882729364\n",
      "Macro-F1 score:\n",
      "0.7764678882729364\n"
     ]
    }
   ],
   "source": [
    "prediction_train = xgb_cls.predict(x_train_smotenc_tmk_norm)\n",
    "\n",
    "train_metrics = display_metrics(xgb_cls,\n",
    "                                x_train_smotenc_tmk_norm,\n",
    "                                y_train_smotenc_tmk, prediction_train)"
   ]
  },
  {
   "cell_type": "code",
   "execution_count": 104,
   "id": "varied-calculation",
   "metadata": {},
   "outputs": [
    {
     "name": "stdout",
     "output_type": "stream",
     "text": [
      "Confusion matrix: \n",
      "\n"
     ]
    },
    {
     "data": {
      "image/png": "[encoded data removed]",
      "text/plain": [
       "<Figure size 432x288 with 2 Axes>"
      ]
     },
     "metadata": {
      "needs_background": "light"
     },
     "output_type": "display_data"
    },
    {
     "name": "stdout",
     "output_type": "stream",
     "text": [
      "Classification report: \n",
      "\n",
      "              precision    recall  f1-score   support\n",
      "\n",
      "     Grade_1       0.62      0.74      0.68     15808\n",
      "     Grade_2       0.42      0.37      0.39     17458\n",
      "     Grade_3       0.44      0.43      0.44     27213\n",
      "     Grade_4       0.53      0.51      0.52     36994\n",
      "     Grade_5       0.73      0.75      0.74     54946\n",
      "\n",
      "    accuracy                           0.59    152419\n",
      "   macro avg       0.55      0.56      0.55    152419\n",
      "weighted avg       0.58      0.59      0.59    152419\n",
      "\n",
      "Micro-F1 score: \n",
      "\n",
      "0.5896902617127786\n",
      "Macro-F1 score:\n",
      "0.5896902617127786\n"
     ]
    }
   ],
   "source": [
    "prediction_test = xgb_cls.predict(x_test_smotenc_tmk_norm)\n",
    "\n",
    "test_metrics = display_metrics(xgb_cls,\n",
    "                               x_test_smotenc_tmk_norm,\n",
    "                               y_test, prediction_test)"
   ]
  },
  {
   "cell_type": "code",
   "execution_count": 105,
   "id": "unavailable-meter",
   "metadata": {},
   "outputs": [
    {
     "data": {
      "text/plain": [
       "['results/xgb_smotenc_tmk.joblib']"
      ]
     },
     "execution_count": 105,
     "metadata": {},
     "output_type": "execute_result"
    }
   ],
   "source": [
    "joblib.dump(xgb_cls, 'results/xgb_smotenc_tmk.joblib', compress=1)"
   ]
  },
  {
   "cell_type": "markdown",
   "id": "breathing-stroke",
   "metadata": {},
   "source": [
    "#### 1.2.2.2 ENN"
   ]
  },
  {
   "cell_type": "code",
   "execution_count": 106,
   "id": "adjustable-presence",
   "metadata": {},
   "outputs": [],
   "source": [
    "x_train_smotenc_enn = pd.read_csv('processed_data/resampling/x_train_smotenc_enn.csv', index_col=0).reset_index(drop=True)\n",
    "y_train_smotenc_enn = pd.read_csv('processed_data/resampling/y_train_smotenc_enn.csv', index_col=0).reset_index(drop=True)"
   ]
  },
  {
   "cell_type": "code",
   "execution_count": 107,
   "id": "blond-layout",
   "metadata": {},
   "outputs": [],
   "source": [
    "x_train_smotenc_enn_norm, x_test_smotenc_enn_norm = scale(x_train_smotenc_enn, x_test)"
   ]
  },
  {
   "cell_type": "code",
   "execution_count": 108,
   "id": "concrete-general",
   "metadata": {},
   "outputs": [],
   "source": [
    "xgb_cls = XGBClassifier(learning_rate=0.15, max_depth=10, n_estimators=500, n_jobs=-1)\n",
    "\n",
    "fit_params = {'early_stopping_rounds': 10,\n",
    "              'eval_metric': 'merror',\n",
    "              'eval_set': [(x_test_smotenc_enn_norm, y_test.values.ravel())]}"
   ]
  },
  {
   "cell_type": "code",
   "execution_count": 109,
   "id": "opened-portfolio",
   "metadata": {},
   "outputs": [
    {
     "name": "stderr",
     "output_type": "stream",
     "text": [
      "C:\\Users\\aleciu\\Anaconda3\\envs\\ml\\lib\\site-packages\\xgboost\\sklearn.py:888: UserWarning: The use of label encoder in XGBClassifier is deprecated and will be removed in a future release. To remove this warning, do the following: 1) Pass option use_label_encoder=False when constructing XGBClassifier object; and 2) Encode your labels (y) as integers starting with 0, i.e. 0, 1, 2, ..., [num_class - 1].\n",
      "  warnings.warn(label_encoder_deprecation_msg, UserWarning)\n"
     ]
    },
    {
     "name": "stdout",
     "output_type": "stream",
     "text": [
      "[0]\tvalidation_0-merror:0.47747\n",
      "[1]\tvalidation_0-merror:0.47326\n",
      "[2]\tvalidation_0-merror:0.47242\n",
      "[3]\tvalidation_0-merror:0.47159\n",
      "[4]\tvalidation_0-merror:0.47005\n",
      "[5]\tvalidation_0-merror:0.46996\n",
      "[6]\tvalidation_0-merror:0.46952\n",
      "[7]\tvalidation_0-merror:0.46920\n",
      "[8]\tvalidation_0-merror:0.46857\n",
      "[9]\tvalidation_0-merror:0.46781\n",
      "[10]\tvalidation_0-merror:0.46751\n",
      "[11]\tvalidation_0-merror:0.46725\n",
      "[12]\tvalidation_0-merror:0.46688\n",
      "[13]\tvalidation_0-merror:0.46705\n",
      "[14]\tvalidation_0-merror:0.46653\n",
      "[15]\tvalidation_0-merror:0.46601\n",
      "[16]\tvalidation_0-merror:0.46575\n",
      "[17]\tvalidation_0-merror:0.46579\n",
      "[18]\tvalidation_0-merror:0.46566\n",
      "[19]\tvalidation_0-merror:0.46571\n",
      "[20]\tvalidation_0-merror:0.46534\n",
      "[21]\tvalidation_0-merror:0.46509\n",
      "[22]\tvalidation_0-merror:0.46480\n",
      "[23]\tvalidation_0-merror:0.46476\n",
      "[24]\tvalidation_0-merror:0.46461\n",
      "[25]\tvalidation_0-merror:0.46415\n",
      "[26]\tvalidation_0-merror:0.46417\n",
      "[27]\tvalidation_0-merror:0.46395\n",
      "[28]\tvalidation_0-merror:0.46385\n",
      "[29]\tvalidation_0-merror:0.46360\n",
      "[30]\tvalidation_0-merror:0.46339\n",
      "[31]\tvalidation_0-merror:0.46307\n",
      "[32]\tvalidation_0-merror:0.46290\n",
      "[33]\tvalidation_0-merror:0.46270\n",
      "[34]\tvalidation_0-merror:0.46252\n",
      "[35]\tvalidation_0-merror:0.46227\n",
      "[36]\tvalidation_0-merror:0.46218\n",
      "[37]\tvalidation_0-merror:0.46187\n",
      "[38]\tvalidation_0-merror:0.46185\n",
      "[39]\tvalidation_0-merror:0.46179\n",
      "[40]\tvalidation_0-merror:0.46137\n",
      "[41]\tvalidation_0-merror:0.46133\n",
      "[42]\tvalidation_0-merror:0.46116\n",
      "[43]\tvalidation_0-merror:0.46087\n",
      "[44]\tvalidation_0-merror:0.46076\n",
      "[45]\tvalidation_0-merror:0.46069\n",
      "[46]\tvalidation_0-merror:0.46056\n",
      "[47]\tvalidation_0-merror:0.46052\n",
      "[48]\tvalidation_0-merror:0.46024\n",
      "[49]\tvalidation_0-merror:0.46011\n",
      "[50]\tvalidation_0-merror:0.45988\n",
      "[51]\tvalidation_0-merror:0.45956\n",
      "[52]\tvalidation_0-merror:0.45935\n",
      "[53]\tvalidation_0-merror:0.45945\n",
      "[54]\tvalidation_0-merror:0.45912\n",
      "[55]\tvalidation_0-merror:0.45899\n",
      "[56]\tvalidation_0-merror:0.45888\n",
      "[57]\tvalidation_0-merror:0.45855\n",
      "[58]\tvalidation_0-merror:0.45836\n",
      "[59]\tvalidation_0-merror:0.45818\n",
      "[60]\tvalidation_0-merror:0.45815\n",
      "[61]\tvalidation_0-merror:0.45812\n",
      "[62]\tvalidation_0-merror:0.45811\n",
      "[63]\tvalidation_0-merror:0.45781\n",
      "[64]\tvalidation_0-merror:0.45766\n",
      "[65]\tvalidation_0-merror:0.45738\n",
      "[66]\tvalidation_0-merror:0.45732\n",
      "[67]\tvalidation_0-merror:0.45744\n",
      "[68]\tvalidation_0-merror:0.45715\n",
      "[69]\tvalidation_0-merror:0.45724\n",
      "[70]\tvalidation_0-merror:0.45708\n",
      "[71]\tvalidation_0-merror:0.45694\n",
      "[72]\tvalidation_0-merror:0.45675\n",
      "[73]\tvalidation_0-merror:0.45635\n",
      "[74]\tvalidation_0-merror:0.45639\n",
      "[75]\tvalidation_0-merror:0.45616\n",
      "[76]\tvalidation_0-merror:0.45583\n",
      "[77]\tvalidation_0-merror:0.45584\n",
      "[78]\tvalidation_0-merror:0.45574\n",
      "[79]\tvalidation_0-merror:0.45574\n",
      "[80]\tvalidation_0-merror:0.45548\n",
      "[81]\tvalidation_0-merror:0.45519\n",
      "[82]\tvalidation_0-merror:0.45493\n",
      "[83]\tvalidation_0-merror:0.45480\n",
      "[84]\tvalidation_0-merror:0.45472\n",
      "[85]\tvalidation_0-merror:0.45456\n",
      "[86]\tvalidation_0-merror:0.45452\n",
      "[87]\tvalidation_0-merror:0.45441\n",
      "[88]\tvalidation_0-merror:0.45423\n",
      "[89]\tvalidation_0-merror:0.45404\n",
      "[90]\tvalidation_0-merror:0.45382\n",
      "[91]\tvalidation_0-merror:0.45377\n",
      "[92]\tvalidation_0-merror:0.45337\n",
      "[93]\tvalidation_0-merror:0.45326\n",
      "[94]\tvalidation_0-merror:0.45327\n",
      "[95]\tvalidation_0-merror:0.45319\n",
      "[96]\tvalidation_0-merror:0.45314\n",
      "[97]\tvalidation_0-merror:0.45289\n",
      "[98]\tvalidation_0-merror:0.45284\n",
      "[99]\tvalidation_0-merror:0.45282\n",
      "[100]\tvalidation_0-merror:0.45267\n",
      "[101]\tvalidation_0-merror:0.45237\n",
      "[102]\tvalidation_0-merror:0.45232\n",
      "[103]\tvalidation_0-merror:0.45217\n",
      "[104]\tvalidation_0-merror:0.45207\n",
      "[105]\tvalidation_0-merror:0.45208\n",
      "[106]\tvalidation_0-merror:0.45193\n",
      "[107]\tvalidation_0-merror:0.45202\n",
      "[108]\tvalidation_0-merror:0.45175\n",
      "[109]\tvalidation_0-merror:0.45184\n",
      "[110]\tvalidation_0-merror:0.45149\n",
      "[111]\tvalidation_0-merror:0.45150\n",
      "[112]\tvalidation_0-merror:0.45151\n",
      "[113]\tvalidation_0-merror:0.45142\n",
      "[114]\tvalidation_0-merror:0.45117\n",
      "[115]\tvalidation_0-merror:0.45073\n",
      "[116]\tvalidation_0-merror:0.45049\n",
      "[117]\tvalidation_0-merror:0.45061\n",
      "[118]\tvalidation_0-merror:0.45042\n",
      "[119]\tvalidation_0-merror:0.45027\n",
      "[120]\tvalidation_0-merror:0.45034\n",
      "[121]\tvalidation_0-merror:0.45034\n",
      "[122]\tvalidation_0-merror:0.45015\n",
      "[123]\tvalidation_0-merror:0.45021\n",
      "[124]\tvalidation_0-merror:0.45022\n",
      "[125]\tvalidation_0-merror:0.45005\n",
      "[126]\tvalidation_0-merror:0.45002\n",
      "[127]\tvalidation_0-merror:0.45011\n",
      "[128]\tvalidation_0-merror:0.45001\n",
      "[129]\tvalidation_0-merror:0.44991\n",
      "[130]\tvalidation_0-merror:0.44977\n",
      "[131]\tvalidation_0-merror:0.44970\n",
      "[132]\tvalidation_0-merror:0.44960\n",
      "[133]\tvalidation_0-merror:0.44972\n",
      "[134]\tvalidation_0-merror:0.44976\n",
      "[135]\tvalidation_0-merror:0.44952\n",
      "[136]\tvalidation_0-merror:0.44941\n",
      "[137]\tvalidation_0-merror:0.44950\n",
      "[138]\tvalidation_0-merror:0.44929\n",
      "[139]\tvalidation_0-merror:0.44923\n",
      "[140]\tvalidation_0-merror:0.44927\n",
      "[141]\tvalidation_0-merror:0.44908\n",
      "[142]\tvalidation_0-merror:0.44905\n",
      "[143]\tvalidation_0-merror:0.44878\n",
      "[144]\tvalidation_0-merror:0.44876\n",
      "[145]\tvalidation_0-merror:0.44866\n",
      "[146]\tvalidation_0-merror:0.44868\n",
      "[147]\tvalidation_0-merror:0.44870\n",
      "[148]\tvalidation_0-merror:0.44849\n",
      "[149]\tvalidation_0-merror:0.44843\n",
      "[150]\tvalidation_0-merror:0.44833\n",
      "[151]\tvalidation_0-merror:0.44814\n",
      "[152]\tvalidation_0-merror:0.44814\n",
      "[153]\tvalidation_0-merror:0.44802\n",
      "[154]\tvalidation_0-merror:0.44790\n",
      "[155]\tvalidation_0-merror:0.44798\n",
      "[156]\tvalidation_0-merror:0.44786\n",
      "[157]\tvalidation_0-merror:0.44799\n",
      "[158]\tvalidation_0-merror:0.44791\n",
      "[159]\tvalidation_0-merror:0.44788\n",
      "[160]\tvalidation_0-merror:0.44780\n",
      "[161]\tvalidation_0-merror:0.44771\n",
      "[162]\tvalidation_0-merror:0.44773\n",
      "[163]\tvalidation_0-merror:0.44784\n",
      "[164]\tvalidation_0-merror:0.44765\n",
      "[165]\tvalidation_0-merror:0.44775\n",
      "[166]\tvalidation_0-merror:0.44772\n",
      "[167]\tvalidation_0-merror:0.44738\n",
      "[168]\tvalidation_0-merror:0.44733\n",
      "[169]\tvalidation_0-merror:0.44733\n",
      "[170]\tvalidation_0-merror:0.44720\n",
      "[171]\tvalidation_0-merror:0.44726\n",
      "[172]\tvalidation_0-merror:0.44721\n",
      "[173]\tvalidation_0-merror:0.44716\n",
      "[174]\tvalidation_0-merror:0.44709\n",
      "[175]\tvalidation_0-merror:0.44679\n",
      "[176]\tvalidation_0-merror:0.44672\n",
      "[177]\tvalidation_0-merror:0.44665\n",
      "[178]\tvalidation_0-merror:0.44680\n",
      "[179]\tvalidation_0-merror:0.44648\n",
      "[180]\tvalidation_0-merror:0.44666\n",
      "[181]\tvalidation_0-merror:0.44659\n",
      "[182]\tvalidation_0-merror:0.44660\n",
      "[183]\tvalidation_0-merror:0.44668\n",
      "[184]\tvalidation_0-merror:0.44647\n",
      "[185]\tvalidation_0-merror:0.44647\n",
      "[186]\tvalidation_0-merror:0.44650\n",
      "[187]\tvalidation_0-merror:0.44644\n",
      "[188]\tvalidation_0-merror:0.44651\n",
      "[189]\tvalidation_0-merror:0.44655\n",
      "[190]\tvalidation_0-merror:0.44660\n",
      "[191]\tvalidation_0-merror:0.44656\n",
      "[192]\tvalidation_0-merror:0.44655\n",
      "[193]\tvalidation_0-merror:0.44650\n",
      "[194]\tvalidation_0-merror:0.44641\n",
      "[195]\tvalidation_0-merror:0.44636\n",
      "[196]\tvalidation_0-merror:0.44626\n",
      "[197]\tvalidation_0-merror:0.44628\n",
      "[198]\tvalidation_0-merror:0.44624\n",
      "[199]\tvalidation_0-merror:0.44607\n",
      "[200]\tvalidation_0-merror:0.44590\n",
      "[201]\tvalidation_0-merror:0.44599\n",
      "[202]\tvalidation_0-merror:0.44605\n",
      "[203]\tvalidation_0-merror:0.44596\n",
      "[204]\tvalidation_0-merror:0.44596\n",
      "[205]\tvalidation_0-merror:0.44592\n",
      "[206]\tvalidation_0-merror:0.44591\n",
      "[207]\tvalidation_0-merror:0.44587\n",
      "[208]\tvalidation_0-merror:0.44576\n",
      "[209]\tvalidation_0-merror:0.44576\n",
      "[210]\tvalidation_0-merror:0.44560\n",
      "[211]\tvalidation_0-merror:0.44563\n",
      "[212]\tvalidation_0-merror:0.44569\n",
      "[213]\tvalidation_0-merror:0.44559\n",
      "[214]\tvalidation_0-merror:0.44554\n",
      "[215]\tvalidation_0-merror:0.44548\n",
      "[216]\tvalidation_0-merror:0.44551\n",
      "[217]\tvalidation_0-merror:0.44553\n",
      "[218]\tvalidation_0-merror:0.44531\n",
      "[219]\tvalidation_0-merror:0.44537\n",
      "[220]\tvalidation_0-merror:0.44548\n",
      "[221]\tvalidation_0-merror:0.44546\n",
      "[222]\tvalidation_0-merror:0.44541\n",
      "[223]\tvalidation_0-merror:0.44535\n",
      "[224]\tvalidation_0-merror:0.44536\n",
      "[225]\tvalidation_0-merror:0.44540\n",
      "[226]\tvalidation_0-merror:0.44536\n",
      "[227]\tvalidation_0-merror:0.44517\n",
      "[228]\tvalidation_0-merror:0.44519\n",
      "[229]\tvalidation_0-merror:0.44527\n",
      "[230]\tvalidation_0-merror:0.44531\n",
      "[231]\tvalidation_0-merror:0.44530\n",
      "[232]\tvalidation_0-merror:0.44514\n",
      "[233]\tvalidation_0-merror:0.44510\n",
      "[234]\tvalidation_0-merror:0.44511\n",
      "[235]\tvalidation_0-merror:0.44511\n",
      "[236]\tvalidation_0-merror:0.44515\n",
      "[237]\tvalidation_0-merror:0.44510\n",
      "[238]\tvalidation_0-merror:0.44508\n",
      "[239]\tvalidation_0-merror:0.44502\n",
      "[240]\tvalidation_0-merror:0.44484\n",
      "[241]\tvalidation_0-merror:0.44484\n",
      "[242]\tvalidation_0-merror:0.44492\n",
      "[243]\tvalidation_0-merror:0.44487\n",
      "[244]\tvalidation_0-merror:0.44496\n",
      "[245]\tvalidation_0-merror:0.44504\n",
      "[246]\tvalidation_0-merror:0.44498\n",
      "[247]\tvalidation_0-merror:0.44500\n",
      "[248]\tvalidation_0-merror:0.44504\n",
      "[249]\tvalidation_0-merror:0.44501\n",
      "[250]\tvalidation_0-merror:0.44489\n"
     ]
    },
    {
     "data": {
      "text/plain": [
       "XGBClassifier(base_score=0.5, booster='gbtree', colsample_bylevel=1,\n",
       "              colsample_bynode=1, colsample_bytree=1, gamma=0, gpu_id=-1,\n",
       "              importance_type='gain', interaction_constraints='',\n",
       "              learning_rate=0.15, max_delta_step=0, max_depth=10,\n",
       "              min_child_weight=1, missing=nan, monotone_constraints='()',\n",
       "              n_estimators=500, n_jobs=-1, num_parallel_tree=1,\n",
       "              objective='multi:softprob', random_state=0, reg_alpha=0,\n",
       "              reg_lambda=1, scale_pos_weight=None, subsample=1,\n",
       "              tree_method='exact', validate_parameters=1, verbosity=None)"
      ]
     },
     "execution_count": 109,
     "metadata": {},
     "output_type": "execute_result"
    }
   ],
   "source": [
    "xgb_cls.fit(x_train_smotenc_enn_norm, y_train_smotenc_enn.values.ravel(), **fit_params)"
   ]
  },
  {
   "cell_type": "code",
   "execution_count": 110,
   "id": "temporal-lotus",
   "metadata": {},
   "outputs": [
    {
     "name": "stdout",
     "output_type": "stream",
     "text": [
      "Confusion matrix: \n",
      "\n"
     ]
    },
    {
     "data": {
      "image/png": "[encoded data removed]",
      "text/plain": [
       "<Figure size 432x288 with 2 Axes>"
      ]
     },
     "metadata": {
      "needs_background": "light"
     },
     "output_type": "display_data"
    },
    {
     "name": "stdout",
     "output_type": "stream",
     "text": [
      "Classification report: \n",
      "\n",
      "              precision    recall  f1-score   support\n",
      "\n",
      "     Grade_1       0.90      0.95      0.92    170370\n",
      "     Grade_2       0.80      0.78      0.79    132390\n",
      "     Grade_3       0.75      0.74      0.74    100224\n",
      "     Grade_4       0.78      0.73      0.75     72822\n",
      "     Grade_5       0.83      0.83      0.83     50844\n",
      "\n",
      "    accuracy                           0.82    526650\n",
      "   macro avg       0.81      0.81      0.81    526650\n",
      "weighted avg       0.82      0.82      0.82    526650\n",
      "\n",
      "Micro-F1 score: \n",
      "\n",
      "0.8247242001329157\n",
      "Macro-F1 score:\n",
      "0.8247242001329157\n"
     ]
    }
   ],
   "source": [
    "prediction_train = xgb_cls.predict(x_train_smotenc_enn_norm)\n",
    "\n",
    "train_metrics = display_metrics(xgb_cls,\n",
    "                                x_train_smotenc_enn_norm,\n",
    "                                y_train_smotenc_enn, prediction_train)"
   ]
  },
  {
   "cell_type": "code",
   "execution_count": 111,
   "id": "demographic-hundred",
   "metadata": {},
   "outputs": [
    {
     "name": "stdout",
     "output_type": "stream",
     "text": [
      "Confusion matrix: \n",
      "\n"
     ]
    },
    {
     "data": {
      "image/png": "[encoded data removed]",
      "text/plain": [
       "<Figure size 432x288 with 2 Axes>"
      ]
     },
     "metadata": {
      "needs_background": "light"
     },
     "output_type": "display_data"
    },
    {
     "name": "stdout",
     "output_type": "stream",
     "text": [
      "Classification report: \n",
      "\n",
      "              precision    recall  f1-score   support\n",
      "\n",
      "     Grade_1       0.56      0.78      0.66     15808\n",
      "     Grade_2       0.35      0.42      0.38     17458\n",
      "     Grade_3       0.40      0.46      0.43     27213\n",
      "     Grade_4       0.52      0.47      0.50     36994\n",
      "     Grade_5       0.79      0.63      0.70     54946\n",
      "\n",
      "    accuracy                           0.56    152419\n",
      "   macro avg       0.52      0.55      0.53    152419\n",
      "weighted avg       0.58      0.56      0.56    152419\n",
      "\n",
      "Micro-F1 score: \n",
      "\n",
      "0.5551604458761703\n",
      "Macro-F1 score:\n",
      "0.5551604458761703\n"
     ]
    }
   ],
   "source": [
    "prediction_test = xgb_cls.predict(x_test_smotenc_enn_norm)\n",
    "\n",
    "test_metrics = display_metrics(xgb_cls,\n",
    "                               x_test_smotenc_enn_norm,\n",
    "                               y_test, prediction_test)"
   ]
  },
  {
   "cell_type": "code",
   "execution_count": 112,
   "id": "chief-bundle",
   "metadata": {},
   "outputs": [
    {
     "data": {
      "text/plain": [
       "['results/xgb_smotenc_enn.joblib']"
      ]
     },
     "execution_count": 112,
     "metadata": {},
     "output_type": "execute_result"
    }
   ],
   "source": [
    "joblib.dump(xgb_cls, 'results/xgb_smotenc_enn.joblib', compress=1)"
   ]
  },
  {
   "cell_type": "markdown",
   "id": "banner-control",
   "metadata": {},
   "source": [
    "### -> check ROC curves, that requires looking at the prob scores and think of how to deal with multi-class problems"
   ]
  },
  {
   "cell_type": "markdown",
   "id": "impressed-premiere",
   "metadata": {},
   "source": [
    "Micro-F1 is **the same** as accuracy in problems where each instance is assigned one (and only one) class\n",
    "    https://simonhessner.de/why-are-precision-recall-and-f1-score-equal-when-using-micro-averaging-in-a-multi-class-problem/"
   ]
  },
  {
   "cell_type": "markdown",
   "id": "appropriate-visiting",
   "metadata": {},
   "source": [
    "- accuracy is the average of the f1 scores\n",
    "- macro avg is the average between the unweighted precision and recall averages\n",
    "- weighted avg is the average between the (support)-weighted precision and recall averages\n",
    "\n",
    "support is the number of instances in each class"
   ]
  },
  {
   "cell_type": "markdown",
   "id": "married-latin",
   "metadata": {},
   "source": [
    "## 3-Class classification:"
   ]
  },
  {
   "cell_type": "code",
   "execution_count": 8,
   "id": "handled-alabama",
   "metadata": {},
   "outputs": [],
   "source": [
    "y = pd.read_csv('processed_data/y_post_preproc_3lab.csv', index_col='building_id')"
   ]
  },
  {
   "cell_type": "code",
   "execution_count": 9,
   "id": "wired-bangladesh",
   "metadata": {},
   "outputs": [],
   "source": [
    "y_train, y_test = y.loc[x_train.index], y.loc[x_test.index]"
   ]
  },
  {
   "cell_type": "code",
   "execution_count": 10,
   "id": "extensive-viking",
   "metadata": {},
   "outputs": [],
   "source": [
    "xgb_cls = XGBClassifier(learning_rate=0.15, max_depth=10, n_estimators=500)\n",
    "\n",
    "fit_params = {'early_stopping_rounds': 10,\n",
    "              'eval_metric': 'merror',\n",
    "              'eval_set': [(x_test_norm, y_test.values.ravel())]}"
   ]
  },
  {
   "cell_type": "code",
   "execution_count": 11,
   "id": "black-compact",
   "metadata": {
    "tags": []
   },
   "outputs": [
    {
     "name": "stderr",
     "output_type": "stream",
     "text": [
      "C:\\Users\\aleciu\\Anaconda3\\envs\\ml\\lib\\site-packages\\xgboost\\sklearn.py:888: UserWarning: The use of label encoder in XGBClassifier is deprecated and will be removed in a future release. To remove this warning, do the following: 1) Pass option use_label_encoder=False when constructing XGBClassifier object; and 2) Encode your labels (y) as integers starting with 0, i.e. 0, 1, 2, ..., [num_class - 1].\n",
      "  warnings.warn(label_encoder_deprecation_msg, UserWarning)\n"
     ]
    },
    {
     "name": "stdout",
     "output_type": "stream",
     "text": [
      "[0]\tvalidation_0-merror:0.30246\n",
      "[1]\tvalidation_0-merror:0.30088\n",
      "[2]\tvalidation_0-merror:0.29867\n",
      "[3]\tvalidation_0-merror:0.29808\n",
      "[4]\tvalidation_0-merror:0.29702\n",
      "[5]\tvalidation_0-merror:0.29662\n",
      "[6]\tvalidation_0-merror:0.29647\n",
      "[7]\tvalidation_0-merror:0.29612\n",
      "[8]\tvalidation_0-merror:0.29590\n",
      "[9]\tvalidation_0-merror:0.29537\n",
      "[10]\tvalidation_0-merror:0.29486\n",
      "[11]\tvalidation_0-merror:0.29433\n",
      "[12]\tvalidation_0-merror:0.29416\n",
      "[13]\tvalidation_0-merror:0.29368\n",
      "[14]\tvalidation_0-merror:0.29354\n",
      "[15]\tvalidation_0-merror:0.29360\n",
      "[16]\tvalidation_0-merror:0.29349\n",
      "[17]\tvalidation_0-merror:0.29320\n",
      "[18]\tvalidation_0-merror:0.29289\n",
      "[19]\tvalidation_0-merror:0.29255\n",
      "[20]\tvalidation_0-merror:0.29229\n",
      "[21]\tvalidation_0-merror:0.29225\n",
      "[22]\tvalidation_0-merror:0.29201\n",
      "[23]\tvalidation_0-merror:0.29177\n",
      "[24]\tvalidation_0-merror:0.29132\n",
      "[25]\tvalidation_0-merror:0.29104\n",
      "[26]\tvalidation_0-merror:0.29106\n",
      "[27]\tvalidation_0-merror:0.29101\n",
      "[28]\tvalidation_0-merror:0.29082\n",
      "[29]\tvalidation_0-merror:0.29067\n",
      "[30]\tvalidation_0-merror:0.29050\n",
      "[31]\tvalidation_0-merror:0.29021\n",
      "[32]\tvalidation_0-merror:0.28993\n",
      "[33]\tvalidation_0-merror:0.28983\n",
      "[34]\tvalidation_0-merror:0.28984\n",
      "[35]\tvalidation_0-merror:0.28960\n",
      "[36]\tvalidation_0-merror:0.28930\n",
      "[37]\tvalidation_0-merror:0.28916\n",
      "[38]\tvalidation_0-merror:0.28901\n",
      "[39]\tvalidation_0-merror:0.28874\n",
      "[40]\tvalidation_0-merror:0.28864\n",
      "[41]\tvalidation_0-merror:0.28867\n",
      "[42]\tvalidation_0-merror:0.28861\n",
      "[43]\tvalidation_0-merror:0.28865\n",
      "[44]\tvalidation_0-merror:0.28812\n",
      "[45]\tvalidation_0-merror:0.28814\n",
      "[46]\tvalidation_0-merror:0.28796\n",
      "[47]\tvalidation_0-merror:0.28782\n",
      "[48]\tvalidation_0-merror:0.28777\n",
      "[49]\tvalidation_0-merror:0.28752\n",
      "[50]\tvalidation_0-merror:0.28735\n",
      "[51]\tvalidation_0-merror:0.28723\n",
      "[52]\tvalidation_0-merror:0.28728\n",
      "[53]\tvalidation_0-merror:0.28722\n",
      "[54]\tvalidation_0-merror:0.28697\n",
      "[55]\tvalidation_0-merror:0.28687\n",
      "[56]\tvalidation_0-merror:0.28687\n",
      "[57]\tvalidation_0-merror:0.28659\n",
      "[58]\tvalidation_0-merror:0.28654\n",
      "[59]\tvalidation_0-merror:0.28630\n",
      "[60]\tvalidation_0-merror:0.28616\n",
      "[61]\tvalidation_0-merror:0.28588\n",
      "[62]\tvalidation_0-merror:0.28592\n",
      "[63]\tvalidation_0-merror:0.28583\n",
      "[64]\tvalidation_0-merror:0.28593\n",
      "[65]\tvalidation_0-merror:0.28586\n",
      "[66]\tvalidation_0-merror:0.28574\n",
      "[67]\tvalidation_0-merror:0.28569\n",
      "[68]\tvalidation_0-merror:0.28572\n",
      "[69]\tvalidation_0-merror:0.28567\n",
      "[70]\tvalidation_0-merror:0.28552\n",
      "[71]\tvalidation_0-merror:0.28548\n",
      "[72]\tvalidation_0-merror:0.28546\n",
      "[73]\tvalidation_0-merror:0.28530\n",
      "[74]\tvalidation_0-merror:0.28534\n",
      "[75]\tvalidation_0-merror:0.28542\n",
      "[76]\tvalidation_0-merror:0.28509\n",
      "[77]\tvalidation_0-merror:0.28514\n",
      "[78]\tvalidation_0-merror:0.28510\n",
      "[79]\tvalidation_0-merror:0.28505\n",
      "[80]\tvalidation_0-merror:0.28497\n",
      "[81]\tvalidation_0-merror:0.28500\n",
      "[82]\tvalidation_0-merror:0.28483\n",
      "[83]\tvalidation_0-merror:0.28475\n",
      "[84]\tvalidation_0-merror:0.28477\n",
      "[85]\tvalidation_0-merror:0.28482\n",
      "[86]\tvalidation_0-merror:0.28460\n",
      "[87]\tvalidation_0-merror:0.28456\n",
      "[88]\tvalidation_0-merror:0.28454\n",
      "[89]\tvalidation_0-merror:0.28449\n",
      "[90]\tvalidation_0-merror:0.28441\n",
      "[91]\tvalidation_0-merror:0.28454\n",
      "[92]\tvalidation_0-merror:0.28447\n",
      "[93]\tvalidation_0-merror:0.28452\n",
      "[94]\tvalidation_0-merror:0.28454\n",
      "[95]\tvalidation_0-merror:0.28455\n",
      "[96]\tvalidation_0-merror:0.28439\n",
      "[97]\tvalidation_0-merror:0.28439\n",
      "[98]\tvalidation_0-merror:0.28424\n",
      "[99]\tvalidation_0-merror:0.28433\n",
      "[100]\tvalidation_0-merror:0.28431\n",
      "[101]\tvalidation_0-merror:0.28423\n",
      "[102]\tvalidation_0-merror:0.28432\n",
      "[103]\tvalidation_0-merror:0.28406\n",
      "[104]\tvalidation_0-merror:0.28400\n",
      "[105]\tvalidation_0-merror:0.28390\n",
      "[106]\tvalidation_0-merror:0.28396\n",
      "[107]\tvalidation_0-merror:0.28385\n",
      "[108]\tvalidation_0-merror:0.28385\n",
      "[109]\tvalidation_0-merror:0.28380\n",
      "[110]\tvalidation_0-merror:0.28381\n",
      "[111]\tvalidation_0-merror:0.28380\n",
      "[112]\tvalidation_0-merror:0.28377\n",
      "[113]\tvalidation_0-merror:0.28352\n",
      "[114]\tvalidation_0-merror:0.28346\n",
      "[115]\tvalidation_0-merror:0.28345\n",
      "[116]\tvalidation_0-merror:0.28328\n",
      "[117]\tvalidation_0-merror:0.28331\n",
      "[118]\tvalidation_0-merror:0.28332\n",
      "[119]\tvalidation_0-merror:0.28323\n",
      "[120]\tvalidation_0-merror:0.28317\n",
      "[121]\tvalidation_0-merror:0.28308\n",
      "[122]\tvalidation_0-merror:0.28307\n",
      "[123]\tvalidation_0-merror:0.28292\n",
      "[124]\tvalidation_0-merror:0.28302\n",
      "[125]\tvalidation_0-merror:0.28287\n",
      "[126]\tvalidation_0-merror:0.28276\n",
      "[127]\tvalidation_0-merror:0.28269\n",
      "[128]\tvalidation_0-merror:0.28263\n",
      "[129]\tvalidation_0-merror:0.28258\n",
      "[130]\tvalidation_0-merror:0.28248\n",
      "[131]\tvalidation_0-merror:0.28245\n",
      "[132]\tvalidation_0-merror:0.28252\n",
      "[133]\tvalidation_0-merror:0.28248\n",
      "[134]\tvalidation_0-merror:0.28238\n",
      "[135]\tvalidation_0-merror:0.28231\n",
      "[136]\tvalidation_0-merror:0.28218\n",
      "[137]\tvalidation_0-merror:0.28209\n",
      "[138]\tvalidation_0-merror:0.28218\n",
      "[139]\tvalidation_0-merror:0.28219\n",
      "[140]\tvalidation_0-merror:0.28210\n",
      "[141]\tvalidation_0-merror:0.28210\n",
      "[142]\tvalidation_0-merror:0.28196\n",
      "[143]\tvalidation_0-merror:0.28198\n",
      "[144]\tvalidation_0-merror:0.28191\n",
      "[145]\tvalidation_0-merror:0.28191\n",
      "[146]\tvalidation_0-merror:0.28194\n",
      "[147]\tvalidation_0-merror:0.28192\n",
      "[148]\tvalidation_0-merror:0.28192\n",
      "[149]\tvalidation_0-merror:0.28187\n",
      "[150]\tvalidation_0-merror:0.28161\n",
      "[151]\tvalidation_0-merror:0.28147\n",
      "[152]\tvalidation_0-merror:0.28143\n",
      "[153]\tvalidation_0-merror:0.28129\n",
      "[154]\tvalidation_0-merror:0.28146\n",
      "[155]\tvalidation_0-merror:0.28153\n",
      "[156]\tvalidation_0-merror:0.28151\n",
      "[157]\tvalidation_0-merror:0.28144\n",
      "[158]\tvalidation_0-merror:0.28136\n",
      "[159]\tvalidation_0-merror:0.28120\n",
      "[160]\tvalidation_0-merror:0.28113\n",
      "[161]\tvalidation_0-merror:0.28120\n",
      "[162]\tvalidation_0-merror:0.28103\n",
      "[163]\tvalidation_0-merror:0.28098\n",
      "[164]\tvalidation_0-merror:0.28097\n",
      "[165]\tvalidation_0-merror:0.28099\n",
      "[166]\tvalidation_0-merror:0.28098\n",
      "[167]\tvalidation_0-merror:0.28076\n",
      "[168]\tvalidation_0-merror:0.28063\n",
      "[169]\tvalidation_0-merror:0.28070\n",
      "[170]\tvalidation_0-merror:0.28073\n",
      "[171]\tvalidation_0-merror:0.28065\n",
      "[172]\tvalidation_0-merror:0.28058\n",
      "[173]\tvalidation_0-merror:0.28052\n",
      "[174]\tvalidation_0-merror:0.28057\n",
      "[175]\tvalidation_0-merror:0.28057\n",
      "[176]\tvalidation_0-merror:0.28048\n",
      "[177]\tvalidation_0-merror:0.28042\n",
      "[178]\tvalidation_0-merror:0.28041\n",
      "[179]\tvalidation_0-merror:0.28037\n",
      "[180]\tvalidation_0-merror:0.28041\n",
      "[181]\tvalidation_0-merror:0.28029\n",
      "[182]\tvalidation_0-merror:0.28028\n",
      "[183]\tvalidation_0-merror:0.28010\n",
      "[184]\tvalidation_0-merror:0.27993\n",
      "[185]\tvalidation_0-merror:0.27997\n",
      "[186]\tvalidation_0-merror:0.28008\n",
      "[187]\tvalidation_0-merror:0.28016\n",
      "[188]\tvalidation_0-merror:0.28023\n",
      "[189]\tvalidation_0-merror:0.28014\n",
      "[190]\tvalidation_0-merror:0.28007\n",
      "[191]\tvalidation_0-merror:0.28002\n",
      "[192]\tvalidation_0-merror:0.28000\n",
      "[193]\tvalidation_0-merror:0.28006\n",
      "[194]\tvalidation_0-merror:0.28010\n"
     ]
    },
    {
     "data": {
      "text/plain": [
       "XGBClassifier(base_score=0.5, booster='gbtree', colsample_bylevel=1,\n",
       "              colsample_bynode=1, colsample_bytree=1, gamma=0, gpu_id=-1,\n",
       "              importance_type='gain', interaction_constraints='',\n",
       "              learning_rate=0.15, max_delta_step=0, max_depth=10,\n",
       "              min_child_weight=1, missing=nan, monotone_constraints='()',\n",
       "              n_estimators=500, n_jobs=8, num_parallel_tree=1,\n",
       "              objective='multi:softprob', random_state=0, reg_alpha=0,\n",
       "              reg_lambda=1, scale_pos_weight=None, subsample=1,\n",
       "              tree_method='exact', validate_parameters=1, verbosity=None)"
      ]
     },
     "execution_count": 11,
     "metadata": {},
     "output_type": "execute_result"
    }
   ],
   "source": [
    "xgb_cls.fit(x_train_norm, y_train.values.ravel(), **fit_params)"
   ]
  },
  {
   "cell_type": "code",
   "execution_count": 12,
   "id": "domestic-stake",
   "metadata": {},
   "outputs": [
    {
     "name": "stdout",
     "output_type": "stream",
     "text": [
      "Confusion matrix: \n",
      "\n"
     ]
    },
    {
     "data": {
      "image/png": "[encoded data removed]",
      "text/plain": [
       "<Figure size 432x288 with 2 Axes>"
      ]
     },
     "metadata": {
      "needs_background": "light"
     },
     "output_type": "display_data"
    },
    {
     "name": "stdout",
     "output_type": "stream",
     "text": [
      "Classification report: \n",
      "\n",
      "              precision    recall  f1-score   support\n",
      "\n",
      "          G1       0.81      0.75      0.78    132806\n",
      "          G2       0.72      0.79      0.75    256049\n",
      "          G3       0.81      0.75      0.78    220820\n",
      "\n",
      "    accuracy                           0.77    609675\n",
      "   macro avg       0.78      0.76      0.77    609675\n",
      "weighted avg       0.77      0.77      0.77    609675\n",
      "\n",
      "Micro-F1 score: \n",
      "\n",
      "0.7651765284782877\n",
      "Macro-F1 score:\n",
      "0.7651765284782877\n"
     ]
    }
   ],
   "source": [
    "prediction_train = xgb_cls.predict(x_train_norm)\n",
    "\n",
    "train_metrics = display_metrics(xgb_cls, \n",
    "                                x_train_norm,\n",
    "                                y_train, prediction_train)"
   ]
  },
  {
   "cell_type": "code",
   "execution_count": 13,
   "id": "reported-flexibility",
   "metadata": {},
   "outputs": [
    {
     "name": "stdout",
     "output_type": "stream",
     "text": [
      "Confusion matrix: \n",
      "\n"
     ]
    },
    {
     "data": {
      "image/png": "[encoded data removed]",
      "text/plain": [
       "<Figure size 432x288 with 2 Axes>"
      ]
     },
     "metadata": {
      "needs_background": "light"
     },
     "output_type": "display_data"
    },
    {
     "name": "stdout",
     "output_type": "stream",
     "text": [
      "Classification report: \n",
      "\n",
      "              precision    recall  f1-score   support\n",
      "\n",
      "          G1       0.75      0.70      0.72     33266\n",
      "          G2       0.67      0.74      0.70     64207\n",
      "          G3       0.77      0.71      0.74     54946\n",
      "\n",
      "    accuracy                           0.72    152419\n",
      "   macro avg       0.73      0.72      0.72    152419\n",
      "weighted avg       0.72      0.72      0.72    152419\n",
      "\n",
      "Micro-F1 score: \n",
      "\n",
      "0.7200677080941353\n",
      "Macro-F1 score:\n",
      "0.7200677080941353\n"
     ]
    }
   ],
   "source": [
    "prediction_test = xgb_cls.predict(x_test_norm)\n",
    "\n",
    "test_metrics = display_metrics(xgb_cls, \n",
    "                               x_test_norm,\n",
    "                               y_test, prediction_test)"
   ]
  },
  {
   "cell_type": "code",
   "execution_count": 14,
   "id": "laden-stock",
   "metadata": {},
   "outputs": [
    {
     "data": {
      "text/plain": [
       "['results/xgb_orig_lab3.joblib']"
      ]
     },
     "execution_count": 14,
     "metadata": {},
     "output_type": "execute_result"
    }
   ],
   "source": [
    "joblib.dump(xgb_cls, 'results/xgb_orig_lab3.joblib', compress=1)"
   ]
  },
  {
   "cell_type": "markdown",
   "id": "boolean-regular",
   "metadata": {},
   "source": [
    "## Dummy classifier:"
   ]
  },
  {
   "cell_type": "code",
   "execution_count": 15,
   "id": "saved-governor",
   "metadata": {},
   "outputs": [],
   "source": [
    "from sklearn.dummy import DummyClassifier"
   ]
  },
  {
   "cell_type": "code",
   "execution_count": 16,
   "id": "fluid-compound",
   "metadata": {},
   "outputs": [],
   "source": [
    "dummy_clf = DummyClassifier(strategy=\"uniform\")"
   ]
  },
  {
   "cell_type": "code",
   "execution_count": 17,
   "id": "personal-dutch",
   "metadata": {
    "tags": []
   },
   "outputs": [
    {
     "data": {
      "text/plain": [
       "DummyClassifier(strategy='uniform')"
      ]
     },
     "execution_count": 17,
     "metadata": {},
     "output_type": "execute_result"
    }
   ],
   "source": [
    "dummy_clf.fit(x_train_norm, y_train.values.ravel())"
   ]
  },
  {
   "cell_type": "code",
   "execution_count": 20,
   "id": "terminal-drinking",
   "metadata": {},
   "outputs": [
    {
     "name": "stdout",
     "output_type": "stream",
     "text": [
      "Confusion matrix: \n",
      "\n"
     ]
    },
    {
     "data": {
      "image/png": "[encoded data removed]",
      "text/plain": [
       "<Figure size 432x288 with 2 Axes>"
      ]
     },
     "metadata": {
      "needs_background": "light"
     },
     "output_type": "display_data"
    },
    {
     "name": "stdout",
     "output_type": "stream",
     "text": [
      "Classification report: \n",
      "\n",
      "              precision    recall  f1-score   support\n",
      "\n",
      "          G1       0.22      0.33      0.26     33266\n",
      "          G2       0.42      0.33      0.37     64207\n",
      "          G3       0.36      0.33      0.35     54946\n",
      "\n",
      "    accuracy                           0.33    152419\n",
      "   macro avg       0.33      0.33      0.33    152419\n",
      "weighted avg       0.35      0.33      0.34    152419\n",
      "\n",
      "Micro-F1 score: \n",
      "\n",
      "0.33258320813021996\n",
      "Macro-F1 score:\n",
      "0.33258320813021996\n"
     ]
    }
   ],
   "source": [
    "prediction_test = dummy_clf.predict(x_test_norm)\n",
    "\n",
    "test_metrics = display_metrics(dummy_clf, \n",
    "                               x_test_norm,\n",
    "                               y_test, prediction_test)"
   ]
  },
  {
   "cell_type": "code",
   "execution_count": null,
   "id": "alternate-prevention",
   "metadata": {},
   "outputs": [],
   "source": []
  }
 ],
 "metadata": {
  "kernelspec": {
   "display_name": "Python 3",
   "language": "python",
   "name": "python3"
  },
  "language_info": {
   "codemirror_mode": {
    "name": "ipython",
    "version": 3
   },
   "file_extension": ".py",
   "mimetype": "text/x-python",
   "name": "python",
   "nbconvert_exporter": "python",
   "pygments_lexer": "ipython3",
   "version": "3.7.10"
  }
 },
 "nbformat": 4,
 "nbformat_minor": 5
}

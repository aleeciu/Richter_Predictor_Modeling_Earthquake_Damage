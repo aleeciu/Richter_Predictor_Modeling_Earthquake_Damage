{
 "cells": [
  {
   "cell_type": "code",
   "execution_count": 2,
   "id": "psychological-pepper",
   "metadata": {},
   "outputs": [],
   "source": [
    "import numpy as np\n",
    "import pandas as pd\n",
    "\n",
    "import tensorflow as tf\n",
    "from tensorflow import keras\n",
    "\n",
    "from sklearn.preprocessing import StandardScaler\n",
    "from sklearn.model_selection import train_test_split"
   ]
  },
  {
   "cell_type": "code",
   "execution_count": 20,
   "id": "happy-blast",
   "metadata": {},
   "outputs": [],
   "source": [
    "def scale(x_train, x_test):\n",
    "    scaler = StandardScaler()\n",
    "    scaler.fit(x_train)\n",
    "    x_train = pd.DataFrame(scaler.transform(x_train), \n",
    "                           index=x_train.index, \n",
    "                           columns=x_train.columns)\n",
    "\n",
    "    x_test = pd.DataFrame(scaler.transform(x_test),\n",
    "                          index=x_test.index, \n",
    "                          columns=x_test.columns)\n",
    "    return x_train, x_test\n",
    "\n",
    "def transform_label(y):\n",
    "    labeled_y = y.apply(lambda row: int(row.damage_grade.split('_')[1])-1, 1).values\n",
    "    return labeled_y\n",
    "\n",
    "def transform_3label(y):\n",
    "    labeled_y = y.apply(lambda row: int(row.damage_grade[1])-1, 1).values\n",
    "    return labeled_y\n",
    "\n",
    "def create_nn(lr, end_neurons=5):\n",
    "    model = keras.Sequential()\n",
    "    model.add(keras.layers.Dense(500, input_shape=(80,), activation='relu'))\n",
    "    model.add(keras.layers.Dense(200, activation='relu'))\n",
    "    model.add(keras.layers.Dense(100, activation='relu'))\n",
    "    model.add(keras.layers.Dense(50, activation='relu'))\n",
    "    model.add(keras.layers.Dense(20, activation='relu'))\n",
    "    model.add(keras.layers.Dense(10, activation='relu'))\n",
    "    model.add(keras.layers.Dense(end_neurons, activation='softmax'))\n",
    "\n",
    "    #stochastic gradient descent\n",
    "    sgd = keras.optimizers.SGD(lr=lr)\n",
    "    model.compile(loss='sparse_categorical_crossentropy', optimizer=sgd, metrics=['accuracy'])\n",
    "    return model"
   ]
  },
  {
   "cell_type": "code",
   "execution_count": 4,
   "id": "adjusted-steel",
   "metadata": {},
   "outputs": [],
   "source": [
    "lr=0.05\n",
    "epochs=15\n",
    "batch_size=60\n",
    "\n",
    "nn_model = create_nn(lr)"
   ]
  },
  {
   "cell_type": "markdown",
   "id": "following-circulation",
   "metadata": {},
   "source": [
    "## 1. 5-classes classification:"
   ]
  },
  {
   "cell_type": "markdown",
   "id": "timely-migration",
   "metadata": {},
   "source": [
    "### 1.1. Original set"
   ]
  },
  {
   "cell_type": "code",
   "execution_count": 4,
   "id": "excellent-distribution",
   "metadata": {},
   "outputs": [],
   "source": [
    "x = pd.read_csv('../Project_data/processed_data/x_post_preproc.csv', index_col='building_id')\n",
    "y = pd.read_csv('../Project_data/processed_data/y_post_preproc.csv', index_col='building_id')"
   ]
  },
  {
   "cell_type": "code",
   "execution_count": 8,
   "id": "curious-classics",
   "metadata": {},
   "outputs": [],
   "source": [
    "x_train, x_test = train_test_split(x, test_size=0.2, random_state=42)\n",
    "y_train, y_test = transform_label(y.loc[x_train.index]), transform_label(y.loc[x_test.index])"
   ]
  },
  {
   "cell_type": "code",
   "execution_count": 9,
   "id": "amended-awareness",
   "metadata": {},
   "outputs": [],
   "source": [
    "x_train_norm, x_test_norm = scale(x_train, x_test)"
   ]
  },
  {
   "cell_type": "code",
   "execution_count": 10,
   "id": "professional-swift",
   "metadata": {},
   "outputs": [
    {
     "name": "stdout",
     "output_type": "stream",
     "text": [
      "Train on 609675 samples, validate on 152419 samples\n",
      "Epoch 1/15\n",
      "609675/609675 [==============================] - 55s 90us/sample - loss: 1.0615 - accuracy: 0.5492 - val_loss: 1.0482 - val_accuracy: 0.5517\n",
      "Epoch 2/15\n",
      "609675/609675 [==============================] - 51s 84us/sample - loss: 1.0310 - accuracy: 0.5622 - val_loss: 1.0317 - val_accuracy: 0.5597\n",
      "Epoch 3/15\n",
      "609675/609675 [==============================] - 53s 87us/sample - loss: 1.0197 - accuracy: 0.5670 - val_loss: 1.0317 - val_accuracy: 0.5567\n",
      "Epoch 4/15\n",
      "609675/609675 [==============================] - 48s 79us/sample - loss: 1.0116 - accuracy: 0.5699 - val_loss: 1.0246 - val_accuracy: 0.5615\n",
      "Epoch 5/15\n",
      "609675/609675 [==============================] - 48s 78us/sample - loss: 1.0051 - accuracy: 0.5727 - val_loss: 1.0164 - val_accuracy: 0.5666\n",
      "Epoch 6/15\n",
      "609675/609675 [==============================] - 48s 79us/sample - loss: 0.9993 - accuracy: 0.5756 - val_loss: 1.0247 - val_accuracy: 0.5624\n",
      "Epoch 7/15\n",
      "609675/609675 [==============================] - 47s 77us/sample - loss: 0.9941 - accuracy: 0.5773 - val_loss: 1.0140 - val_accuracy: 0.5680\n",
      "Epoch 8/15\n",
      "609675/609675 [==============================] - 52s 85us/sample - loss: 0.9896 - accuracy: 0.5792 - val_loss: 1.0143 - val_accuracy: 0.5664\n",
      "Epoch 9/15\n",
      "609675/609675 [==============================] - 49s 81us/sample - loss: 0.9851 - accuracy: 0.5816 - val_loss: 1.0163 - val_accuracy: 0.5674\n",
      "Epoch 10/15\n",
      "609675/609675 [==============================] - 51s 84us/sample - loss: 0.9816 - accuracy: 0.5832 - val_loss: 1.0137 - val_accuracy: 0.5703\n",
      "Epoch 11/15\n",
      "609675/609675 [==============================] - 52s 85us/sample - loss: 0.9774 - accuracy: 0.5850 - val_loss: 1.0106 - val_accuracy: 0.5701\n",
      "Epoch 12/15\n",
      "609675/609675 [==============================] - 50s 82us/sample - loss: 0.9736 - accuracy: 0.5869 - val_loss: 1.0096 - val_accuracy: 0.5701\n",
      "Epoch 13/15\n",
      "609675/609675 [==============================] - 52s 86us/sample - loss: 0.9701 - accuracy: 0.5884 - val_loss: 1.0087 - val_accuracy: 0.5723\n",
      "Epoch 14/15\n",
      "609675/609675 [==============================] - 51s 83us/sample - loss: 0.9670 - accuracy: 0.5901 - val_loss: 1.0068 - val_accuracy: 0.5731\n",
      "Epoch 15/15\n",
      "609675/609675 [==============================] - 52s 85us/sample - loss: 0.9637 - accuracy: 0.5911 - val_loss: 1.0075 - val_accuracy: 0.5714\n"
     ]
    },
    {
     "data": {
      "text/plain": [
       "<tensorflow.python.keras.callbacks.History at 0x25513c8d7c8>"
      ]
     },
     "execution_count": 10,
     "metadata": {},
     "output_type": "execute_result"
    }
   ],
   "source": [
    "nn_model.fit(x_train_norm, y_train, \n",
    "             epochs=epochs, batch_size=batch_size,\n",
    "             validation_data=(x_test_norm, y_test))"
   ]
  },
  {
   "cell_type": "code",
   "execution_count": 20,
   "id": "inside-prime",
   "metadata": {},
   "outputs": [],
   "source": [
    "preds = nn_model.predict_proba(x_test_norm)"
   ]
  },
  {
   "cell_type": "code",
   "execution_count": 22,
   "id": "smoking-transcription",
   "metadata": {},
   "outputs": [],
   "source": [
    "pd.DataFrame(preds).to_csv('../Project_data/results/nn_preds_orig.csv')"
   ]
  },
  {
   "cell_type": "markdown",
   "id": "numeric-intake",
   "metadata": {},
   "source": [
    "### 1.2 Resampled set:"
   ]
  },
  {
   "cell_type": "markdown",
   "id": "greek-crime",
   "metadata": {},
   "source": [
    "#### 1.2.1 Over-sampling with SMOTENC"
   ]
  },
  {
   "cell_type": "code",
   "execution_count": 23,
   "id": "shared-channel",
   "metadata": {},
   "outputs": [
    {
     "name": "stderr",
     "output_type": "stream",
     "text": [
      "C:\\Users\\aleciu\\Anaconda3\\envs\\ml\\lib\\site-packages\\numpy\\lib\\arraysetops.py:580: FutureWarning: elementwise comparison failed; returning scalar instead, but in the future will perform elementwise comparison\n",
      "  mask |= (ar1 == a)\n"
     ]
    }
   ],
   "source": [
    "x_train = pd.read_csv('../Project_data/processed_data/resampling/x_train_smotenc.csv', index_col=0).reset_index(drop=True)\n",
    "y_train = pd.read_csv('../Project_data/processed_data/resampling/y_train_smotenc.csv', index_col=0).reset_index(drop=True)"
   ]
  },
  {
   "cell_type": "code",
   "execution_count": 24,
   "id": "about-munich",
   "metadata": {},
   "outputs": [],
   "source": [
    "y_train = transform_label(y_train)"
   ]
  },
  {
   "cell_type": "code",
   "execution_count": 25,
   "id": "reliable-ambassador",
   "metadata": {},
   "outputs": [],
   "source": [
    "x_train_norm, x_test_norm = scale(x_train, x_test)"
   ]
  },
  {
   "cell_type": "code",
   "execution_count": 26,
   "id": "restricted-brass",
   "metadata": {},
   "outputs": [
    {
     "name": "stdout",
     "output_type": "stream",
     "text": [
      "Train on 1104100 samples, validate on 152419 samples\n",
      "Epoch 1/15\n",
      "1104100/1104100 [==============================] - 98s 88us/sample - loss: 0.9287 - accuracy: 0.6050 - val_loss: 1.0216 - val_accuracy: 0.5671\n",
      "Epoch 2/15\n",
      "1104100/1104100 [==============================] - 92s 84us/sample - loss: 0.9015 - accuracy: 0.6146 - val_loss: 1.0176 - val_accuracy: 0.5671\n",
      "Epoch 3/15\n",
      "1104100/1104100 [==============================] - 88s 80us/sample - loss: 0.8899 - accuracy: 0.6193 - val_loss: 1.0203 - val_accuracy: 0.5672\n",
      "Epoch 4/15\n",
      "1104100/1104100 [==============================] - 88s 80us/sample - loss: 0.8825 - accuracy: 0.6221 - val_loss: 1.0174 - val_accuracy: 0.5694\n",
      "Epoch 5/15\n",
      "1104100/1104100 [==============================] - 91s 82us/sample - loss: 0.8769 - accuracy: 0.6242 - val_loss: 1.0099 - val_accuracy: 0.5715\n",
      "Epoch 6/15\n",
      "1104100/1104100 [==============================] - 103s 93us/sample - loss: 0.8725 - accuracy: 0.6264 - val_loss: 1.0066 - val_accuracy: 0.5728\n",
      "Epoch 7/15\n",
      "1104100/1104100 [==============================] - 102s 92us/sample - loss: 0.8688 - accuracy: 0.6280 - val_loss: 1.0180 - val_accuracy: 0.5706\n",
      "Epoch 8/15\n",
      "1104100/1104100 [==============================] - 100s 90us/sample - loss: 0.8655 - accuracy: 0.6298 - val_loss: 1.0148 - val_accuracy: 0.5704\n",
      "Epoch 9/15\n",
      "1104100/1104100 [==============================] - 89s 80us/sample - loss: 0.8625 - accuracy: 0.6308 - val_loss: 1.0055 - val_accuracy: 0.5744\n",
      "Epoch 10/15\n",
      "1104100/1104100 [==============================] - 90s 81us/sample - loss: 0.8600 - accuracy: 0.6320 - val_loss: 1.0090 - val_accuracy: 0.5740\n",
      "Epoch 11/15\n",
      "1104100/1104100 [==============================] - 92s 84us/sample - loss: 0.8574 - accuracy: 0.6334 - val_loss: 1.0100 - val_accuracy: 0.5734\n",
      "Epoch 12/15\n",
      "1104100/1104100 [==============================] - 92s 84us/sample - loss: 0.8547 - accuracy: 0.6339 - val_loss: 1.0156 - val_accuracy: 0.5713\n",
      "Epoch 13/15\n",
      "1104100/1104100 [==============================] - 93s 84us/sample - loss: 0.8525 - accuracy: 0.6353 - val_loss: 1.0099 - val_accuracy: 0.5735\n",
      "Epoch 14/15\n",
      "1104100/1104100 [==============================] - 90s 82us/sample - loss: 0.8505 - accuracy: 0.6359 - val_loss: 1.0166 - val_accuracy: 0.5754\n",
      "Epoch 15/15\n",
      "1104100/1104100 [==============================] - 82s 74us/sample - loss: 0.8483 - accuracy: 0.6368 - val_loss: 1.0111 - val_accuracy: 0.5750\n"
     ]
    },
    {
     "data": {
      "text/plain": [
       "<tensorflow.python.keras.callbacks.History at 0x2551369f688>"
      ]
     },
     "execution_count": 26,
     "metadata": {},
     "output_type": "execute_result"
    }
   ],
   "source": [
    "nn_model.fit(x_train_norm, y_train, \n",
    "             epochs=epochs, batch_size=batch_size,\n",
    "             validation_data=(x_test_norm, y_test))"
   ]
  },
  {
   "cell_type": "code",
   "execution_count": 27,
   "id": "instrumental-combat",
   "metadata": {},
   "outputs": [],
   "source": [
    "preds = nn_model.predict(x_test_norm)"
   ]
  },
  {
   "cell_type": "code",
   "execution_count": 28,
   "id": "expired-little",
   "metadata": {},
   "outputs": [],
   "source": [
    "pd.DataFrame(preds).to_csv('../Project_data/results/nn_preds_smotenc.csv')"
   ]
  },
  {
   "cell_type": "markdown",
   "id": "reported-aircraft",
   "metadata": {},
   "source": [
    "### 1.2.2 Under-sampling: cleaning oversampled dataset"
   ]
  },
  {
   "cell_type": "markdown",
   "id": "economic-bottom",
   "metadata": {},
   "source": [
    "#### 1.2.2.1 Tomek"
   ]
  },
  {
   "cell_type": "code",
   "execution_count": 29,
   "id": "settled-examination",
   "metadata": {},
   "outputs": [],
   "source": [
    "x_train = pd.read_csv('../Project_data/processed_data/resampling/x_train_smotenc_tmk.csv', index_col=0).reset_index(drop=True)\n",
    "y_train = pd.read_csv('../Project_data/processed_data/resampling/y_train_smotenc_tmk.csv', index_col=0).reset_index(drop=True)"
   ]
  },
  {
   "cell_type": "code",
   "execution_count": 30,
   "id": "native-personal",
   "metadata": {},
   "outputs": [],
   "source": [
    "y_train = transform_label(y_train)"
   ]
  },
  {
   "cell_type": "code",
   "execution_count": 31,
   "id": "sunrise-authentication",
   "metadata": {},
   "outputs": [],
   "source": [
    "x_train_norm, x_test_norm = scale(x_train, x_test)"
   ]
  },
  {
   "cell_type": "code",
   "execution_count": 32,
   "id": "scenic-remedy",
   "metadata": {
    "tags": []
   },
   "outputs": [
    {
     "name": "stdout",
     "output_type": "stream",
     "text": [
      "Train on 897616 samples, validate on 152419 samples\n",
      "Epoch 1/15\n",
      "897616/897616 [==============================] - 73s 82us/sample - loss: 0.8221 - accuracy: 0.6497 - val_loss: 1.0210 - val_accuracy: 0.5735\n",
      "Epoch 2/15\n",
      "897616/897616 [==============================] - 77s 85us/sample - loss: 0.8188 - accuracy: 0.6513 - val_loss: 1.0308 - val_accuracy: 0.5683\n",
      "Epoch 3/15\n",
      "897616/897616 [==============================] - 76s 85us/sample - loss: 0.8165 - accuracy: 0.6522 - val_loss: 1.0292 - val_accuracy: 0.5727\n",
      "Epoch 4/15\n",
      "897616/897616 [==============================] - 75s 84us/sample - loss: 0.8143 - accuracy: 0.6535 - val_loss: 1.0304 - val_accuracy: 0.5721\n",
      "Epoch 5/15\n",
      "897616/897616 [==============================] - 77s 85us/sample - loss: 0.8124 - accuracy: 0.6543 - val_loss: 1.0274 - val_accuracy: 0.5692\n",
      "Epoch 6/15\n",
      "897616/897616 [==============================] - 76s 85us/sample - loss: 0.8105 - accuracy: 0.6550 - val_loss: 1.0335 - val_accuracy: 0.5662\n",
      "Epoch 7/15\n",
      "897616/897616 [==============================] - 75s 83us/sample - loss: 0.8086 - accuracy: 0.6559 - val_loss: 1.0280 - val_accuracy: 0.5700\n",
      "Epoch 8/15\n",
      "897616/897616 [==============================] - 72s 80us/sample - loss: 0.8066 - accuracy: 0.6569 - val_loss: 1.0304 - val_accuracy: 0.5715\n",
      "Epoch 9/15\n",
      "897616/897616 [==============================] - 72s 80us/sample - loss: 0.8050 - accuracy: 0.6579 - val_loss: 1.0326 - val_accuracy: 0.5705\n",
      "Epoch 10/15\n",
      "897616/897616 [==============================] - 75s 84us/sample - loss: 0.8032 - accuracy: 0.6584 - val_loss: 1.0326 - val_accuracy: 0.5692\n",
      "Epoch 11/15\n",
      "897616/897616 [==============================] - 75s 83us/sample - loss: 0.8018 - accuracy: 0.6588 - val_loss: 1.0264 - val_accuracy: 0.5729\n",
      "Epoch 12/15\n",
      "897616/897616 [==============================] - 72s 80us/sample - loss: 0.8003 - accuracy: 0.6594 - val_loss: 1.0339 - val_accuracy: 0.5690\n",
      "Epoch 13/15\n",
      "897616/897616 [==============================] - 74s 83us/sample - loss: 0.7987 - accuracy: 0.6606 - val_loss: 1.0397 - val_accuracy: 0.5693\n",
      "Epoch 14/15\n",
      "897616/897616 [==============================] - 71s 79us/sample - loss: 0.7973 - accuracy: 0.6609 - val_loss: 1.0356 - val_accuracy: 0.5703\n",
      "Epoch 15/15\n",
      "897616/897616 [==============================] - 74s 83us/sample - loss: 0.7959 - accuracy: 0.6615 - val_loss: 1.0460 - val_accuracy: 0.5689\n"
     ]
    },
    {
     "data": {
      "text/plain": [
       "<tensorflow.python.keras.callbacks.History at 0x2551370b5c8>"
      ]
     },
     "execution_count": 32,
     "metadata": {},
     "output_type": "execute_result"
    }
   ],
   "source": [
    "nn_model.fit(x_train_norm, y_train,\n",
    "             epochs=epochs, batch_size=batch_size,\n",
    "             validation_data=(x_test_norm, y_test))"
   ]
  },
  {
   "cell_type": "code",
   "execution_count": 33,
   "id": "floppy-proportion",
   "metadata": {},
   "outputs": [],
   "source": [
    "preds = nn_model.predict(x_test_norm)"
   ]
  },
  {
   "cell_type": "code",
   "execution_count": 35,
   "id": "going-bubble",
   "metadata": {},
   "outputs": [],
   "source": [
    "pd.DataFrame(preds).to_csv('../Project_data/results/nn_preds_smotenc_tmk.csv')"
   ]
  },
  {
   "cell_type": "markdown",
   "id": "medical-timber",
   "metadata": {},
   "source": [
    "#### 1.2.2.2 ENN"
   ]
  },
  {
   "cell_type": "code",
   "execution_count": 36,
   "id": "sunrise-sauce",
   "metadata": {},
   "outputs": [],
   "source": [
    "x_train = pd.read_csv('../Project_data/processed_data/resampling/x_train_smotenc_enn.csv', index_col=0).reset_index(drop=True)\n",
    "y_train = pd.read_csv('../Project_data/processed_data/resampling/y_train_smotenc_enn.csv', index_col=0).reset_index(drop=True)"
   ]
  },
  {
   "cell_type": "code",
   "execution_count": 37,
   "id": "defined-knight",
   "metadata": {},
   "outputs": [],
   "source": [
    "y_train = transform_label(y_train)"
   ]
  },
  {
   "cell_type": "code",
   "execution_count": 38,
   "id": "second-utilization",
   "metadata": {},
   "outputs": [],
   "source": [
    "x_train_norm, x_test_norm = scale(x_train, x_test)"
   ]
  },
  {
   "cell_type": "code",
   "execution_count": 39,
   "id": "minor-diary",
   "metadata": {},
   "outputs": [
    {
     "name": "stdout",
     "output_type": "stream",
     "text": [
      "Train on 526650 samples, validate on 152419 samples\n",
      "Epoch 1/15\n",
      "526650/526650 [==============================] - 48s 91us/sample - loss: 0.7151 - accuracy: 0.6968 - val_loss: 1.1118 - val_accuracy: 0.5532\n",
      "Epoch 2/15\n",
      "526650/526650 [==============================] - 46s 87us/sample - loss: 0.7052 - accuracy: 0.7009 - val_loss: 1.1119 - val_accuracy: 0.5553\n",
      "Epoch 3/15\n",
      "526650/526650 [==============================] - 47s 90us/sample - loss: 0.7000 - accuracy: 0.7035 - val_loss: 1.1234 - val_accuracy: 0.5507\n",
      "Epoch 4/15\n",
      "526650/526650 [==============================] - 48s 91us/sample - loss: 0.6963 - accuracy: 0.7057 - val_loss: 1.1433 - val_accuracy: 0.5493\n",
      "Epoch 5/15\n",
      "526650/526650 [==============================] - 48s 90us/sample - loss: 0.6930 - accuracy: 0.7067 - val_loss: 1.1436 - val_accuracy: 0.5501\n",
      "Epoch 6/15\n",
      "526650/526650 [==============================] - 49s 93us/sample - loss: 0.6899 - accuracy: 0.7078 - val_loss: 1.1637 - val_accuracy: 0.5491\n",
      "Epoch 7/15\n",
      "526650/526650 [==============================] - 48s 92us/sample - loss: 0.6872 - accuracy: 0.7098 - val_loss: 1.1669 - val_accuracy: 0.5530\n",
      "Epoch 8/15\n",
      "526650/526650 [==============================] - 47s 90us/sample - loss: 0.6843 - accuracy: 0.7110 - val_loss: 1.2032 - val_accuracy: 0.5445\n",
      "Epoch 9/15\n",
      "526650/526650 [==============================] - 48s 91us/sample - loss: 0.6819 - accuracy: 0.7121 - val_loss: 1.1911 - val_accuracy: 0.5433\n",
      "Epoch 10/15\n",
      "526650/526650 [==============================] - 46s 87us/sample - loss: 0.6795 - accuracy: 0.7129 - val_loss: 1.1370 - val_accuracy: 0.5513\n",
      "Epoch 11/15\n",
      "526650/526650 [==============================] - 47s 89us/sample - loss: 0.6772 - accuracy: 0.7138 - val_loss: 1.1521 - val_accuracy: 0.5473\n",
      "Epoch 12/15\n",
      "526650/526650 [==============================] - 48s 91us/sample - loss: 0.6747 - accuracy: 0.7151 - val_loss: 1.1800 - val_accuracy: 0.5519\n",
      "Epoch 13/15\n",
      "526650/526650 [==============================] - 47s 89us/sample - loss: 0.6727 - accuracy: 0.7158 - val_loss: 1.1729 - val_accuracy: 0.5518\n",
      "Epoch 14/15\n",
      "526650/526650 [==============================] - 46s 87us/sample - loss: 0.6703 - accuracy: 0.7170 - val_loss: 1.1640 - val_accuracy: 0.5541\n",
      "Epoch 15/15\n",
      "526650/526650 [==============================] - 47s 90us/sample - loss: 0.6685 - accuracy: 0.7183 - val_loss: 1.1930 - val_accuracy: 0.5442\n"
     ]
    },
    {
     "data": {
      "text/plain": [
       "<tensorflow.python.keras.callbacks.History at 0x25513f9c0c8>"
      ]
     },
     "execution_count": 39,
     "metadata": {},
     "output_type": "execute_result"
    }
   ],
   "source": [
    "nn_model.fit(x_train_norm, y_train, \n",
    "             epochs=epochs, batch_size=batch_size,\n",
    "             validation_data=(x_test_norm, y_test))"
   ]
  },
  {
   "cell_type": "code",
   "execution_count": 40,
   "id": "satisfied-slovenia",
   "metadata": {},
   "outputs": [],
   "source": [
    "preds = nn_model.predict(x_test_norm)"
   ]
  },
  {
   "cell_type": "code",
   "execution_count": 41,
   "id": "bronze-phoenix",
   "metadata": {},
   "outputs": [],
   "source": [
    "pd.DataFrame(preds).to_csv('../Project_data/results/nn_preds_smotenc_enn.csv')"
   ]
  },
  {
   "cell_type": "markdown",
   "id": "mysterious-budapest",
   "metadata": {},
   "source": [
    "## 2. 3-classes classification:"
   ]
  },
  {
   "cell_type": "code",
   "execution_count": 21,
   "id": "exempt-tuner",
   "metadata": {},
   "outputs": [],
   "source": [
    "nn_model = create_nn(lr, end_neurons=3)"
   ]
  },
  {
   "cell_type": "code",
   "execution_count": 5,
   "id": "difficult-relationship",
   "metadata": {},
   "outputs": [],
   "source": [
    "x = pd.read_csv('../Project_data/processed_data/x_post_preproc.csv', index_col='building_id')\n",
    "y = pd.read_csv('../Project_data/processed_data/y_post_preproc_3lab.csv', index_col='building_id')"
   ]
  },
  {
   "cell_type": "code",
   "execution_count": 6,
   "id": "applied-depression",
   "metadata": {},
   "outputs": [],
   "source": [
    "x_train, x_test = train_test_split(x, test_size=0.2, random_state=42)\n",
    "y_train, y_test = transform_3label(y.loc[x_train.index]), transform_3label(y.loc[x_test.index])"
   ]
  },
  {
   "cell_type": "code",
   "execution_count": 16,
   "id": "addressed-perry",
   "metadata": {},
   "outputs": [],
   "source": [
    "x_train_norm, x_test_norm = scale(x_train, x_test)"
   ]
  },
  {
   "cell_type": "code",
   "execution_count": 24,
   "id": "victorian-redhead",
   "metadata": {},
   "outputs": [
    {
     "name": "stdout",
     "output_type": "stream",
     "text": [
      "Train on 609675 samples, validate on 152419 samples\n",
      "Epoch 1/15\n",
      "609675/609675 [==============================] - 41s 68us/sample - loss: 0.6779 - accuracy: 0.6969 - val_loss: 0.6798 - val_accuracy: 0.6960\n",
      "Epoch 2/15\n",
      "609675/609675 [==============================] - 41s 67us/sample - loss: 0.6710 - accuracy: 0.7002 - val_loss: 0.6724 - val_accuracy: 0.6995curacy: 0.70\n",
      "Epoch 3/15\n",
      "609675/609675 [==============================] - 40s 65us/sample - loss: 0.6661 - accuracy: 0.7028 - val_loss: 0.6718 - val_accuracy: 0.6988\n",
      "Epoch 4/15\n",
      "609675/609675 [==============================] - 40s 65us/sample - loss: 0.6619 - accuracy: 0.7042 - val_loss: 0.6722 - val_accuracy: 0.6987\n",
      "Epoch 5/15\n",
      "609675/609675 [==============================] - 41s 67us/sample - loss: 0.6580 - accuracy: 0.7056 - val_loss: 0.6890 - val_accuracy: 0.6901\n",
      "Epoch 6/15\n",
      "609675/609675 [==============================] - 41s 68us/sample - loss: 0.6549 - accuracy: 0.7072 - val_loss: 0.6678 - val_accuracy: 0.7022\n",
      "Epoch 7/15\n",
      "609675/609675 [==============================] - 42s 69us/sample - loss: 0.6516 - accuracy: 0.7088 - val_loss: 0.6688 - val_accuracy: 0.7031\n",
      "Epoch 8/15\n",
      "609675/609675 [==============================] - 42s 68us/sample - loss: 0.6485 - accuracy: 0.7101 - val_loss: 0.6644 - val_accuracy: 0.7022\n",
      "Epoch 9/15\n",
      "609675/609675 [==============================] - 42s 68us/sample - loss: 0.6457 - accuracy: 0.7114 - val_loss: 0.6708 - val_accuracy: 0.6996\n",
      "Epoch 10/15\n",
      "609675/609675 [==============================] - 41s 68us/sample - loss: 0.6430 - accuracy: 0.7127 - val_loss: 0.6643 - val_accuracy: 0.7032\n",
      "Epoch 11/15\n",
      "609675/609675 [==============================] - 43s 70us/sample - loss: 0.6404 - accuracy: 0.7139 - val_loss: 0.6644 - val_accuracy: 0.7014\n",
      "Epoch 12/15\n",
      "609675/609675 [==============================] - 41s 67us/sample - loss: 0.6379 - accuracy: 0.7152 - val_loss: 0.6619 - val_accuracy: 0.7048\n",
      "Epoch 13/15\n",
      "609675/609675 [==============================] - 43s 70us/sample - loss: 0.6355 - accuracy: 0.7167 - val_loss: 0.6623 - val_accuracy: 0.7044\n",
      "Epoch 14/15\n",
      "609675/609675 [==============================] - 42s 70us/sample - loss: 0.6331 - accuracy: 0.7174 - val_loss: 0.6664 - val_accuracy: 0.7034\n",
      "Epoch 15/15\n",
      "609675/609675 [==============================] - 41s 68us/sample - loss: 0.6309 - accuracy: 0.7184 - val_loss: 0.6650 - val_accuracy: 0.7050\n"
     ]
    },
    {
     "data": {
      "text/plain": [
       "<tensorflow.python.keras.callbacks.History at 0x27102671708>"
      ]
     },
     "execution_count": 24,
     "metadata": {},
     "output_type": "execute_result"
    }
   ],
   "source": [
    "nn_model.fit(x_train_norm, y_train, \n",
    "             epochs=epochs, batch_size=batch_size,\n",
    "             validation_data=(x_test_norm, y_test))"
   ]
  },
  {
   "cell_type": "code",
   "execution_count": 25,
   "id": "dated-jumping",
   "metadata": {},
   "outputs": [],
   "source": [
    "preds = nn_model.predict(x_test_norm)"
   ]
  },
  {
   "cell_type": "code",
   "execution_count": 28,
   "id": "internal-visiting",
   "metadata": {},
   "outputs": [],
   "source": [
    "pd.DataFrame(preds).to_csv('results/nn_preds_3cls.csv')"
   ]
  },
  {
   "cell_type": "code",
   "execution_count": null,
   "id": "upper-inside",
   "metadata": {},
   "outputs": [],
   "source": []
  }
 ],
 "metadata": {
  "kernelspec": {
   "display_name": "Python 3",
   "language": "python",
   "name": "python3"
  },
  "language_info": {
   "codemirror_mode": {
    "name": "ipython",
    "version": 3
   },
   "file_extension": ".py",
   "mimetype": "text/x-python",
   "name": "python",
   "nbconvert_exporter": "python",
   "pygments_lexer": "ipython3",
   "version": "3.7.10"
  }
 },
 "nbformat": 4,
 "nbformat_minor": 5
}
